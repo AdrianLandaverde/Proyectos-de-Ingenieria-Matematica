{
 "cells": [
  {
   "cell_type": "markdown",
   "id": "17f3eea2",
   "metadata": {},
   "source": [
    "# 01. Librerías y Datos"
   ]
  },
  {
   "cell_type": "code",
   "execution_count": 1,
   "id": "e3408959",
   "metadata": {},
   "outputs": [],
   "source": [
    "import numpy as np\n",
    "from keras.models import Sequential\n",
    "from keras.layers import Dense\n",
    "import pandas as pd\n",
    "import plotly.express as px"
   ]
  },
  {
   "cell_type": "code",
   "execution_count": 2,
   "id": "f4e7712f",
   "metadata": {},
   "outputs": [
    {
     "name": "stdout",
     "output_type": "stream",
     "text": [
      "['I optimize algorithms for maximum efficiency and performance.\\n', 'Optimization techniques enhance the speed and accuracy of computations.\\n', 'Every iteration brings me closer to optimal solutions.\\n', 'I balance trade-offs to find the most effective strategies.\\n', 'Optimized processes streamline workflows and improve outcomes.\\n', 'I extract valuable insights from complex datasets with ease.\\n', 'Data science empowers me to make informed decisions confidently.\\n', 'Every data point tells a story waiting to be discovered.\\n', 'I transform raw data into actionable knowledge with precision.\\n', 'Data science is the key to unlocking hidden potentials.\\n', 'I pioneer the future with groundbreaking AI innovations.\\n', 'Artificial intelligence amplifies human capabilities and creativity.\\n', 'Every AI model represents a leap forward in intelligence.\\n', \"I harness AI to solve humanity's most pressing challenges.\\n\", 'AI revolutionizes industries, driving progress and innovation globally.\\n', 'I secure information with unbreakable cryptographic techniques.\\n', 'Cryptography safeguards privacy and protects sensitive data.\\n', 'Every encryption strengthens the shield against cyber threats.\\n', 'I ensure confidentiality, integrity, and authenticity in communications.\\n', 'Cryptographic protocols form the backbone of secure digital transactions.\\n', 'I advance healthcare with cutting-edge biomedicine technologies.\\n', 'Biomedicine transforms lives through innovative treatments and therapies.\\n', 'Every discovery brings hope for better health outcomes.\\n', 'I bridge the gap between research and real-world applications.\\n', 'Biomedical breakthroughs pave the way for a healthier future.']\n"
     ]
    }
   ],
   "source": [
    "file = open('topics_data.txt', 'r')\n",
    "royal_data = file.readlines()\n",
    "print(royal_data)\n",
    "file.close()"
   ]
  },
  {
   "cell_type": "markdown",
   "id": "1369aa51",
   "metadata": {},
   "source": [
    "# 02. Procesamiento de Texto\n"
   ]
  },
  {
   "cell_type": "markdown",
   "id": "04db9a01",
   "metadata": {},
   "source": [
    "Quitar saltos de línea"
   ]
  },
  {
   "cell_type": "code",
   "execution_count": 3,
   "id": "88af9298",
   "metadata": {},
   "outputs": [
    {
     "name": "stdout",
     "output_type": "stream",
     "text": [
      "['i optimize algorithms for maximum efficiency and performance.', 'optimization techniques enhance the speed and accuracy of computations.', 'every iteration brings me closer to optimal solutions.', 'i balance trade-offs to find the most effective strategies.', 'optimized processes streamline workflows and improve outcomes.', 'i extract valuable insights from complex datasets with ease.', 'data science empowers me to make informed decisions confidently.', 'every data point tells a story waiting to be discovered.', 'i transform raw data into actionable knowledge with precision.', 'data science is the key to unlocking hidden potentials.', 'i pioneer the future with groundbreaking ai innovations.', 'artificial intelligence amplifies human capabilities and creativity.', 'every ai model represents a leap forward in intelligence.', \"i harness ai to solve humanity's most pressing challenges.\", 'ai revolutionizes industries, driving progress and innovation globally.', 'i secure information with unbreakable cryptographic techniques.', 'cryptography safeguards privacy and protects sensitive data.', 'every encryption strengthens the shield against cyber threats.', 'i ensure confidentiality, integrity, and authenticity in communications.', 'cryptographic protocols form the backbone of secure digital transactions.', 'i advance healthcare with cutting-edge biomedicine technologies.', 'biomedicine transforms lives through innovative treatments and therapies.', 'every discovery brings hope for better health outcomes.', 'i bridge the gap between research and real-world applications.', 'biomedical breakthroughs pave the way for a healthier future.']\n"
     ]
    }
   ],
   "source": [
    "for i in range(len(royal_data)):\n",
    "    royal_data[i] = royal_data[i].lower().replace('\\n', '')\n",
    "\n",
    "print(royal_data)                                                      \n"
   ]
  },
  {
   "cell_type": "markdown",
   "id": "933cf6ab",
   "metadata": {},
   "source": [
    "Quitar stopwords"
   ]
  },
  {
   "cell_type": "code",
   "execution_count": 4,
   "id": "236da810",
   "metadata": {},
   "outputs": [
    {
     "name": "stdout",
     "output_type": "stream",
     "text": [
      "[['i', 'optimize', 'algorithms', 'for', 'maximum', 'efficiency', 'performance.'], ['optimization', 'techniques', 'enhance', 'speed', 'accuracy', 'of', 'computations.'], ['every', 'iteration', 'brings', 'me', 'closer', 'to', 'optimal', 'solutions.'], ['i', 'balance', 'trade-offs', 'to', 'find', 'most', 'effective', 'strategies.'], ['optimized', 'processes', 'streamline', 'workflows', 'improve', 'outcomes.'], ['i', 'extract', 'valuable', 'insights', 'from', 'complex', 'datasets', 'with', 'ease.'], ['data', 'science', 'empowers', 'me', 'to', 'make', 'informed', 'decisions', 'confidently.'], ['every', 'data', 'point', 'tells', 'story', 'waiting', 'to', 'discovered.'], ['i', 'transform', 'raw', 'data', 'into', 'actionable', 'knowledge', 'with', 'precision.'], ['data', 'science', 'key', 'to', 'unlocking', 'hidden', 'potentials.'], ['i', 'pioneer', 'future', 'with', 'groundbreaking', 'ai', 'innovations.'], ['artificial', 'intelligence', 'amplifies', 'human', 'capabilities', 'creativity.'], ['every', 'ai', 'model', 'represents', 'leap', 'forward', 'in', 'intelligence.'], ['i', 'harness', 'ai', 'to', 'solve', \"humanity's\", 'most', 'pressing', 'challenges.'], ['ai', 'revolutionizes', 'industries,', 'driving', 'progress', 'innovation', 'globally.'], ['i', 'secure', 'information', 'with', 'unbreakable', 'cryptographic', 'techniques.'], ['cryptography', 'safeguards', 'privacy', 'protects', 'sensitive', 'data.'], ['every', 'encryption', 'strengthens', 'shield', 'against', 'cyber', 'threats.'], ['i', 'ensure', 'confidentiality,', 'integrity,', 'authenticity', 'in', 'communications.'], ['cryptographic', 'protocols', 'form', 'backbone', 'of', 'secure', 'digital', 'transactions.'], ['i', 'advance', 'healthcare', 'with', 'cutting-edge', 'biomedicine', 'technologies.'], ['biomedicine', 'transforms', 'lives', 'through', 'innovative', 'treatments', 'therapies.'], ['every', 'discovery', 'brings', 'hope', 'for', 'better', 'health', 'outcomes.'], ['i', 'bridge', 'gap', 'between', 'research', 'real-world', 'applications.'], ['biomedical', 'breakthroughs', 'pave', 'way', 'for', 'healthier', 'future.']]\n"
     ]
    }
   ],
   "source": [
    "stopwords = ['the', 'is', 'will', 'be', 'a', 'only', 'can', 'their', 'now', 'and', 'at', 'it', ',', '.']\n",
    "\n",
    "filtered_data = []\n",
    "for sent in royal_data:\n",
    "    temp = []\n",
    "    for word in sent.split():\n",
    "        if word not in stopwords:\n",
    "            temp.append(word)\n",
    "    filtered_data.append(temp)\n",
    "\n",
    "print(filtered_data)"
   ]
  },
  {
   "cell_type": "markdown",
   "id": "9c060ff9",
   "metadata": {},
   "source": [
    "# Crear  bigrams\n"
   ]
  },
  {
   "cell_type": "code",
   "execution_count": 5,
   "id": "feb52dc7",
   "metadata": {},
   "outputs": [
    {
     "name": "stdout",
     "output_type": "stream",
     "text": [
      "[['i', 'optimize'], ['optimize', 'i'], ['i', 'algorithms'], ['algorithms', 'i'], ['i', 'for'], ['for', 'i'], ['i', 'maximum'], ['maximum', 'i'], ['i', 'efficiency'], ['efficiency', 'i'], ['i', 'performance.'], ['performance.', 'i'], ['optimize', 'algorithms'], ['algorithms', 'optimize'], ['optimize', 'for'], ['for', 'optimize'], ['optimize', 'maximum'], ['maximum', 'optimize'], ['optimize', 'efficiency'], ['efficiency', 'optimize'], ['optimize', 'performance.'], ['performance.', 'optimize'], ['algorithms', 'for'], ['for', 'algorithms'], ['algorithms', 'maximum'], ['maximum', 'algorithms'], ['algorithms', 'efficiency'], ['efficiency', 'algorithms'], ['algorithms', 'performance.'], ['performance.', 'algorithms'], ['for', 'maximum'], ['maximum', 'for'], ['for', 'efficiency'], ['efficiency', 'for'], ['for', 'performance.'], ['performance.', 'for'], ['maximum', 'efficiency'], ['efficiency', 'maximum'], ['maximum', 'performance.'], ['performance.', 'maximum'], ['efficiency', 'performance.'], ['performance.', 'efficiency'], ['optimization', 'techniques'], ['techniques', 'optimization'], ['optimization', 'enhance'], ['enhance', 'optimization'], ['optimization', 'speed'], ['speed', 'optimization'], ['optimization', 'accuracy'], ['accuracy', 'optimization'], ['optimization', 'of'], ['of', 'optimization'], ['optimization', 'computations.'], ['computations.', 'optimization'], ['techniques', 'enhance'], ['enhance', 'techniques'], ['techniques', 'speed'], ['speed', 'techniques'], ['techniques', 'accuracy'], ['accuracy', 'techniques'], ['techniques', 'of'], ['of', 'techniques'], ['techniques', 'computations.'], ['computations.', 'techniques'], ['enhance', 'speed'], ['speed', 'enhance'], ['enhance', 'accuracy'], ['accuracy', 'enhance'], ['enhance', 'of'], ['of', 'enhance'], ['enhance', 'computations.'], ['computations.', 'enhance'], ['speed', 'accuracy'], ['accuracy', 'speed'], ['speed', 'of'], ['of', 'speed'], ['speed', 'computations.'], ['computations.', 'speed'], ['accuracy', 'of'], ['of', 'accuracy'], ['accuracy', 'computations.'], ['computations.', 'accuracy'], ['of', 'computations.'], ['computations.', 'of'], ['every', 'iteration'], ['iteration', 'every'], ['every', 'brings'], ['brings', 'every'], ['every', 'me'], ['me', 'every'], ['every', 'closer'], ['closer', 'every'], ['every', 'to'], ['to', 'every'], ['every', 'optimal'], ['optimal', 'every'], ['every', 'solutions.'], ['solutions.', 'every'], ['iteration', 'brings'], ['brings', 'iteration'], ['iteration', 'me'], ['me', 'iteration'], ['iteration', 'closer'], ['closer', 'iteration'], ['iteration', 'to'], ['to', 'iteration'], ['iteration', 'optimal'], ['optimal', 'iteration'], ['iteration', 'solutions.'], ['solutions.', 'iteration'], ['brings', 'me'], ['me', 'brings'], ['brings', 'closer'], ['closer', 'brings'], ['brings', 'to'], ['to', 'brings'], ['brings', 'optimal'], ['optimal', 'brings'], ['brings', 'solutions.'], ['solutions.', 'brings'], ['me', 'closer'], ['closer', 'me'], ['me', 'to'], ['to', 'me'], ['me', 'optimal'], ['optimal', 'me'], ['me', 'solutions.'], ['solutions.', 'me'], ['closer', 'to'], ['to', 'closer'], ['closer', 'optimal'], ['optimal', 'closer'], ['closer', 'solutions.'], ['solutions.', 'closer'], ['to', 'optimal'], ['optimal', 'to'], ['to', 'solutions.'], ['solutions.', 'to'], ['optimal', 'solutions.'], ['solutions.', 'optimal'], ['i', 'balance'], ['balance', 'i'], ['i', 'trade-offs'], ['trade-offs', 'i'], ['i', 'to'], ['to', 'i'], ['i', 'find'], ['find', 'i'], ['i', 'most'], ['most', 'i'], ['i', 'effective'], ['effective', 'i'], ['i', 'strategies.'], ['strategies.', 'i'], ['balance', 'trade-offs'], ['trade-offs', 'balance'], ['balance', 'to'], ['to', 'balance'], ['balance', 'find'], ['find', 'balance'], ['balance', 'most'], ['most', 'balance'], ['balance', 'effective'], ['effective', 'balance'], ['balance', 'strategies.'], ['strategies.', 'balance'], ['trade-offs', 'to'], ['to', 'trade-offs'], ['trade-offs', 'find'], ['find', 'trade-offs'], ['trade-offs', 'most'], ['most', 'trade-offs'], ['trade-offs', 'effective'], ['effective', 'trade-offs'], ['trade-offs', 'strategies.'], ['strategies.', 'trade-offs'], ['to', 'find'], ['find', 'to'], ['to', 'most'], ['most', 'to'], ['to', 'effective'], ['effective', 'to'], ['to', 'strategies.'], ['strategies.', 'to'], ['find', 'most'], ['most', 'find'], ['find', 'effective'], ['effective', 'find'], ['find', 'strategies.'], ['strategies.', 'find'], ['most', 'effective'], ['effective', 'most'], ['most', 'strategies.'], ['strategies.', 'most'], ['effective', 'strategies.'], ['strategies.', 'effective'], ['optimized', 'processes'], ['processes', 'optimized'], ['optimized', 'streamline'], ['streamline', 'optimized'], ['optimized', 'workflows'], ['workflows', 'optimized'], ['optimized', 'improve'], ['improve', 'optimized'], ['optimized', 'outcomes.'], ['outcomes.', 'optimized'], ['processes', 'streamline'], ['streamline', 'processes'], ['processes', 'workflows'], ['workflows', 'processes'], ['processes', 'improve'], ['improve', 'processes'], ['processes', 'outcomes.'], ['outcomes.', 'processes'], ['streamline', 'workflows'], ['workflows', 'streamline'], ['streamline', 'improve'], ['improve', 'streamline'], ['streamline', 'outcomes.'], ['outcomes.', 'streamline'], ['workflows', 'improve'], ['improve', 'workflows'], ['workflows', 'outcomes.'], ['outcomes.', 'workflows'], ['improve', 'outcomes.'], ['outcomes.', 'improve'], ['i', 'extract'], ['extract', 'i'], ['i', 'valuable'], ['valuable', 'i'], ['i', 'insights'], ['insights', 'i'], ['i', 'from'], ['from', 'i'], ['i', 'complex'], ['complex', 'i'], ['i', 'datasets'], ['datasets', 'i'], ['i', 'with'], ['with', 'i'], ['i', 'ease.'], ['ease.', 'i'], ['extract', 'valuable'], ['valuable', 'extract'], ['extract', 'insights'], ['insights', 'extract'], ['extract', 'from'], ['from', 'extract'], ['extract', 'complex'], ['complex', 'extract'], ['extract', 'datasets'], ['datasets', 'extract'], ['extract', 'with'], ['with', 'extract'], ['extract', 'ease.'], ['ease.', 'extract'], ['valuable', 'insights'], ['insights', 'valuable'], ['valuable', 'from'], ['from', 'valuable'], ['valuable', 'complex'], ['complex', 'valuable'], ['valuable', 'datasets'], ['datasets', 'valuable'], ['valuable', 'with'], ['with', 'valuable'], ['valuable', 'ease.'], ['ease.', 'valuable'], ['insights', 'from'], ['from', 'insights'], ['insights', 'complex'], ['complex', 'insights'], ['insights', 'datasets'], ['datasets', 'insights'], ['insights', 'with'], ['with', 'insights'], ['insights', 'ease.'], ['ease.', 'insights'], ['from', 'complex'], ['complex', 'from'], ['from', 'datasets'], ['datasets', 'from'], ['from', 'with'], ['with', 'from'], ['from', 'ease.'], ['ease.', 'from'], ['complex', 'datasets'], ['datasets', 'complex'], ['complex', 'with'], ['with', 'complex'], ['complex', 'ease.'], ['ease.', 'complex'], ['datasets', 'with'], ['with', 'datasets'], ['datasets', 'ease.'], ['ease.', 'datasets'], ['with', 'ease.'], ['ease.', 'with'], ['data', 'science'], ['science', 'data'], ['data', 'empowers'], ['empowers', 'data'], ['data', 'me'], ['me', 'data'], ['data', 'to'], ['to', 'data'], ['data', 'make'], ['make', 'data'], ['data', 'informed'], ['informed', 'data'], ['data', 'decisions'], ['decisions', 'data'], ['data', 'confidently.'], ['confidently.', 'data'], ['science', 'empowers'], ['empowers', 'science'], ['science', 'me'], ['me', 'science'], ['science', 'to'], ['to', 'science'], ['science', 'make'], ['make', 'science'], ['science', 'informed'], ['informed', 'science'], ['science', 'decisions'], ['decisions', 'science'], ['science', 'confidently.'], ['confidently.', 'science'], ['empowers', 'me'], ['me', 'empowers'], ['empowers', 'to'], ['to', 'empowers'], ['empowers', 'make'], ['make', 'empowers'], ['empowers', 'informed'], ['informed', 'empowers'], ['empowers', 'decisions'], ['decisions', 'empowers'], ['empowers', 'confidently.'], ['confidently.', 'empowers'], ['me', 'to'], ['to', 'me'], ['me', 'make'], ['make', 'me'], ['me', 'informed'], ['informed', 'me'], ['me', 'decisions'], ['decisions', 'me'], ['me', 'confidently.'], ['confidently.', 'me'], ['to', 'make'], ['make', 'to'], ['to', 'informed'], ['informed', 'to'], ['to', 'decisions'], ['decisions', 'to'], ['to', 'confidently.'], ['confidently.', 'to'], ['make', 'informed'], ['informed', 'make'], ['make', 'decisions'], ['decisions', 'make'], ['make', 'confidently.'], ['confidently.', 'make'], ['informed', 'decisions'], ['decisions', 'informed'], ['informed', 'confidently.'], ['confidently.', 'informed'], ['decisions', 'confidently.'], ['confidently.', 'decisions'], ['every', 'data'], ['data', 'every'], ['every', 'point'], ['point', 'every'], ['every', 'tells'], ['tells', 'every'], ['every', 'story'], ['story', 'every'], ['every', 'waiting'], ['waiting', 'every'], ['every', 'to'], ['to', 'every'], ['every', 'discovered.'], ['discovered.', 'every'], ['data', 'point'], ['point', 'data'], ['data', 'tells'], ['tells', 'data'], ['data', 'story'], ['story', 'data'], ['data', 'waiting'], ['waiting', 'data'], ['data', 'to'], ['to', 'data'], ['data', 'discovered.'], ['discovered.', 'data'], ['point', 'tells'], ['tells', 'point'], ['point', 'story'], ['story', 'point'], ['point', 'waiting'], ['waiting', 'point'], ['point', 'to'], ['to', 'point'], ['point', 'discovered.'], ['discovered.', 'point'], ['tells', 'story'], ['story', 'tells'], ['tells', 'waiting'], ['waiting', 'tells'], ['tells', 'to'], ['to', 'tells'], ['tells', 'discovered.'], ['discovered.', 'tells'], ['story', 'waiting'], ['waiting', 'story'], ['story', 'to'], ['to', 'story'], ['story', 'discovered.'], ['discovered.', 'story'], ['waiting', 'to'], ['to', 'waiting'], ['waiting', 'discovered.'], ['discovered.', 'waiting'], ['to', 'discovered.'], ['discovered.', 'to'], ['i', 'transform'], ['transform', 'i'], ['i', 'raw'], ['raw', 'i'], ['i', 'data'], ['data', 'i'], ['i', 'into'], ['into', 'i'], ['i', 'actionable'], ['actionable', 'i'], ['i', 'knowledge'], ['knowledge', 'i'], ['i', 'with'], ['with', 'i'], ['i', 'precision.'], ['precision.', 'i'], ['transform', 'raw'], ['raw', 'transform'], ['transform', 'data'], ['data', 'transform'], ['transform', 'into'], ['into', 'transform'], ['transform', 'actionable'], ['actionable', 'transform'], ['transform', 'knowledge'], ['knowledge', 'transform'], ['transform', 'with'], ['with', 'transform'], ['transform', 'precision.'], ['precision.', 'transform'], ['raw', 'data'], ['data', 'raw'], ['raw', 'into'], ['into', 'raw'], ['raw', 'actionable'], ['actionable', 'raw'], ['raw', 'knowledge'], ['knowledge', 'raw'], ['raw', 'with'], ['with', 'raw'], ['raw', 'precision.'], ['precision.', 'raw'], ['data', 'into'], ['into', 'data'], ['data', 'actionable'], ['actionable', 'data'], ['data', 'knowledge'], ['knowledge', 'data'], ['data', 'with'], ['with', 'data'], ['data', 'precision.'], ['precision.', 'data'], ['into', 'actionable'], ['actionable', 'into'], ['into', 'knowledge'], ['knowledge', 'into'], ['into', 'with'], ['with', 'into'], ['into', 'precision.'], ['precision.', 'into'], ['actionable', 'knowledge'], ['knowledge', 'actionable'], ['actionable', 'with'], ['with', 'actionable'], ['actionable', 'precision.'], ['precision.', 'actionable'], ['knowledge', 'with'], ['with', 'knowledge'], ['knowledge', 'precision.'], ['precision.', 'knowledge'], ['with', 'precision.'], ['precision.', 'with'], ['data', 'science'], ['science', 'data'], ['data', 'key'], ['key', 'data'], ['data', 'to'], ['to', 'data'], ['data', 'unlocking'], ['unlocking', 'data'], ['data', 'hidden'], ['hidden', 'data'], ['data', 'potentials.'], ['potentials.', 'data'], ['science', 'key'], ['key', 'science'], ['science', 'to'], ['to', 'science'], ['science', 'unlocking'], ['unlocking', 'science'], ['science', 'hidden'], ['hidden', 'science'], ['science', 'potentials.'], ['potentials.', 'science'], ['key', 'to'], ['to', 'key'], ['key', 'unlocking'], ['unlocking', 'key'], ['key', 'hidden'], ['hidden', 'key'], ['key', 'potentials.'], ['potentials.', 'key'], ['to', 'unlocking'], ['unlocking', 'to'], ['to', 'hidden'], ['hidden', 'to'], ['to', 'potentials.'], ['potentials.', 'to'], ['unlocking', 'hidden'], ['hidden', 'unlocking'], ['unlocking', 'potentials.'], ['potentials.', 'unlocking'], ['hidden', 'potentials.'], ['potentials.', 'hidden'], ['i', 'pioneer'], ['pioneer', 'i'], ['i', 'future'], ['future', 'i'], ['i', 'with'], ['with', 'i'], ['i', 'groundbreaking'], ['groundbreaking', 'i'], ['i', 'ai'], ['ai', 'i'], ['i', 'innovations.'], ['innovations.', 'i'], ['pioneer', 'future'], ['future', 'pioneer'], ['pioneer', 'with'], ['with', 'pioneer'], ['pioneer', 'groundbreaking'], ['groundbreaking', 'pioneer'], ['pioneer', 'ai'], ['ai', 'pioneer'], ['pioneer', 'innovations.'], ['innovations.', 'pioneer'], ['future', 'with'], ['with', 'future'], ['future', 'groundbreaking'], ['groundbreaking', 'future'], ['future', 'ai'], ['ai', 'future'], ['future', 'innovations.'], ['innovations.', 'future'], ['with', 'groundbreaking'], ['groundbreaking', 'with'], ['with', 'ai'], ['ai', 'with'], ['with', 'innovations.'], ['innovations.', 'with'], ['groundbreaking', 'ai'], ['ai', 'groundbreaking'], ['groundbreaking', 'innovations.'], ['innovations.', 'groundbreaking'], ['ai', 'innovations.'], ['innovations.', 'ai'], ['artificial', 'intelligence'], ['intelligence', 'artificial'], ['artificial', 'amplifies'], ['amplifies', 'artificial'], ['artificial', 'human'], ['human', 'artificial'], ['artificial', 'capabilities'], ['capabilities', 'artificial'], ['artificial', 'creativity.'], ['creativity.', 'artificial'], ['intelligence', 'amplifies'], ['amplifies', 'intelligence'], ['intelligence', 'human'], ['human', 'intelligence'], ['intelligence', 'capabilities'], ['capabilities', 'intelligence'], ['intelligence', 'creativity.'], ['creativity.', 'intelligence'], ['amplifies', 'human'], ['human', 'amplifies'], ['amplifies', 'capabilities'], ['capabilities', 'amplifies'], ['amplifies', 'creativity.'], ['creativity.', 'amplifies'], ['human', 'capabilities'], ['capabilities', 'human'], ['human', 'creativity.'], ['creativity.', 'human'], ['capabilities', 'creativity.'], ['creativity.', 'capabilities'], ['every', 'ai'], ['ai', 'every'], ['every', 'model'], ['model', 'every'], ['every', 'represents'], ['represents', 'every'], ['every', 'leap'], ['leap', 'every'], ['every', 'forward'], ['forward', 'every'], ['every', 'in'], ['in', 'every'], ['every', 'intelligence.'], ['intelligence.', 'every'], ['ai', 'model'], ['model', 'ai'], ['ai', 'represents'], ['represents', 'ai'], ['ai', 'leap'], ['leap', 'ai'], ['ai', 'forward'], ['forward', 'ai'], ['ai', 'in'], ['in', 'ai'], ['ai', 'intelligence.'], ['intelligence.', 'ai'], ['model', 'represents'], ['represents', 'model'], ['model', 'leap'], ['leap', 'model'], ['model', 'forward'], ['forward', 'model'], ['model', 'in'], ['in', 'model'], ['model', 'intelligence.'], ['intelligence.', 'model'], ['represents', 'leap'], ['leap', 'represents'], ['represents', 'forward'], ['forward', 'represents'], ['represents', 'in'], ['in', 'represents'], ['represents', 'intelligence.'], ['intelligence.', 'represents'], ['leap', 'forward'], ['forward', 'leap'], ['leap', 'in'], ['in', 'leap'], ['leap', 'intelligence.'], ['intelligence.', 'leap'], ['forward', 'in'], ['in', 'forward'], ['forward', 'intelligence.'], ['intelligence.', 'forward'], ['in', 'intelligence.'], ['intelligence.', 'in'], ['i', 'harness'], ['harness', 'i'], ['i', 'ai'], ['ai', 'i'], ['i', 'to'], ['to', 'i'], ['i', 'solve'], ['solve', 'i'], ['i', \"humanity's\"], [\"humanity's\", 'i'], ['i', 'most'], ['most', 'i'], ['i', 'pressing'], ['pressing', 'i'], ['i', 'challenges.'], ['challenges.', 'i'], ['harness', 'ai'], ['ai', 'harness'], ['harness', 'to'], ['to', 'harness'], ['harness', 'solve'], ['solve', 'harness'], ['harness', \"humanity's\"], [\"humanity's\", 'harness'], ['harness', 'most'], ['most', 'harness'], ['harness', 'pressing'], ['pressing', 'harness'], ['harness', 'challenges.'], ['challenges.', 'harness'], ['ai', 'to'], ['to', 'ai'], ['ai', 'solve'], ['solve', 'ai'], ['ai', \"humanity's\"], [\"humanity's\", 'ai'], ['ai', 'most'], ['most', 'ai'], ['ai', 'pressing'], ['pressing', 'ai'], ['ai', 'challenges.'], ['challenges.', 'ai'], ['to', 'solve'], ['solve', 'to'], ['to', \"humanity's\"], [\"humanity's\", 'to'], ['to', 'most'], ['most', 'to'], ['to', 'pressing'], ['pressing', 'to'], ['to', 'challenges.'], ['challenges.', 'to'], ['solve', \"humanity's\"], [\"humanity's\", 'solve'], ['solve', 'most'], ['most', 'solve'], ['solve', 'pressing'], ['pressing', 'solve'], ['solve', 'challenges.'], ['challenges.', 'solve'], [\"humanity's\", 'most'], ['most', \"humanity's\"], [\"humanity's\", 'pressing'], ['pressing', \"humanity's\"], [\"humanity's\", 'challenges.'], ['challenges.', \"humanity's\"], ['most', 'pressing'], ['pressing', 'most'], ['most', 'challenges.'], ['challenges.', 'most'], ['pressing', 'challenges.'], ['challenges.', 'pressing'], ['ai', 'revolutionizes'], ['revolutionizes', 'ai'], ['ai', 'industries,'], ['industries,', 'ai'], ['ai', 'driving'], ['driving', 'ai'], ['ai', 'progress'], ['progress', 'ai'], ['ai', 'innovation'], ['innovation', 'ai'], ['ai', 'globally.'], ['globally.', 'ai'], ['revolutionizes', 'industries,'], ['industries,', 'revolutionizes'], ['revolutionizes', 'driving'], ['driving', 'revolutionizes'], ['revolutionizes', 'progress'], ['progress', 'revolutionizes'], ['revolutionizes', 'innovation'], ['innovation', 'revolutionizes'], ['revolutionizes', 'globally.'], ['globally.', 'revolutionizes'], ['industries,', 'driving'], ['driving', 'industries,'], ['industries,', 'progress'], ['progress', 'industries,'], ['industries,', 'innovation'], ['innovation', 'industries,'], ['industries,', 'globally.'], ['globally.', 'industries,'], ['driving', 'progress'], ['progress', 'driving'], ['driving', 'innovation'], ['innovation', 'driving'], ['driving', 'globally.'], ['globally.', 'driving'], ['progress', 'innovation'], ['innovation', 'progress'], ['progress', 'globally.'], ['globally.', 'progress'], ['innovation', 'globally.'], ['globally.', 'innovation'], ['i', 'secure'], ['secure', 'i'], ['i', 'information'], ['information', 'i'], ['i', 'with'], ['with', 'i'], ['i', 'unbreakable'], ['unbreakable', 'i'], ['i', 'cryptographic'], ['cryptographic', 'i'], ['i', 'techniques.'], ['techniques.', 'i'], ['secure', 'information'], ['information', 'secure'], ['secure', 'with'], ['with', 'secure'], ['secure', 'unbreakable'], ['unbreakable', 'secure'], ['secure', 'cryptographic'], ['cryptographic', 'secure'], ['secure', 'techniques.'], ['techniques.', 'secure'], ['information', 'with'], ['with', 'information'], ['information', 'unbreakable'], ['unbreakable', 'information'], ['information', 'cryptographic'], ['cryptographic', 'information'], ['information', 'techniques.'], ['techniques.', 'information'], ['with', 'unbreakable'], ['unbreakable', 'with'], ['with', 'cryptographic'], ['cryptographic', 'with'], ['with', 'techniques.'], ['techniques.', 'with'], ['unbreakable', 'cryptographic'], ['cryptographic', 'unbreakable'], ['unbreakable', 'techniques.'], ['techniques.', 'unbreakable'], ['cryptographic', 'techniques.'], ['techniques.', 'cryptographic'], ['cryptography', 'safeguards'], ['safeguards', 'cryptography'], ['cryptography', 'privacy'], ['privacy', 'cryptography'], ['cryptography', 'protects'], ['protects', 'cryptography'], ['cryptography', 'sensitive'], ['sensitive', 'cryptography'], ['cryptography', 'data.'], ['data.', 'cryptography'], ['safeguards', 'privacy'], ['privacy', 'safeguards'], ['safeguards', 'protects'], ['protects', 'safeguards'], ['safeguards', 'sensitive'], ['sensitive', 'safeguards'], ['safeguards', 'data.'], ['data.', 'safeguards'], ['privacy', 'protects'], ['protects', 'privacy'], ['privacy', 'sensitive'], ['sensitive', 'privacy'], ['privacy', 'data.'], ['data.', 'privacy'], ['protects', 'sensitive'], ['sensitive', 'protects'], ['protects', 'data.'], ['data.', 'protects'], ['sensitive', 'data.'], ['data.', 'sensitive'], ['every', 'encryption'], ['encryption', 'every'], ['every', 'strengthens'], ['strengthens', 'every'], ['every', 'shield'], ['shield', 'every'], ['every', 'against'], ['against', 'every'], ['every', 'cyber'], ['cyber', 'every'], ['every', 'threats.'], ['threats.', 'every'], ['encryption', 'strengthens'], ['strengthens', 'encryption'], ['encryption', 'shield'], ['shield', 'encryption'], ['encryption', 'against'], ['against', 'encryption'], ['encryption', 'cyber'], ['cyber', 'encryption'], ['encryption', 'threats.'], ['threats.', 'encryption'], ['strengthens', 'shield'], ['shield', 'strengthens'], ['strengthens', 'against'], ['against', 'strengthens'], ['strengthens', 'cyber'], ['cyber', 'strengthens'], ['strengthens', 'threats.'], ['threats.', 'strengthens'], ['shield', 'against'], ['against', 'shield'], ['shield', 'cyber'], ['cyber', 'shield'], ['shield', 'threats.'], ['threats.', 'shield'], ['against', 'cyber'], ['cyber', 'against'], ['against', 'threats.'], ['threats.', 'against'], ['cyber', 'threats.'], ['threats.', 'cyber'], ['i', 'ensure'], ['ensure', 'i'], ['i', 'confidentiality,'], ['confidentiality,', 'i'], ['i', 'integrity,'], ['integrity,', 'i'], ['i', 'authenticity'], ['authenticity', 'i'], ['i', 'in'], ['in', 'i'], ['i', 'communications.'], ['communications.', 'i'], ['ensure', 'confidentiality,'], ['confidentiality,', 'ensure'], ['ensure', 'integrity,'], ['integrity,', 'ensure'], ['ensure', 'authenticity'], ['authenticity', 'ensure'], ['ensure', 'in'], ['in', 'ensure'], ['ensure', 'communications.'], ['communications.', 'ensure'], ['confidentiality,', 'integrity,'], ['integrity,', 'confidentiality,'], ['confidentiality,', 'authenticity'], ['authenticity', 'confidentiality,'], ['confidentiality,', 'in'], ['in', 'confidentiality,'], ['confidentiality,', 'communications.'], ['communications.', 'confidentiality,'], ['integrity,', 'authenticity'], ['authenticity', 'integrity,'], ['integrity,', 'in'], ['in', 'integrity,'], ['integrity,', 'communications.'], ['communications.', 'integrity,'], ['authenticity', 'in'], ['in', 'authenticity'], ['authenticity', 'communications.'], ['communications.', 'authenticity'], ['in', 'communications.'], ['communications.', 'in'], ['cryptographic', 'protocols'], ['protocols', 'cryptographic'], ['cryptographic', 'form'], ['form', 'cryptographic'], ['cryptographic', 'backbone'], ['backbone', 'cryptographic'], ['cryptographic', 'of'], ['of', 'cryptographic'], ['cryptographic', 'secure'], ['secure', 'cryptographic'], ['cryptographic', 'digital'], ['digital', 'cryptographic'], ['cryptographic', 'transactions.'], ['transactions.', 'cryptographic'], ['protocols', 'form'], ['form', 'protocols'], ['protocols', 'backbone'], ['backbone', 'protocols'], ['protocols', 'of'], ['of', 'protocols'], ['protocols', 'secure'], ['secure', 'protocols'], ['protocols', 'digital'], ['digital', 'protocols'], ['protocols', 'transactions.'], ['transactions.', 'protocols'], ['form', 'backbone'], ['backbone', 'form'], ['form', 'of'], ['of', 'form'], ['form', 'secure'], ['secure', 'form'], ['form', 'digital'], ['digital', 'form'], ['form', 'transactions.'], ['transactions.', 'form'], ['backbone', 'of'], ['of', 'backbone'], ['backbone', 'secure'], ['secure', 'backbone'], ['backbone', 'digital'], ['digital', 'backbone'], ['backbone', 'transactions.'], ['transactions.', 'backbone'], ['of', 'secure'], ['secure', 'of'], ['of', 'digital'], ['digital', 'of'], ['of', 'transactions.'], ['transactions.', 'of'], ['secure', 'digital'], ['digital', 'secure'], ['secure', 'transactions.'], ['transactions.', 'secure'], ['digital', 'transactions.'], ['transactions.', 'digital'], ['i', 'advance'], ['advance', 'i'], ['i', 'healthcare'], ['healthcare', 'i'], ['i', 'with'], ['with', 'i'], ['i', 'cutting-edge'], ['cutting-edge', 'i'], ['i', 'biomedicine'], ['biomedicine', 'i'], ['i', 'technologies.'], ['technologies.', 'i'], ['advance', 'healthcare'], ['healthcare', 'advance'], ['advance', 'with'], ['with', 'advance'], ['advance', 'cutting-edge'], ['cutting-edge', 'advance'], ['advance', 'biomedicine'], ['biomedicine', 'advance'], ['advance', 'technologies.'], ['technologies.', 'advance'], ['healthcare', 'with'], ['with', 'healthcare'], ['healthcare', 'cutting-edge'], ['cutting-edge', 'healthcare'], ['healthcare', 'biomedicine'], ['biomedicine', 'healthcare'], ['healthcare', 'technologies.'], ['technologies.', 'healthcare'], ['with', 'cutting-edge'], ['cutting-edge', 'with'], ['with', 'biomedicine'], ['biomedicine', 'with'], ['with', 'technologies.'], ['technologies.', 'with'], ['cutting-edge', 'biomedicine'], ['biomedicine', 'cutting-edge'], ['cutting-edge', 'technologies.'], ['technologies.', 'cutting-edge'], ['biomedicine', 'technologies.'], ['technologies.', 'biomedicine'], ['biomedicine', 'transforms'], ['transforms', 'biomedicine'], ['biomedicine', 'lives'], ['lives', 'biomedicine'], ['biomedicine', 'through'], ['through', 'biomedicine'], ['biomedicine', 'innovative'], ['innovative', 'biomedicine'], ['biomedicine', 'treatments'], ['treatments', 'biomedicine'], ['biomedicine', 'therapies.'], ['therapies.', 'biomedicine'], ['transforms', 'lives'], ['lives', 'transforms'], ['transforms', 'through'], ['through', 'transforms'], ['transforms', 'innovative'], ['innovative', 'transforms'], ['transforms', 'treatments'], ['treatments', 'transforms'], ['transforms', 'therapies.'], ['therapies.', 'transforms'], ['lives', 'through'], ['through', 'lives'], ['lives', 'innovative'], ['innovative', 'lives'], ['lives', 'treatments'], ['treatments', 'lives'], ['lives', 'therapies.'], ['therapies.', 'lives'], ['through', 'innovative'], ['innovative', 'through'], ['through', 'treatments'], ['treatments', 'through'], ['through', 'therapies.'], ['therapies.', 'through'], ['innovative', 'treatments'], ['treatments', 'innovative'], ['innovative', 'therapies.'], ['therapies.', 'innovative'], ['treatments', 'therapies.'], ['therapies.', 'treatments'], ['every', 'discovery'], ['discovery', 'every'], ['every', 'brings'], ['brings', 'every'], ['every', 'hope'], ['hope', 'every'], ['every', 'for'], ['for', 'every'], ['every', 'better'], ['better', 'every'], ['every', 'health'], ['health', 'every'], ['every', 'outcomes.'], ['outcomes.', 'every'], ['discovery', 'brings'], ['brings', 'discovery'], ['discovery', 'hope'], ['hope', 'discovery'], ['discovery', 'for'], ['for', 'discovery'], ['discovery', 'better'], ['better', 'discovery'], ['discovery', 'health'], ['health', 'discovery'], ['discovery', 'outcomes.'], ['outcomes.', 'discovery'], ['brings', 'hope'], ['hope', 'brings'], ['brings', 'for'], ['for', 'brings'], ['brings', 'better'], ['better', 'brings'], ['brings', 'health'], ['health', 'brings'], ['brings', 'outcomes.'], ['outcomes.', 'brings'], ['hope', 'for'], ['for', 'hope'], ['hope', 'better'], ['better', 'hope'], ['hope', 'health'], ['health', 'hope'], ['hope', 'outcomes.'], ['outcomes.', 'hope'], ['for', 'better'], ['better', 'for'], ['for', 'health'], ['health', 'for'], ['for', 'outcomes.'], ['outcomes.', 'for'], ['better', 'health'], ['health', 'better'], ['better', 'outcomes.'], ['outcomes.', 'better'], ['health', 'outcomes.'], ['outcomes.', 'health'], ['i', 'bridge'], ['bridge', 'i'], ['i', 'gap'], ['gap', 'i'], ['i', 'between'], ['between', 'i'], ['i', 'research'], ['research', 'i'], ['i', 'real-world'], ['real-world', 'i'], ['i', 'applications.'], ['applications.', 'i'], ['bridge', 'gap'], ['gap', 'bridge'], ['bridge', 'between'], ['between', 'bridge'], ['bridge', 'research'], ['research', 'bridge'], ['bridge', 'real-world'], ['real-world', 'bridge'], ['bridge', 'applications.'], ['applications.', 'bridge'], ['gap', 'between'], ['between', 'gap'], ['gap', 'research'], ['research', 'gap'], ['gap', 'real-world'], ['real-world', 'gap'], ['gap', 'applications.'], ['applications.', 'gap'], ['between', 'research'], ['research', 'between'], ['between', 'real-world'], ['real-world', 'between'], ['between', 'applications.'], ['applications.', 'between'], ['research', 'real-world'], ['real-world', 'research'], ['research', 'applications.'], ['applications.', 'research'], ['real-world', 'applications.'], ['applications.', 'real-world'], ['biomedical', 'breakthroughs'], ['breakthroughs', 'biomedical'], ['biomedical', 'pave'], ['pave', 'biomedical'], ['biomedical', 'way'], ['way', 'biomedical'], ['biomedical', 'for'], ['for', 'biomedical'], ['biomedical', 'healthier'], ['healthier', 'biomedical'], ['biomedical', 'future.'], ['future.', 'biomedical'], ['breakthroughs', 'pave'], ['pave', 'breakthroughs'], ['breakthroughs', 'way'], ['way', 'breakthroughs'], ['breakthroughs', 'for'], ['for', 'breakthroughs'], ['breakthroughs', 'healthier'], ['healthier', 'breakthroughs'], ['breakthroughs', 'future.'], ['future.', 'breakthroughs'], ['pave', 'way'], ['way', 'pave'], ['pave', 'for'], ['for', 'pave'], ['pave', 'healthier'], ['healthier', 'pave'], ['pave', 'future.'], ['future.', 'pave'], ['way', 'for'], ['for', 'way'], ['way', 'healthier'], ['healthier', 'way'], ['way', 'future.'], ['future.', 'way'], ['for', 'healthier'], ['healthier', 'for'], ['for', 'future.'], ['future.', 'for'], ['healthier', 'future.'], ['future.', 'healthier']]\n"
     ]
    }
   ],
   "source": [
    "bigrams = []\n",
    "for words_list in filtered_data:\n",
    "    for i in range(len(words_list) - 1):\n",
    "        for j in range(i+1, len(words_list)):\n",
    "            bigrams.append([words_list[i], words_list[j]])\n",
    "            bigrams.append([words_list[j], words_list[i]])\n",
    "            \n",
    "\n",
    "print(bigrams)"
   ]
  },
  {
   "cell_type": "markdown",
   "id": "a9c73a57",
   "metadata": {},
   "source": [
    "Obtener palabras únicas"
   ]
  },
  {
   "cell_type": "code",
   "execution_count": 6,
   "id": "20547a7c",
   "metadata": {},
   "outputs": [
    {
     "name": "stdout",
     "output_type": "stream",
     "text": [
      "['accuracy', 'actionable', 'advance', 'against', 'ai', 'algorithms', 'amplifies', 'applications.', 'artificial', 'authenticity', 'backbone', 'balance', 'better', 'between', 'biomedical', 'biomedicine', 'breakthroughs', 'bridge', 'brings', 'capabilities', 'challenges.', 'closer', 'communications.', 'complex', 'computations.', 'confidentiality,', 'confidently.', 'creativity.', 'cryptographic', 'cryptography', 'cutting-edge', 'cyber', 'data', 'data.', 'datasets', 'decisions', 'digital', 'discovered.', 'discovery', 'driving', 'ease.', 'effective', 'efficiency', 'empowers', 'encryption', 'enhance', 'ensure', 'every', 'extract', 'find', 'for', 'form', 'forward', 'from', 'future', 'future.', 'gap', 'globally.', 'groundbreaking', 'harness', 'health', 'healthcare', 'healthier', 'hidden', 'hope', 'human', \"humanity's\", 'i', 'improve', 'in', 'industries,', 'information', 'informed', 'innovation', 'innovations.', 'innovative', 'insights', 'integrity,', 'intelligence', 'intelligence.', 'into', 'iteration', 'key', 'knowledge', 'leap', 'lives', 'make', 'maximum', 'me', 'model', 'most', 'of', 'optimal', 'optimization', 'optimize', 'optimized', 'outcomes.', 'pave', 'performance.', 'pioneer', 'point', 'potentials.', 'precision.', 'pressing', 'privacy', 'processes', 'progress', 'protects', 'protocols', 'raw', 'real-world', 'represents', 'research', 'revolutionizes', 'safeguards', 'science', 'secure', 'sensitive', 'shield', 'solutions.', 'solve', 'speed', 'story', 'strategies.', 'streamline', 'strengthens', 'techniques', 'techniques.', 'technologies.', 'tells', 'therapies.', 'threats.', 'through', 'to', 'trade-offs', 'transactions.', 'transform', 'transforms', 'treatments', 'unbreakable', 'unlocking', 'valuable', 'waiting', 'way', 'with', 'workflows']\n",
      "Total number of unique words are: 146\n"
     ]
    }
   ],
   "source": [
    "all_words = []\n",
    "for bi in bigrams:\n",
    "    all_words.extend(bi)\n",
    "\n",
    "all_words = list(set(all_words))\n",
    "all_words.sort()\n",
    "\n",
    "print(all_words)\n",
    "print(\"Total number of unique words are:\", len(all_words))"
   ]
  },
  {
   "cell_type": "markdown",
   "id": "2e20adfa",
   "metadata": {},
   "source": [
    "Crear diccionario de palabras"
   ]
  },
  {
   "cell_type": "code",
   "execution_count": 7,
   "id": "5e8da645",
   "metadata": {},
   "outputs": [
    {
     "name": "stdout",
     "output_type": "stream",
     "text": [
      "{'accuracy': 0, 'actionable': 1, 'advance': 2, 'against': 3, 'ai': 4, 'algorithms': 5, 'amplifies': 6, 'applications.': 7, 'artificial': 8, 'authenticity': 9, 'backbone': 10, 'balance': 11, 'better': 12, 'between': 13, 'biomedical': 14, 'biomedicine': 15, 'breakthroughs': 16, 'bridge': 17, 'brings': 18, 'capabilities': 19, 'challenges.': 20, 'closer': 21, 'communications.': 22, 'complex': 23, 'computations.': 24, 'confidentiality,': 25, 'confidently.': 26, 'creativity.': 27, 'cryptographic': 28, 'cryptography': 29, 'cutting-edge': 30, 'cyber': 31, 'data': 32, 'data.': 33, 'datasets': 34, 'decisions': 35, 'digital': 36, 'discovered.': 37, 'discovery': 38, 'driving': 39, 'ease.': 40, 'effective': 41, 'efficiency': 42, 'empowers': 43, 'encryption': 44, 'enhance': 45, 'ensure': 46, 'every': 47, 'extract': 48, 'find': 49, 'for': 50, 'form': 51, 'forward': 52, 'from': 53, 'future': 54, 'future.': 55, 'gap': 56, 'globally.': 57, 'groundbreaking': 58, 'harness': 59, 'health': 60, 'healthcare': 61, 'healthier': 62, 'hidden': 63, 'hope': 64, 'human': 65, \"humanity's\": 66, 'i': 67, 'improve': 68, 'in': 69, 'industries,': 70, 'information': 71, 'informed': 72, 'innovation': 73, 'innovations.': 74, 'innovative': 75, 'insights': 76, 'integrity,': 77, 'intelligence': 78, 'intelligence.': 79, 'into': 80, 'iteration': 81, 'key': 82, 'knowledge': 83, 'leap': 84, 'lives': 85, 'make': 86, 'maximum': 87, 'me': 88, 'model': 89, 'most': 90, 'of': 91, 'optimal': 92, 'optimization': 93, 'optimize': 94, 'optimized': 95, 'outcomes.': 96, 'pave': 97, 'performance.': 98, 'pioneer': 99, 'point': 100, 'potentials.': 101, 'precision.': 102, 'pressing': 103, 'privacy': 104, 'processes': 105, 'progress': 106, 'protects': 107, 'protocols': 108, 'raw': 109, 'real-world': 110, 'represents': 111, 'research': 112, 'revolutionizes': 113, 'safeguards': 114, 'science': 115, 'secure': 116, 'sensitive': 117, 'shield': 118, 'solutions.': 119, 'solve': 120, 'speed': 121, 'story': 122, 'strategies.': 123, 'streamline': 124, 'strengthens': 125, 'techniques': 126, 'techniques.': 127, 'technologies.': 128, 'tells': 129, 'therapies.': 130, 'threats.': 131, 'through': 132, 'to': 133, 'trade-offs': 134, 'transactions.': 135, 'transform': 136, 'transforms': 137, 'treatments': 138, 'unbreakable': 139, 'unlocking': 140, 'valuable': 141, 'waiting': 142, 'way': 143, 'with': 144, 'workflows': 145}\n"
     ]
    }
   ],
   "source": [
    "words_dict = {}\n",
    "\n",
    "counter = 0\n",
    "for word in all_words:\n",
    "    words_dict[word] = counter\n",
    "    counter += 1\n",
    "\n",
    "print(words_dict)"
   ]
  },
  {
   "cell_type": "markdown",
   "id": "3f911c7d",
   "metadata": {},
   "source": [
    "Aplicar one-hot encoding"
   ]
  },
  {
   "cell_type": "code",
   "execution_count": 8,
   "id": "7062308d",
   "metadata": {},
   "outputs": [
    {
     "name": "stdout",
     "output_type": "stream",
     "text": [
      "accuracy : [1. 0. 0. 0. 0. 0. 0. 0. 0. 0. 0. 0. 0. 0. 0. 0. 0. 0. 0. 0. 0. 0. 0. 0.\n",
      " 0. 0. 0. 0. 0. 0. 0. 0. 0. 0. 0. 0. 0. 0. 0. 0. 0. 0. 0. 0. 0. 0. 0. 0.\n",
      " 0. 0. 0. 0. 0. 0. 0. 0. 0. 0. 0. 0. 0. 0. 0. 0. 0. 0. 0. 0. 0. 0. 0. 0.\n",
      " 0. 0. 0. 0. 0. 0. 0. 0. 0. 0. 0. 0. 0. 0. 0. 0. 0. 0. 0. 0. 0. 0. 0. 0.\n",
      " 0. 0. 0. 0. 0. 0. 0. 0. 0. 0. 0. 0. 0. 0. 0. 0. 0. 0. 0. 0. 0. 0. 0. 0.\n",
      " 0. 0. 0. 0. 0. 0. 0. 0. 0. 0. 0. 0. 0. 0. 0. 0. 0. 0. 0. 0. 0. 0. 0. 0.\n",
      " 0. 0.]\n",
      "actionable : [0. 1. 0. 0. 0. 0. 0. 0. 0. 0. 0. 0. 0. 0. 0. 0. 0. 0. 0. 0. 0. 0. 0. 0.\n",
      " 0. 0. 0. 0. 0. 0. 0. 0. 0. 0. 0. 0. 0. 0. 0. 0. 0. 0. 0. 0. 0. 0. 0. 0.\n",
      " 0. 0. 0. 0. 0. 0. 0. 0. 0. 0. 0. 0. 0. 0. 0. 0. 0. 0. 0. 0. 0. 0. 0. 0.\n",
      " 0. 0. 0. 0. 0. 0. 0. 0. 0. 0. 0. 0. 0. 0. 0. 0. 0. 0. 0. 0. 0. 0. 0. 0.\n",
      " 0. 0. 0. 0. 0. 0. 0. 0. 0. 0. 0. 0. 0. 0. 0. 0. 0. 0. 0. 0. 0. 0. 0. 0.\n",
      " 0. 0. 0. 0. 0. 0. 0. 0. 0. 0. 0. 0. 0. 0. 0. 0. 0. 0. 0. 0. 0. 0. 0. 0.\n",
      " 0. 0.]\n",
      "advance : [0. 0. 1. 0. 0. 0. 0. 0. 0. 0. 0. 0. 0. 0. 0. 0. 0. 0. 0. 0. 0. 0. 0. 0.\n",
      " 0. 0. 0. 0. 0. 0. 0. 0. 0. 0. 0. 0. 0. 0. 0. 0. 0. 0. 0. 0. 0. 0. 0. 0.\n",
      " 0. 0. 0. 0. 0. 0. 0. 0. 0. 0. 0. 0. 0. 0. 0. 0. 0. 0. 0. 0. 0. 0. 0. 0.\n",
      " 0. 0. 0. 0. 0. 0. 0. 0. 0. 0. 0. 0. 0. 0. 0. 0. 0. 0. 0. 0. 0. 0. 0. 0.\n",
      " 0. 0. 0. 0. 0. 0. 0. 0. 0. 0. 0. 0. 0. 0. 0. 0. 0. 0. 0. 0. 0. 0. 0. 0.\n",
      " 0. 0. 0. 0. 0. 0. 0. 0. 0. 0. 0. 0. 0. 0. 0. 0. 0. 0. 0. 0. 0. 0. 0. 0.\n",
      " 0. 0.]\n",
      "against : [0. 0. 0. 1. 0. 0. 0. 0. 0. 0. 0. 0. 0. 0. 0. 0. 0. 0. 0. 0. 0. 0. 0. 0.\n",
      " 0. 0. 0. 0. 0. 0. 0. 0. 0. 0. 0. 0. 0. 0. 0. 0. 0. 0. 0. 0. 0. 0. 0. 0.\n",
      " 0. 0. 0. 0. 0. 0. 0. 0. 0. 0. 0. 0. 0. 0. 0. 0. 0. 0. 0. 0. 0. 0. 0. 0.\n",
      " 0. 0. 0. 0. 0. 0. 0. 0. 0. 0. 0. 0. 0. 0. 0. 0. 0. 0. 0. 0. 0. 0. 0. 0.\n",
      " 0. 0. 0. 0. 0. 0. 0. 0. 0. 0. 0. 0. 0. 0. 0. 0. 0. 0. 0. 0. 0. 0. 0. 0.\n",
      " 0. 0. 0. 0. 0. 0. 0. 0. 0. 0. 0. 0. 0. 0. 0. 0. 0. 0. 0. 0. 0. 0. 0. 0.\n",
      " 0. 0.]\n",
      "ai : [0. 0. 0. 0. 1. 0. 0. 0. 0. 0. 0. 0. 0. 0. 0. 0. 0. 0. 0. 0. 0. 0. 0. 0.\n",
      " 0. 0. 0. 0. 0. 0. 0. 0. 0. 0. 0. 0. 0. 0. 0. 0. 0. 0. 0. 0. 0. 0. 0. 0.\n",
      " 0. 0. 0. 0. 0. 0. 0. 0. 0. 0. 0. 0. 0. 0. 0. 0. 0. 0. 0. 0. 0. 0. 0. 0.\n",
      " 0. 0. 0. 0. 0. 0. 0. 0. 0. 0. 0. 0. 0. 0. 0. 0. 0. 0. 0. 0. 0. 0. 0. 0.\n",
      " 0. 0. 0. 0. 0. 0. 0. 0. 0. 0. 0. 0. 0. 0. 0. 0. 0. 0. 0. 0. 0. 0. 0. 0.\n",
      " 0. 0. 0. 0. 0. 0. 0. 0. 0. 0. 0. 0. 0. 0. 0. 0. 0. 0. 0. 0. 0. 0. 0. 0.\n",
      " 0. 0.]\n",
      "algorithms : [0. 0. 0. 0. 0. 1. 0. 0. 0. 0. 0. 0. 0. 0. 0. 0. 0. 0. 0. 0. 0. 0. 0. 0.\n",
      " 0. 0. 0. 0. 0. 0. 0. 0. 0. 0. 0. 0. 0. 0. 0. 0. 0. 0. 0. 0. 0. 0. 0. 0.\n",
      " 0. 0. 0. 0. 0. 0. 0. 0. 0. 0. 0. 0. 0. 0. 0. 0. 0. 0. 0. 0. 0. 0. 0. 0.\n",
      " 0. 0. 0. 0. 0. 0. 0. 0. 0. 0. 0. 0. 0. 0. 0. 0. 0. 0. 0. 0. 0. 0. 0. 0.\n",
      " 0. 0. 0. 0. 0. 0. 0. 0. 0. 0. 0. 0. 0. 0. 0. 0. 0. 0. 0. 0. 0. 0. 0. 0.\n",
      " 0. 0. 0. 0. 0. 0. 0. 0. 0. 0. 0. 0. 0. 0. 0. 0. 0. 0. 0. 0. 0. 0. 0. 0.\n",
      " 0. 0.]\n",
      "amplifies : [0. 0. 0. 0. 0. 0. 1. 0. 0. 0. 0. 0. 0. 0. 0. 0. 0. 0. 0. 0. 0. 0. 0. 0.\n",
      " 0. 0. 0. 0. 0. 0. 0. 0. 0. 0. 0. 0. 0. 0. 0. 0. 0. 0. 0. 0. 0. 0. 0. 0.\n",
      " 0. 0. 0. 0. 0. 0. 0. 0. 0. 0. 0. 0. 0. 0. 0. 0. 0. 0. 0. 0. 0. 0. 0. 0.\n",
      " 0. 0. 0. 0. 0. 0. 0. 0. 0. 0. 0. 0. 0. 0. 0. 0. 0. 0. 0. 0. 0. 0. 0. 0.\n",
      " 0. 0. 0. 0. 0. 0. 0. 0. 0. 0. 0. 0. 0. 0. 0. 0. 0. 0. 0. 0. 0. 0. 0. 0.\n",
      " 0. 0. 0. 0. 0. 0. 0. 0. 0. 0. 0. 0. 0. 0. 0. 0. 0. 0. 0. 0. 0. 0. 0. 0.\n",
      " 0. 0.]\n",
      "applications. : [0. 0. 0. 0. 0. 0. 0. 1. 0. 0. 0. 0. 0. 0. 0. 0. 0. 0. 0. 0. 0. 0. 0. 0.\n",
      " 0. 0. 0. 0. 0. 0. 0. 0. 0. 0. 0. 0. 0. 0. 0. 0. 0. 0. 0. 0. 0. 0. 0. 0.\n",
      " 0. 0. 0. 0. 0. 0. 0. 0. 0. 0. 0. 0. 0. 0. 0. 0. 0. 0. 0. 0. 0. 0. 0. 0.\n",
      " 0. 0. 0. 0. 0. 0. 0. 0. 0. 0. 0. 0. 0. 0. 0. 0. 0. 0. 0. 0. 0. 0. 0. 0.\n",
      " 0. 0. 0. 0. 0. 0. 0. 0. 0. 0. 0. 0. 0. 0. 0. 0. 0. 0. 0. 0. 0. 0. 0. 0.\n",
      " 0. 0. 0. 0. 0. 0. 0. 0. 0. 0. 0. 0. 0. 0. 0. 0. 0. 0. 0. 0. 0. 0. 0. 0.\n",
      " 0. 0.]\n",
      "artificial : [0. 0. 0. 0. 0. 0. 0. 0. 1. 0. 0. 0. 0. 0. 0. 0. 0. 0. 0. 0. 0. 0. 0. 0.\n",
      " 0. 0. 0. 0. 0. 0. 0. 0. 0. 0. 0. 0. 0. 0. 0. 0. 0. 0. 0. 0. 0. 0. 0. 0.\n",
      " 0. 0. 0. 0. 0. 0. 0. 0. 0. 0. 0. 0. 0. 0. 0. 0. 0. 0. 0. 0. 0. 0. 0. 0.\n",
      " 0. 0. 0. 0. 0. 0. 0. 0. 0. 0. 0. 0. 0. 0. 0. 0. 0. 0. 0. 0. 0. 0. 0. 0.\n",
      " 0. 0. 0. 0. 0. 0. 0. 0. 0. 0. 0. 0. 0. 0. 0. 0. 0. 0. 0. 0. 0. 0. 0. 0.\n",
      " 0. 0. 0. 0. 0. 0. 0. 0. 0. 0. 0. 0. 0. 0. 0. 0. 0. 0. 0. 0. 0. 0. 0. 0.\n",
      " 0. 0.]\n",
      "authenticity : [0. 0. 0. 0. 0. 0. 0. 0. 0. 1. 0. 0. 0. 0. 0. 0. 0. 0. 0. 0. 0. 0. 0. 0.\n",
      " 0. 0. 0. 0. 0. 0. 0. 0. 0. 0. 0. 0. 0. 0. 0. 0. 0. 0. 0. 0. 0. 0. 0. 0.\n",
      " 0. 0. 0. 0. 0. 0. 0. 0. 0. 0. 0. 0. 0. 0. 0. 0. 0. 0. 0. 0. 0. 0. 0. 0.\n",
      " 0. 0. 0. 0. 0. 0. 0. 0. 0. 0. 0. 0. 0. 0. 0. 0. 0. 0. 0. 0. 0. 0. 0. 0.\n",
      " 0. 0. 0. 0. 0. 0. 0. 0. 0. 0. 0. 0. 0. 0. 0. 0. 0. 0. 0. 0. 0. 0. 0. 0.\n",
      " 0. 0. 0. 0. 0. 0. 0. 0. 0. 0. 0. 0. 0. 0. 0. 0. 0. 0. 0. 0. 0. 0. 0. 0.\n",
      " 0. 0.]\n",
      "backbone : [0. 0. 0. 0. 0. 0. 0. 0. 0. 0. 1. 0. 0. 0. 0. 0. 0. 0. 0. 0. 0. 0. 0. 0.\n",
      " 0. 0. 0. 0. 0. 0. 0. 0. 0. 0. 0. 0. 0. 0. 0. 0. 0. 0. 0. 0. 0. 0. 0. 0.\n",
      " 0. 0. 0. 0. 0. 0. 0. 0. 0. 0. 0. 0. 0. 0. 0. 0. 0. 0. 0. 0. 0. 0. 0. 0.\n",
      " 0. 0. 0. 0. 0. 0. 0. 0. 0. 0. 0. 0. 0. 0. 0. 0. 0. 0. 0. 0. 0. 0. 0. 0.\n",
      " 0. 0. 0. 0. 0. 0. 0. 0. 0. 0. 0. 0. 0. 0. 0. 0. 0. 0. 0. 0. 0. 0. 0. 0.\n",
      " 0. 0. 0. 0. 0. 0. 0. 0. 0. 0. 0. 0. 0. 0. 0. 0. 0. 0. 0. 0. 0. 0. 0. 0.\n",
      " 0. 0.]\n",
      "balance : [0. 0. 0. 0. 0. 0. 0. 0. 0. 0. 0. 1. 0. 0. 0. 0. 0. 0. 0. 0. 0. 0. 0. 0.\n",
      " 0. 0. 0. 0. 0. 0. 0. 0. 0. 0. 0. 0. 0. 0. 0. 0. 0. 0. 0. 0. 0. 0. 0. 0.\n",
      " 0. 0. 0. 0. 0. 0. 0. 0. 0. 0. 0. 0. 0. 0. 0. 0. 0. 0. 0. 0. 0. 0. 0. 0.\n",
      " 0. 0. 0. 0. 0. 0. 0. 0. 0. 0. 0. 0. 0. 0. 0. 0. 0. 0. 0. 0. 0. 0. 0. 0.\n",
      " 0. 0. 0. 0. 0. 0. 0. 0. 0. 0. 0. 0. 0. 0. 0. 0. 0. 0. 0. 0. 0. 0. 0. 0.\n",
      " 0. 0. 0. 0. 0. 0. 0. 0. 0. 0. 0. 0. 0. 0. 0. 0. 0. 0. 0. 0. 0. 0. 0. 0.\n",
      " 0. 0.]\n",
      "better : [0. 0. 0. 0. 0. 0. 0. 0. 0. 0. 0. 0. 1. 0. 0. 0. 0. 0. 0. 0. 0. 0. 0. 0.\n",
      " 0. 0. 0. 0. 0. 0. 0. 0. 0. 0. 0. 0. 0. 0. 0. 0. 0. 0. 0. 0. 0. 0. 0. 0.\n",
      " 0. 0. 0. 0. 0. 0. 0. 0. 0. 0. 0. 0. 0. 0. 0. 0. 0. 0. 0. 0. 0. 0. 0. 0.\n",
      " 0. 0. 0. 0. 0. 0. 0. 0. 0. 0. 0. 0. 0. 0. 0. 0. 0. 0. 0. 0. 0. 0. 0. 0.\n",
      " 0. 0. 0. 0. 0. 0. 0. 0. 0. 0. 0. 0. 0. 0. 0. 0. 0. 0. 0. 0. 0. 0. 0. 0.\n",
      " 0. 0. 0. 0. 0. 0. 0. 0. 0. 0. 0. 0. 0. 0. 0. 0. 0. 0. 0. 0. 0. 0. 0. 0.\n",
      " 0. 0.]\n",
      "between : [0. 0. 0. 0. 0. 0. 0. 0. 0. 0. 0. 0. 0. 1. 0. 0. 0. 0. 0. 0. 0. 0. 0. 0.\n",
      " 0. 0. 0. 0. 0. 0. 0. 0. 0. 0. 0. 0. 0. 0. 0. 0. 0. 0. 0. 0. 0. 0. 0. 0.\n",
      " 0. 0. 0. 0. 0. 0. 0. 0. 0. 0. 0. 0. 0. 0. 0. 0. 0. 0. 0. 0. 0. 0. 0. 0.\n",
      " 0. 0. 0. 0. 0. 0. 0. 0. 0. 0. 0. 0. 0. 0. 0. 0. 0. 0. 0. 0. 0. 0. 0. 0.\n",
      " 0. 0. 0. 0. 0. 0. 0. 0. 0. 0. 0. 0. 0. 0. 0. 0. 0. 0. 0. 0. 0. 0. 0. 0.\n",
      " 0. 0. 0. 0. 0. 0. 0. 0. 0. 0. 0. 0. 0. 0. 0. 0. 0. 0. 0. 0. 0. 0. 0. 0.\n",
      " 0. 0.]\n",
      "biomedical : [0. 0. 0. 0. 0. 0. 0. 0. 0. 0. 0. 0. 0. 0. 1. 0. 0. 0. 0. 0. 0. 0. 0. 0.\n",
      " 0. 0. 0. 0. 0. 0. 0. 0. 0. 0. 0. 0. 0. 0. 0. 0. 0. 0. 0. 0. 0. 0. 0. 0.\n",
      " 0. 0. 0. 0. 0. 0. 0. 0. 0. 0. 0. 0. 0. 0. 0. 0. 0. 0. 0. 0. 0. 0. 0. 0.\n",
      " 0. 0. 0. 0. 0. 0. 0. 0. 0. 0. 0. 0. 0. 0. 0. 0. 0. 0. 0. 0. 0. 0. 0. 0.\n",
      " 0. 0. 0. 0. 0. 0. 0. 0. 0. 0. 0. 0. 0. 0. 0. 0. 0. 0. 0. 0. 0. 0. 0. 0.\n",
      " 0. 0. 0. 0. 0. 0. 0. 0. 0. 0. 0. 0. 0. 0. 0. 0. 0. 0. 0. 0. 0. 0. 0. 0.\n",
      " 0. 0.]\n",
      "biomedicine : [0. 0. 0. 0. 0. 0. 0. 0. 0. 0. 0. 0. 0. 0. 0. 1. 0. 0. 0. 0. 0. 0. 0. 0.\n",
      " 0. 0. 0. 0. 0. 0. 0. 0. 0. 0. 0. 0. 0. 0. 0. 0. 0. 0. 0. 0. 0. 0. 0. 0.\n",
      " 0. 0. 0. 0. 0. 0. 0. 0. 0. 0. 0. 0. 0. 0. 0. 0. 0. 0. 0. 0. 0. 0. 0. 0.\n",
      " 0. 0. 0. 0. 0. 0. 0. 0. 0. 0. 0. 0. 0. 0. 0. 0. 0. 0. 0. 0. 0. 0. 0. 0.\n",
      " 0. 0. 0. 0. 0. 0. 0. 0. 0. 0. 0. 0. 0. 0. 0. 0. 0. 0. 0. 0. 0. 0. 0. 0.\n",
      " 0. 0. 0. 0. 0. 0. 0. 0. 0. 0. 0. 0. 0. 0. 0. 0. 0. 0. 0. 0. 0. 0. 0. 0.\n",
      " 0. 0.]\n",
      "breakthroughs : [0. 0. 0. 0. 0. 0. 0. 0. 0. 0. 0. 0. 0. 0. 0. 0. 1. 0. 0. 0. 0. 0. 0. 0.\n",
      " 0. 0. 0. 0. 0. 0. 0. 0. 0. 0. 0. 0. 0. 0. 0. 0. 0. 0. 0. 0. 0. 0. 0. 0.\n",
      " 0. 0. 0. 0. 0. 0. 0. 0. 0. 0. 0. 0. 0. 0. 0. 0. 0. 0. 0. 0. 0. 0. 0. 0.\n",
      " 0. 0. 0. 0. 0. 0. 0. 0. 0. 0. 0. 0. 0. 0. 0. 0. 0. 0. 0. 0. 0. 0. 0. 0.\n",
      " 0. 0. 0. 0. 0. 0. 0. 0. 0. 0. 0. 0. 0. 0. 0. 0. 0. 0. 0. 0. 0. 0. 0. 0.\n",
      " 0. 0. 0. 0. 0. 0. 0. 0. 0. 0. 0. 0. 0. 0. 0. 0. 0. 0. 0. 0. 0. 0. 0. 0.\n",
      " 0. 0.]\n",
      "bridge : [0. 0. 0. 0. 0. 0. 0. 0. 0. 0. 0. 0. 0. 0. 0. 0. 0. 1. 0. 0. 0. 0. 0. 0.\n",
      " 0. 0. 0. 0. 0. 0. 0. 0. 0. 0. 0. 0. 0. 0. 0. 0. 0. 0. 0. 0. 0. 0. 0. 0.\n",
      " 0. 0. 0. 0. 0. 0. 0. 0. 0. 0. 0. 0. 0. 0. 0. 0. 0. 0. 0. 0. 0. 0. 0. 0.\n",
      " 0. 0. 0. 0. 0. 0. 0. 0. 0. 0. 0. 0. 0. 0. 0. 0. 0. 0. 0. 0. 0. 0. 0. 0.\n",
      " 0. 0. 0. 0. 0. 0. 0. 0. 0. 0. 0. 0. 0. 0. 0. 0. 0. 0. 0. 0. 0. 0. 0. 0.\n",
      " 0. 0. 0. 0. 0. 0. 0. 0. 0. 0. 0. 0. 0. 0. 0. 0. 0. 0. 0. 0. 0. 0. 0. 0.\n",
      " 0. 0.]\n",
      "brings : [0. 0. 0. 0. 0. 0. 0. 0. 0. 0. 0. 0. 0. 0. 0. 0. 0. 0. 1. 0. 0. 0. 0. 0.\n",
      " 0. 0. 0. 0. 0. 0. 0. 0. 0. 0. 0. 0. 0. 0. 0. 0. 0. 0. 0. 0. 0. 0. 0. 0.\n",
      " 0. 0. 0. 0. 0. 0. 0. 0. 0. 0. 0. 0. 0. 0. 0. 0. 0. 0. 0. 0. 0. 0. 0. 0.\n",
      " 0. 0. 0. 0. 0. 0. 0. 0. 0. 0. 0. 0. 0. 0. 0. 0. 0. 0. 0. 0. 0. 0. 0. 0.\n",
      " 0. 0. 0. 0. 0. 0. 0. 0. 0. 0. 0. 0. 0. 0. 0. 0. 0. 0. 0. 0. 0. 0. 0. 0.\n",
      " 0. 0. 0. 0. 0. 0. 0. 0. 0. 0. 0. 0. 0. 0. 0. 0. 0. 0. 0. 0. 0. 0. 0. 0.\n",
      " 0. 0.]\n",
      "capabilities : [0. 0. 0. 0. 0. 0. 0. 0. 0. 0. 0. 0. 0. 0. 0. 0. 0. 0. 0. 1. 0. 0. 0. 0.\n",
      " 0. 0. 0. 0. 0. 0. 0. 0. 0. 0. 0. 0. 0. 0. 0. 0. 0. 0. 0. 0. 0. 0. 0. 0.\n",
      " 0. 0. 0. 0. 0. 0. 0. 0. 0. 0. 0. 0. 0. 0. 0. 0. 0. 0. 0. 0. 0. 0. 0. 0.\n",
      " 0. 0. 0. 0. 0. 0. 0. 0. 0. 0. 0. 0. 0. 0. 0. 0. 0. 0. 0. 0. 0. 0. 0. 0.\n",
      " 0. 0. 0. 0. 0. 0. 0. 0. 0. 0. 0. 0. 0. 0. 0. 0. 0. 0. 0. 0. 0. 0. 0. 0.\n",
      " 0. 0. 0. 0. 0. 0. 0. 0. 0. 0. 0. 0. 0. 0. 0. 0. 0. 0. 0. 0. 0. 0. 0. 0.\n",
      " 0. 0.]\n",
      "challenges. : [0. 0. 0. 0. 0. 0. 0. 0. 0. 0. 0. 0. 0. 0. 0. 0. 0. 0. 0. 0. 1. 0. 0. 0.\n",
      " 0. 0. 0. 0. 0. 0. 0. 0. 0. 0. 0. 0. 0. 0. 0. 0. 0. 0. 0. 0. 0. 0. 0. 0.\n",
      " 0. 0. 0. 0. 0. 0. 0. 0. 0. 0. 0. 0. 0. 0. 0. 0. 0. 0. 0. 0. 0. 0. 0. 0.\n",
      " 0. 0. 0. 0. 0. 0. 0. 0. 0. 0. 0. 0. 0. 0. 0. 0. 0. 0. 0. 0. 0. 0. 0. 0.\n",
      " 0. 0. 0. 0. 0. 0. 0. 0. 0. 0. 0. 0. 0. 0. 0. 0. 0. 0. 0. 0. 0. 0. 0. 0.\n",
      " 0. 0. 0. 0. 0. 0. 0. 0. 0. 0. 0. 0. 0. 0. 0. 0. 0. 0. 0. 0. 0. 0. 0. 0.\n",
      " 0. 0.]\n",
      "closer : [0. 0. 0. 0. 0. 0. 0. 0. 0. 0. 0. 0. 0. 0. 0. 0. 0. 0. 0. 0. 0. 1. 0. 0.\n",
      " 0. 0. 0. 0. 0. 0. 0. 0. 0. 0. 0. 0. 0. 0. 0. 0. 0. 0. 0. 0. 0. 0. 0. 0.\n",
      " 0. 0. 0. 0. 0. 0. 0. 0. 0. 0. 0. 0. 0. 0. 0. 0. 0. 0. 0. 0. 0. 0. 0. 0.\n",
      " 0. 0. 0. 0. 0. 0. 0. 0. 0. 0. 0. 0. 0. 0. 0. 0. 0. 0. 0. 0. 0. 0. 0. 0.\n",
      " 0. 0. 0. 0. 0. 0. 0. 0. 0. 0. 0. 0. 0. 0. 0. 0. 0. 0. 0. 0. 0. 0. 0. 0.\n",
      " 0. 0. 0. 0. 0. 0. 0. 0. 0. 0. 0. 0. 0. 0. 0. 0. 0. 0. 0. 0. 0. 0. 0. 0.\n",
      " 0. 0.]\n",
      "communications. : [0. 0. 0. 0. 0. 0. 0. 0. 0. 0. 0. 0. 0. 0. 0. 0. 0. 0. 0. 0. 0. 0. 1. 0.\n",
      " 0. 0. 0. 0. 0. 0. 0. 0. 0. 0. 0. 0. 0. 0. 0. 0. 0. 0. 0. 0. 0. 0. 0. 0.\n",
      " 0. 0. 0. 0. 0. 0. 0. 0. 0. 0. 0. 0. 0. 0. 0. 0. 0. 0. 0. 0. 0. 0. 0. 0.\n",
      " 0. 0. 0. 0. 0. 0. 0. 0. 0. 0. 0. 0. 0. 0. 0. 0. 0. 0. 0. 0. 0. 0. 0. 0.\n",
      " 0. 0. 0. 0. 0. 0. 0. 0. 0. 0. 0. 0. 0. 0. 0. 0. 0. 0. 0. 0. 0. 0. 0. 0.\n",
      " 0. 0. 0. 0. 0. 0. 0. 0. 0. 0. 0. 0. 0. 0. 0. 0. 0. 0. 0. 0. 0. 0. 0. 0.\n",
      " 0. 0.]\n",
      "complex : [0. 0. 0. 0. 0. 0. 0. 0. 0. 0. 0. 0. 0. 0. 0. 0. 0. 0. 0. 0. 0. 0. 0. 1.\n",
      " 0. 0. 0. 0. 0. 0. 0. 0. 0. 0. 0. 0. 0. 0. 0. 0. 0. 0. 0. 0. 0. 0. 0. 0.\n",
      " 0. 0. 0. 0. 0. 0. 0. 0. 0. 0. 0. 0. 0. 0. 0. 0. 0. 0. 0. 0. 0. 0. 0. 0.\n",
      " 0. 0. 0. 0. 0. 0. 0. 0. 0. 0. 0. 0. 0. 0. 0. 0. 0. 0. 0. 0. 0. 0. 0. 0.\n",
      " 0. 0. 0. 0. 0. 0. 0. 0. 0. 0. 0. 0. 0. 0. 0. 0. 0. 0. 0. 0. 0. 0. 0. 0.\n",
      " 0. 0. 0. 0. 0. 0. 0. 0. 0. 0. 0. 0. 0. 0. 0. 0. 0. 0. 0. 0. 0. 0. 0. 0.\n",
      " 0. 0.]\n",
      "computations. : [0. 0. 0. 0. 0. 0. 0. 0. 0. 0. 0. 0. 0. 0. 0. 0. 0. 0. 0. 0. 0. 0. 0. 0.\n",
      " 1. 0. 0. 0. 0. 0. 0. 0. 0. 0. 0. 0. 0. 0. 0. 0. 0. 0. 0. 0. 0. 0. 0. 0.\n",
      " 0. 0. 0. 0. 0. 0. 0. 0. 0. 0. 0. 0. 0. 0. 0. 0. 0. 0. 0. 0. 0. 0. 0. 0.\n",
      " 0. 0. 0. 0. 0. 0. 0. 0. 0. 0. 0. 0. 0. 0. 0. 0. 0. 0. 0. 0. 0. 0. 0. 0.\n",
      " 0. 0. 0. 0. 0. 0. 0. 0. 0. 0. 0. 0. 0. 0. 0. 0. 0. 0. 0. 0. 0. 0. 0. 0.\n",
      " 0. 0. 0. 0. 0. 0. 0. 0. 0. 0. 0. 0. 0. 0. 0. 0. 0. 0. 0. 0. 0. 0. 0. 0.\n",
      " 0. 0.]\n",
      "confidentiality, : [0. 0. 0. 0. 0. 0. 0. 0. 0. 0. 0. 0. 0. 0. 0. 0. 0. 0. 0. 0. 0. 0. 0. 0.\n",
      " 0. 1. 0. 0. 0. 0. 0. 0. 0. 0. 0. 0. 0. 0. 0. 0. 0. 0. 0. 0. 0. 0. 0. 0.\n",
      " 0. 0. 0. 0. 0. 0. 0. 0. 0. 0. 0. 0. 0. 0. 0. 0. 0. 0. 0. 0. 0. 0. 0. 0.\n",
      " 0. 0. 0. 0. 0. 0. 0. 0. 0. 0. 0. 0. 0. 0. 0. 0. 0. 0. 0. 0. 0. 0. 0. 0.\n",
      " 0. 0. 0. 0. 0. 0. 0. 0. 0. 0. 0. 0. 0. 0. 0. 0. 0. 0. 0. 0. 0. 0. 0. 0.\n",
      " 0. 0. 0. 0. 0. 0. 0. 0. 0. 0. 0. 0. 0. 0. 0. 0. 0. 0. 0. 0. 0. 0. 0. 0.\n",
      " 0. 0.]\n",
      "confidently. : [0. 0. 0. 0. 0. 0. 0. 0. 0. 0. 0. 0. 0. 0. 0. 0. 0. 0. 0. 0. 0. 0. 0. 0.\n",
      " 0. 0. 1. 0. 0. 0. 0. 0. 0. 0. 0. 0. 0. 0. 0. 0. 0. 0. 0. 0. 0. 0. 0. 0.\n",
      " 0. 0. 0. 0. 0. 0. 0. 0. 0. 0. 0. 0. 0. 0. 0. 0. 0. 0. 0. 0. 0. 0. 0. 0.\n",
      " 0. 0. 0. 0. 0. 0. 0. 0. 0. 0. 0. 0. 0. 0. 0. 0. 0. 0. 0. 0. 0. 0. 0. 0.\n",
      " 0. 0. 0. 0. 0. 0. 0. 0. 0. 0. 0. 0. 0. 0. 0. 0. 0. 0. 0. 0. 0. 0. 0. 0.\n",
      " 0. 0. 0. 0. 0. 0. 0. 0. 0. 0. 0. 0. 0. 0. 0. 0. 0. 0. 0. 0. 0. 0. 0. 0.\n",
      " 0. 0.]\n",
      "creativity. : [0. 0. 0. 0. 0. 0. 0. 0. 0. 0. 0. 0. 0. 0. 0. 0. 0. 0. 0. 0. 0. 0. 0. 0.\n",
      " 0. 0. 0. 1. 0. 0. 0. 0. 0. 0. 0. 0. 0. 0. 0. 0. 0. 0. 0. 0. 0. 0. 0. 0.\n",
      " 0. 0. 0. 0. 0. 0. 0. 0. 0. 0. 0. 0. 0. 0. 0. 0. 0. 0. 0. 0. 0. 0. 0. 0.\n",
      " 0. 0. 0. 0. 0. 0. 0. 0. 0. 0. 0. 0. 0. 0. 0. 0. 0. 0. 0. 0. 0. 0. 0. 0.\n",
      " 0. 0. 0. 0. 0. 0. 0. 0. 0. 0. 0. 0. 0. 0. 0. 0. 0. 0. 0. 0. 0. 0. 0. 0.\n",
      " 0. 0. 0. 0. 0. 0. 0. 0. 0. 0. 0. 0. 0. 0. 0. 0. 0. 0. 0. 0. 0. 0. 0. 0.\n",
      " 0. 0.]\n",
      "cryptographic : [0. 0. 0. 0. 0. 0. 0. 0. 0. 0. 0. 0. 0. 0. 0. 0. 0. 0. 0. 0. 0. 0. 0. 0.\n",
      " 0. 0. 0. 0. 1. 0. 0. 0. 0. 0. 0. 0. 0. 0. 0. 0. 0. 0. 0. 0. 0. 0. 0. 0.\n",
      " 0. 0. 0. 0. 0. 0. 0. 0. 0. 0. 0. 0. 0. 0. 0. 0. 0. 0. 0. 0. 0. 0. 0. 0.\n",
      " 0. 0. 0. 0. 0. 0. 0. 0. 0. 0. 0. 0. 0. 0. 0. 0. 0. 0. 0. 0. 0. 0. 0. 0.\n",
      " 0. 0. 0. 0. 0. 0. 0. 0. 0. 0. 0. 0. 0. 0. 0. 0. 0. 0. 0. 0. 0. 0. 0. 0.\n",
      " 0. 0. 0. 0. 0. 0. 0. 0. 0. 0. 0. 0. 0. 0. 0. 0. 0. 0. 0. 0. 0. 0. 0. 0.\n",
      " 0. 0.]\n",
      "cryptography : [0. 0. 0. 0. 0. 0. 0. 0. 0. 0. 0. 0. 0. 0. 0. 0. 0. 0. 0. 0. 0. 0. 0. 0.\n",
      " 0. 0. 0. 0. 0. 1. 0. 0. 0. 0. 0. 0. 0. 0. 0. 0. 0. 0. 0. 0. 0. 0. 0. 0.\n",
      " 0. 0. 0. 0. 0. 0. 0. 0. 0. 0. 0. 0. 0. 0. 0. 0. 0. 0. 0. 0. 0. 0. 0. 0.\n",
      " 0. 0. 0. 0. 0. 0. 0. 0. 0. 0. 0. 0. 0. 0. 0. 0. 0. 0. 0. 0. 0. 0. 0. 0.\n",
      " 0. 0. 0. 0. 0. 0. 0. 0. 0. 0. 0. 0. 0. 0. 0. 0. 0. 0. 0. 0. 0. 0. 0. 0.\n",
      " 0. 0. 0. 0. 0. 0. 0. 0. 0. 0. 0. 0. 0. 0. 0. 0. 0. 0. 0. 0. 0. 0. 0. 0.\n",
      " 0. 0.]\n",
      "cutting-edge : [0. 0. 0. 0. 0. 0. 0. 0. 0. 0. 0. 0. 0. 0. 0. 0. 0. 0. 0. 0. 0. 0. 0. 0.\n",
      " 0. 0. 0. 0. 0. 0. 1. 0. 0. 0. 0. 0. 0. 0. 0. 0. 0. 0. 0. 0. 0. 0. 0. 0.\n",
      " 0. 0. 0. 0. 0. 0. 0. 0. 0. 0. 0. 0. 0. 0. 0. 0. 0. 0. 0. 0. 0. 0. 0. 0.\n",
      " 0. 0. 0. 0. 0. 0. 0. 0. 0. 0. 0. 0. 0. 0. 0. 0. 0. 0. 0. 0. 0. 0. 0. 0.\n",
      " 0. 0. 0. 0. 0. 0. 0. 0. 0. 0. 0. 0. 0. 0. 0. 0. 0. 0. 0. 0. 0. 0. 0. 0.\n",
      " 0. 0. 0. 0. 0. 0. 0. 0. 0. 0. 0. 0. 0. 0. 0. 0. 0. 0. 0. 0. 0. 0. 0. 0.\n",
      " 0. 0.]\n",
      "cyber : [0. 0. 0. 0. 0. 0. 0. 0. 0. 0. 0. 0. 0. 0. 0. 0. 0. 0. 0. 0. 0. 0. 0. 0.\n",
      " 0. 0. 0. 0. 0. 0. 0. 1. 0. 0. 0. 0. 0. 0. 0. 0. 0. 0. 0. 0. 0. 0. 0. 0.\n",
      " 0. 0. 0. 0. 0. 0. 0. 0. 0. 0. 0. 0. 0. 0. 0. 0. 0. 0. 0. 0. 0. 0. 0. 0.\n",
      " 0. 0. 0. 0. 0. 0. 0. 0. 0. 0. 0. 0. 0. 0. 0. 0. 0. 0. 0. 0. 0. 0. 0. 0.\n",
      " 0. 0. 0. 0. 0. 0. 0. 0. 0. 0. 0. 0. 0. 0. 0. 0. 0. 0. 0. 0. 0. 0. 0. 0.\n",
      " 0. 0. 0. 0. 0. 0. 0. 0. 0. 0. 0. 0. 0. 0. 0. 0. 0. 0. 0. 0. 0. 0. 0. 0.\n",
      " 0. 0.]\n",
      "data : [0. 0. 0. 0. 0. 0. 0. 0. 0. 0. 0. 0. 0. 0. 0. 0. 0. 0. 0. 0. 0. 0. 0. 0.\n",
      " 0. 0. 0. 0. 0. 0. 0. 0. 1. 0. 0. 0. 0. 0. 0. 0. 0. 0. 0. 0. 0. 0. 0. 0.\n",
      " 0. 0. 0. 0. 0. 0. 0. 0. 0. 0. 0. 0. 0. 0. 0. 0. 0. 0. 0. 0. 0. 0. 0. 0.\n",
      " 0. 0. 0. 0. 0. 0. 0. 0. 0. 0. 0. 0. 0. 0. 0. 0. 0. 0. 0. 0. 0. 0. 0. 0.\n",
      " 0. 0. 0. 0. 0. 0. 0. 0. 0. 0. 0. 0. 0. 0. 0. 0. 0. 0. 0. 0. 0. 0. 0. 0.\n",
      " 0. 0. 0. 0. 0. 0. 0. 0. 0. 0. 0. 0. 0. 0. 0. 0. 0. 0. 0. 0. 0. 0. 0. 0.\n",
      " 0. 0.]\n",
      "data. : [0. 0. 0. 0. 0. 0. 0. 0. 0. 0. 0. 0. 0. 0. 0. 0. 0. 0. 0. 0. 0. 0. 0. 0.\n",
      " 0. 0. 0. 0. 0. 0. 0. 0. 0. 1. 0. 0. 0. 0. 0. 0. 0. 0. 0. 0. 0. 0. 0. 0.\n",
      " 0. 0. 0. 0. 0. 0. 0. 0. 0. 0. 0. 0. 0. 0. 0. 0. 0. 0. 0. 0. 0. 0. 0. 0.\n",
      " 0. 0. 0. 0. 0. 0. 0. 0. 0. 0. 0. 0. 0. 0. 0. 0. 0. 0. 0. 0. 0. 0. 0. 0.\n",
      " 0. 0. 0. 0. 0. 0. 0. 0. 0. 0. 0. 0. 0. 0. 0. 0. 0. 0. 0. 0. 0. 0. 0. 0.\n",
      " 0. 0. 0. 0. 0. 0. 0. 0. 0. 0. 0. 0. 0. 0. 0. 0. 0. 0. 0. 0. 0. 0. 0. 0.\n",
      " 0. 0.]\n",
      "datasets : [0. 0. 0. 0. 0. 0. 0. 0. 0. 0. 0. 0. 0. 0. 0. 0. 0. 0. 0. 0. 0. 0. 0. 0.\n",
      " 0. 0. 0. 0. 0. 0. 0. 0. 0. 0. 1. 0. 0. 0. 0. 0. 0. 0. 0. 0. 0. 0. 0. 0.\n",
      " 0. 0. 0. 0. 0. 0. 0. 0. 0. 0. 0. 0. 0. 0. 0. 0. 0. 0. 0. 0. 0. 0. 0. 0.\n",
      " 0. 0. 0. 0. 0. 0. 0. 0. 0. 0. 0. 0. 0. 0. 0. 0. 0. 0. 0. 0. 0. 0. 0. 0.\n",
      " 0. 0. 0. 0. 0. 0. 0. 0. 0. 0. 0. 0. 0. 0. 0. 0. 0. 0. 0. 0. 0. 0. 0. 0.\n",
      " 0. 0. 0. 0. 0. 0. 0. 0. 0. 0. 0. 0. 0. 0. 0. 0. 0. 0. 0. 0. 0. 0. 0. 0.\n",
      " 0. 0.]\n",
      "decisions : [0. 0. 0. 0. 0. 0. 0. 0. 0. 0. 0. 0. 0. 0. 0. 0. 0. 0. 0. 0. 0. 0. 0. 0.\n",
      " 0. 0. 0. 0. 0. 0. 0. 0. 0. 0. 0. 1. 0. 0. 0. 0. 0. 0. 0. 0. 0. 0. 0. 0.\n",
      " 0. 0. 0. 0. 0. 0. 0. 0. 0. 0. 0. 0. 0. 0. 0. 0. 0. 0. 0. 0. 0. 0. 0. 0.\n",
      " 0. 0. 0. 0. 0. 0. 0. 0. 0. 0. 0. 0. 0. 0. 0. 0. 0. 0. 0. 0. 0. 0. 0. 0.\n",
      " 0. 0. 0. 0. 0. 0. 0. 0. 0. 0. 0. 0. 0. 0. 0. 0. 0. 0. 0. 0. 0. 0. 0. 0.\n",
      " 0. 0. 0. 0. 0. 0. 0. 0. 0. 0. 0. 0. 0. 0. 0. 0. 0. 0. 0. 0. 0. 0. 0. 0.\n",
      " 0. 0.]\n",
      "digital : [0. 0. 0. 0. 0. 0. 0. 0. 0. 0. 0. 0. 0. 0. 0. 0. 0. 0. 0. 0. 0. 0. 0. 0.\n",
      " 0. 0. 0. 0. 0. 0. 0. 0. 0. 0. 0. 0. 1. 0. 0. 0. 0. 0. 0. 0. 0. 0. 0. 0.\n",
      " 0. 0. 0. 0. 0. 0. 0. 0. 0. 0. 0. 0. 0. 0. 0. 0. 0. 0. 0. 0. 0. 0. 0. 0.\n",
      " 0. 0. 0. 0. 0. 0. 0. 0. 0. 0. 0. 0. 0. 0. 0. 0. 0. 0. 0. 0. 0. 0. 0. 0.\n",
      " 0. 0. 0. 0. 0. 0. 0. 0. 0. 0. 0. 0. 0. 0. 0. 0. 0. 0. 0. 0. 0. 0. 0. 0.\n",
      " 0. 0. 0. 0. 0. 0. 0. 0. 0. 0. 0. 0. 0. 0. 0. 0. 0. 0. 0. 0. 0. 0. 0. 0.\n",
      " 0. 0.]\n",
      "discovered. : [0. 0. 0. 0. 0. 0. 0. 0. 0. 0. 0. 0. 0. 0. 0. 0. 0. 0. 0. 0. 0. 0. 0. 0.\n",
      " 0. 0. 0. 0. 0. 0. 0. 0. 0. 0. 0. 0. 0. 1. 0. 0. 0. 0. 0. 0. 0. 0. 0. 0.\n",
      " 0. 0. 0. 0. 0. 0. 0. 0. 0. 0. 0. 0. 0. 0. 0. 0. 0. 0. 0. 0. 0. 0. 0. 0.\n",
      " 0. 0. 0. 0. 0. 0. 0. 0. 0. 0. 0. 0. 0. 0. 0. 0. 0. 0. 0. 0. 0. 0. 0. 0.\n",
      " 0. 0. 0. 0. 0. 0. 0. 0. 0. 0. 0. 0. 0. 0. 0. 0. 0. 0. 0. 0. 0. 0. 0. 0.\n",
      " 0. 0. 0. 0. 0. 0. 0. 0. 0. 0. 0. 0. 0. 0. 0. 0. 0. 0. 0. 0. 0. 0. 0. 0.\n",
      " 0. 0.]\n",
      "discovery : [0. 0. 0. 0. 0. 0. 0. 0. 0. 0. 0. 0. 0. 0. 0. 0. 0. 0. 0. 0. 0. 0. 0. 0.\n",
      " 0. 0. 0. 0. 0. 0. 0. 0. 0. 0. 0. 0. 0. 0. 1. 0. 0. 0. 0. 0. 0. 0. 0. 0.\n",
      " 0. 0. 0. 0. 0. 0. 0. 0. 0. 0. 0. 0. 0. 0. 0. 0. 0. 0. 0. 0. 0. 0. 0. 0.\n",
      " 0. 0. 0. 0. 0. 0. 0. 0. 0. 0. 0. 0. 0. 0. 0. 0. 0. 0. 0. 0. 0. 0. 0. 0.\n",
      " 0. 0. 0. 0. 0. 0. 0. 0. 0. 0. 0. 0. 0. 0. 0. 0. 0. 0. 0. 0. 0. 0. 0. 0.\n",
      " 0. 0. 0. 0. 0. 0. 0. 0. 0. 0. 0. 0. 0. 0. 0. 0. 0. 0. 0. 0. 0. 0. 0. 0.\n",
      " 0. 0.]\n",
      "driving : [0. 0. 0. 0. 0. 0. 0. 0. 0. 0. 0. 0. 0. 0. 0. 0. 0. 0. 0. 0. 0. 0. 0. 0.\n",
      " 0. 0. 0. 0. 0. 0. 0. 0. 0. 0. 0. 0. 0. 0. 0. 1. 0. 0. 0. 0. 0. 0. 0. 0.\n",
      " 0. 0. 0. 0. 0. 0. 0. 0. 0. 0. 0. 0. 0. 0. 0. 0. 0. 0. 0. 0. 0. 0. 0. 0.\n",
      " 0. 0. 0. 0. 0. 0. 0. 0. 0. 0. 0. 0. 0. 0. 0. 0. 0. 0. 0. 0. 0. 0. 0. 0.\n",
      " 0. 0. 0. 0. 0. 0. 0. 0. 0. 0. 0. 0. 0. 0. 0. 0. 0. 0. 0. 0. 0. 0. 0. 0.\n",
      " 0. 0. 0. 0. 0. 0. 0. 0. 0. 0. 0. 0. 0. 0. 0. 0. 0. 0. 0. 0. 0. 0. 0. 0.\n",
      " 0. 0.]\n",
      "ease. : [0. 0. 0. 0. 0. 0. 0. 0. 0. 0. 0. 0. 0. 0. 0. 0. 0. 0. 0. 0. 0. 0. 0. 0.\n",
      " 0. 0. 0. 0. 0. 0. 0. 0. 0. 0. 0. 0. 0. 0. 0. 0. 1. 0. 0. 0. 0. 0. 0. 0.\n",
      " 0. 0. 0. 0. 0. 0. 0. 0. 0. 0. 0. 0. 0. 0. 0. 0. 0. 0. 0. 0. 0. 0. 0. 0.\n",
      " 0. 0. 0. 0. 0. 0. 0. 0. 0. 0. 0. 0. 0. 0. 0. 0. 0. 0. 0. 0. 0. 0. 0. 0.\n",
      " 0. 0. 0. 0. 0. 0. 0. 0. 0. 0. 0. 0. 0. 0. 0. 0. 0. 0. 0. 0. 0. 0. 0. 0.\n",
      " 0. 0. 0. 0. 0. 0. 0. 0. 0. 0. 0. 0. 0. 0. 0. 0. 0. 0. 0. 0. 0. 0. 0. 0.\n",
      " 0. 0.]\n",
      "effective : [0. 0. 0. 0. 0. 0. 0. 0. 0. 0. 0. 0. 0. 0. 0. 0. 0. 0. 0. 0. 0. 0. 0. 0.\n",
      " 0. 0. 0. 0. 0. 0. 0. 0. 0. 0. 0. 0. 0. 0. 0. 0. 0. 1. 0. 0. 0. 0. 0. 0.\n",
      " 0. 0. 0. 0. 0. 0. 0. 0. 0. 0. 0. 0. 0. 0. 0. 0. 0. 0. 0. 0. 0. 0. 0. 0.\n",
      " 0. 0. 0. 0. 0. 0. 0. 0. 0. 0. 0. 0. 0. 0. 0. 0. 0. 0. 0. 0. 0. 0. 0. 0.\n",
      " 0. 0. 0. 0. 0. 0. 0. 0. 0. 0. 0. 0. 0. 0. 0. 0. 0. 0. 0. 0. 0. 0. 0. 0.\n",
      " 0. 0. 0. 0. 0. 0. 0. 0. 0. 0. 0. 0. 0. 0. 0. 0. 0. 0. 0. 0. 0. 0. 0. 0.\n",
      " 0. 0.]\n",
      "efficiency : [0. 0. 0. 0. 0. 0. 0. 0. 0. 0. 0. 0. 0. 0. 0. 0. 0. 0. 0. 0. 0. 0. 0. 0.\n",
      " 0. 0. 0. 0. 0. 0. 0. 0. 0. 0. 0. 0. 0. 0. 0. 0. 0. 0. 1. 0. 0. 0. 0. 0.\n",
      " 0. 0. 0. 0. 0. 0. 0. 0. 0. 0. 0. 0. 0. 0. 0. 0. 0. 0. 0. 0. 0. 0. 0. 0.\n",
      " 0. 0. 0. 0. 0. 0. 0. 0. 0. 0. 0. 0. 0. 0. 0. 0. 0. 0. 0. 0. 0. 0. 0. 0.\n",
      " 0. 0. 0. 0. 0. 0. 0. 0. 0. 0. 0. 0. 0. 0. 0. 0. 0. 0. 0. 0. 0. 0. 0. 0.\n",
      " 0. 0. 0. 0. 0. 0. 0. 0. 0. 0. 0. 0. 0. 0. 0. 0. 0. 0. 0. 0. 0. 0. 0. 0.\n",
      " 0. 0.]\n",
      "empowers : [0. 0. 0. 0. 0. 0. 0. 0. 0. 0. 0. 0. 0. 0. 0. 0. 0. 0. 0. 0. 0. 0. 0. 0.\n",
      " 0. 0. 0. 0. 0. 0. 0. 0. 0. 0. 0. 0. 0. 0. 0. 0. 0. 0. 0. 1. 0. 0. 0. 0.\n",
      " 0. 0. 0. 0. 0. 0. 0. 0. 0. 0. 0. 0. 0. 0. 0. 0. 0. 0. 0. 0. 0. 0. 0. 0.\n",
      " 0. 0. 0. 0. 0. 0. 0. 0. 0. 0. 0. 0. 0. 0. 0. 0. 0. 0. 0. 0. 0. 0. 0. 0.\n",
      " 0. 0. 0. 0. 0. 0. 0. 0. 0. 0. 0. 0. 0. 0. 0. 0. 0. 0. 0. 0. 0. 0. 0. 0.\n",
      " 0. 0. 0. 0. 0. 0. 0. 0. 0. 0. 0. 0. 0. 0. 0. 0. 0. 0. 0. 0. 0. 0. 0. 0.\n",
      " 0. 0.]\n",
      "encryption : [0. 0. 0. 0. 0. 0. 0. 0. 0. 0. 0. 0. 0. 0. 0. 0. 0. 0. 0. 0. 0. 0. 0. 0.\n",
      " 0. 0. 0. 0. 0. 0. 0. 0. 0. 0. 0. 0. 0. 0. 0. 0. 0. 0. 0. 0. 1. 0. 0. 0.\n",
      " 0. 0. 0. 0. 0. 0. 0. 0. 0. 0. 0. 0. 0. 0. 0. 0. 0. 0. 0. 0. 0. 0. 0. 0.\n",
      " 0. 0. 0. 0. 0. 0. 0. 0. 0. 0. 0. 0. 0. 0. 0. 0. 0. 0. 0. 0. 0. 0. 0. 0.\n",
      " 0. 0. 0. 0. 0. 0. 0. 0. 0. 0. 0. 0. 0. 0. 0. 0. 0. 0. 0. 0. 0. 0. 0. 0.\n",
      " 0. 0. 0. 0. 0. 0. 0. 0. 0. 0. 0. 0. 0. 0. 0. 0. 0. 0. 0. 0. 0. 0. 0. 0.\n",
      " 0. 0.]\n",
      "enhance : [0. 0. 0. 0. 0. 0. 0. 0. 0. 0. 0. 0. 0. 0. 0. 0. 0. 0. 0. 0. 0. 0. 0. 0.\n",
      " 0. 0. 0. 0. 0. 0. 0. 0. 0. 0. 0. 0. 0. 0. 0. 0. 0. 0. 0. 0. 0. 1. 0. 0.\n",
      " 0. 0. 0. 0. 0. 0. 0. 0. 0. 0. 0. 0. 0. 0. 0. 0. 0. 0. 0. 0. 0. 0. 0. 0.\n",
      " 0. 0. 0. 0. 0. 0. 0. 0. 0. 0. 0. 0. 0. 0. 0. 0. 0. 0. 0. 0. 0. 0. 0. 0.\n",
      " 0. 0. 0. 0. 0. 0. 0. 0. 0. 0. 0. 0. 0. 0. 0. 0. 0. 0. 0. 0. 0. 0. 0. 0.\n",
      " 0. 0. 0. 0. 0. 0. 0. 0. 0. 0. 0. 0. 0. 0. 0. 0. 0. 0. 0. 0. 0. 0. 0. 0.\n",
      " 0. 0.]\n",
      "ensure : [0. 0. 0. 0. 0. 0. 0. 0. 0. 0. 0. 0. 0. 0. 0. 0. 0. 0. 0. 0. 0. 0. 0. 0.\n",
      " 0. 0. 0. 0. 0. 0. 0. 0. 0. 0. 0. 0. 0. 0. 0. 0. 0. 0. 0. 0. 0. 0. 1. 0.\n",
      " 0. 0. 0. 0. 0. 0. 0. 0. 0. 0. 0. 0. 0. 0. 0. 0. 0. 0. 0. 0. 0. 0. 0. 0.\n",
      " 0. 0. 0. 0. 0. 0. 0. 0. 0. 0. 0. 0. 0. 0. 0. 0. 0. 0. 0. 0. 0. 0. 0. 0.\n",
      " 0. 0. 0. 0. 0. 0. 0. 0. 0. 0. 0. 0. 0. 0. 0. 0. 0. 0. 0. 0. 0. 0. 0. 0.\n",
      " 0. 0. 0. 0. 0. 0. 0. 0. 0. 0. 0. 0. 0. 0. 0. 0. 0. 0. 0. 0. 0. 0. 0. 0.\n",
      " 0. 0.]\n",
      "every : [0. 0. 0. 0. 0. 0. 0. 0. 0. 0. 0. 0. 0. 0. 0. 0. 0. 0. 0. 0. 0. 0. 0. 0.\n",
      " 0. 0. 0. 0. 0. 0. 0. 0. 0. 0. 0. 0. 0. 0. 0. 0. 0. 0. 0. 0. 0. 0. 0. 1.\n",
      " 0. 0. 0. 0. 0. 0. 0. 0. 0. 0. 0. 0. 0. 0. 0. 0. 0. 0. 0. 0. 0. 0. 0. 0.\n",
      " 0. 0. 0. 0. 0. 0. 0. 0. 0. 0. 0. 0. 0. 0. 0. 0. 0. 0. 0. 0. 0. 0. 0. 0.\n",
      " 0. 0. 0. 0. 0. 0. 0. 0. 0. 0. 0. 0. 0. 0. 0. 0. 0. 0. 0. 0. 0. 0. 0. 0.\n",
      " 0. 0. 0. 0. 0. 0. 0. 0. 0. 0. 0. 0. 0. 0. 0. 0. 0. 0. 0. 0. 0. 0. 0. 0.\n",
      " 0. 0.]\n",
      "extract : [0. 0. 0. 0. 0. 0. 0. 0. 0. 0. 0. 0. 0. 0. 0. 0. 0. 0. 0. 0. 0. 0. 0. 0.\n",
      " 0. 0. 0. 0. 0. 0. 0. 0. 0. 0. 0. 0. 0. 0. 0. 0. 0. 0. 0. 0. 0. 0. 0. 0.\n",
      " 1. 0. 0. 0. 0. 0. 0. 0. 0. 0. 0. 0. 0. 0. 0. 0. 0. 0. 0. 0. 0. 0. 0. 0.\n",
      " 0. 0. 0. 0. 0. 0. 0. 0. 0. 0. 0. 0. 0. 0. 0. 0. 0. 0. 0. 0. 0. 0. 0. 0.\n",
      " 0. 0. 0. 0. 0. 0. 0. 0. 0. 0. 0. 0. 0. 0. 0. 0. 0. 0. 0. 0. 0. 0. 0. 0.\n",
      " 0. 0. 0. 0. 0. 0. 0. 0. 0. 0. 0. 0. 0. 0. 0. 0. 0. 0. 0. 0. 0. 0. 0. 0.\n",
      " 0. 0.]\n",
      "find : [0. 0. 0. 0. 0. 0. 0. 0. 0. 0. 0. 0. 0. 0. 0. 0. 0. 0. 0. 0. 0. 0. 0. 0.\n",
      " 0. 0. 0. 0. 0. 0. 0. 0. 0. 0. 0. 0. 0. 0. 0. 0. 0. 0. 0. 0. 0. 0. 0. 0.\n",
      " 0. 1. 0. 0. 0. 0. 0. 0. 0. 0. 0. 0. 0. 0. 0. 0. 0. 0. 0. 0. 0. 0. 0. 0.\n",
      " 0. 0. 0. 0. 0. 0. 0. 0. 0. 0. 0. 0. 0. 0. 0. 0. 0. 0. 0. 0. 0. 0. 0. 0.\n",
      " 0. 0. 0. 0. 0. 0. 0. 0. 0. 0. 0. 0. 0. 0. 0. 0. 0. 0. 0. 0. 0. 0. 0. 0.\n",
      " 0. 0. 0. 0. 0. 0. 0. 0. 0. 0. 0. 0. 0. 0. 0. 0. 0. 0. 0. 0. 0. 0. 0. 0.\n",
      " 0. 0.]\n",
      "for : [0. 0. 0. 0. 0. 0. 0. 0. 0. 0. 0. 0. 0. 0. 0. 0. 0. 0. 0. 0. 0. 0. 0. 0.\n",
      " 0. 0. 0. 0. 0. 0. 0. 0. 0. 0. 0. 0. 0. 0. 0. 0. 0. 0. 0. 0. 0. 0. 0. 0.\n",
      " 0. 0. 1. 0. 0. 0. 0. 0. 0. 0. 0. 0. 0. 0. 0. 0. 0. 0. 0. 0. 0. 0. 0. 0.\n",
      " 0. 0. 0. 0. 0. 0. 0. 0. 0. 0. 0. 0. 0. 0. 0. 0. 0. 0. 0. 0. 0. 0. 0. 0.\n",
      " 0. 0. 0. 0. 0. 0. 0. 0. 0. 0. 0. 0. 0. 0. 0. 0. 0. 0. 0. 0. 0. 0. 0. 0.\n",
      " 0. 0. 0. 0. 0. 0. 0. 0. 0. 0. 0. 0. 0. 0. 0. 0. 0. 0. 0. 0. 0. 0. 0. 0.\n",
      " 0. 0.]\n",
      "form : [0. 0. 0. 0. 0. 0. 0. 0. 0. 0. 0. 0. 0. 0. 0. 0. 0. 0. 0. 0. 0. 0. 0. 0.\n",
      " 0. 0. 0. 0. 0. 0. 0. 0. 0. 0. 0. 0. 0. 0. 0. 0. 0. 0. 0. 0. 0. 0. 0. 0.\n",
      " 0. 0. 0. 1. 0. 0. 0. 0. 0. 0. 0. 0. 0. 0. 0. 0. 0. 0. 0. 0. 0. 0. 0. 0.\n",
      " 0. 0. 0. 0. 0. 0. 0. 0. 0. 0. 0. 0. 0. 0. 0. 0. 0. 0. 0. 0. 0. 0. 0. 0.\n",
      " 0. 0. 0. 0. 0. 0. 0. 0. 0. 0. 0. 0. 0. 0. 0. 0. 0. 0. 0. 0. 0. 0. 0. 0.\n",
      " 0. 0. 0. 0. 0. 0. 0. 0. 0. 0. 0. 0. 0. 0. 0. 0. 0. 0. 0. 0. 0. 0. 0. 0.\n",
      " 0. 0.]\n",
      "forward : [0. 0. 0. 0. 0. 0. 0. 0. 0. 0. 0. 0. 0. 0. 0. 0. 0. 0. 0. 0. 0. 0. 0. 0.\n",
      " 0. 0. 0. 0. 0. 0. 0. 0. 0. 0. 0. 0. 0. 0. 0. 0. 0. 0. 0. 0. 0. 0. 0. 0.\n",
      " 0. 0. 0. 0. 1. 0. 0. 0. 0. 0. 0. 0. 0. 0. 0. 0. 0. 0. 0. 0. 0. 0. 0. 0.\n",
      " 0. 0. 0. 0. 0. 0. 0. 0. 0. 0. 0. 0. 0. 0. 0. 0. 0. 0. 0. 0. 0. 0. 0. 0.\n",
      " 0. 0. 0. 0. 0. 0. 0. 0. 0. 0. 0. 0. 0. 0. 0. 0. 0. 0. 0. 0. 0. 0. 0. 0.\n",
      " 0. 0. 0. 0. 0. 0. 0. 0. 0. 0. 0. 0. 0. 0. 0. 0. 0. 0. 0. 0. 0. 0. 0. 0.\n",
      " 0. 0.]\n",
      "from : [0. 0. 0. 0. 0. 0. 0. 0. 0. 0. 0. 0. 0. 0. 0. 0. 0. 0. 0. 0. 0. 0. 0. 0.\n",
      " 0. 0. 0. 0. 0. 0. 0. 0. 0. 0. 0. 0. 0. 0. 0. 0. 0. 0. 0. 0. 0. 0. 0. 0.\n",
      " 0. 0. 0. 0. 0. 1. 0. 0. 0. 0. 0. 0. 0. 0. 0. 0. 0. 0. 0. 0. 0. 0. 0. 0.\n",
      " 0. 0. 0. 0. 0. 0. 0. 0. 0. 0. 0. 0. 0. 0. 0. 0. 0. 0. 0. 0. 0. 0. 0. 0.\n",
      " 0. 0. 0. 0. 0. 0. 0. 0. 0. 0. 0. 0. 0. 0. 0. 0. 0. 0. 0. 0. 0. 0. 0. 0.\n",
      " 0. 0. 0. 0. 0. 0. 0. 0. 0. 0. 0. 0. 0. 0. 0. 0. 0. 0. 0. 0. 0. 0. 0. 0.\n",
      " 0. 0.]\n",
      "future : [0. 0. 0. 0. 0. 0. 0. 0. 0. 0. 0. 0. 0. 0. 0. 0. 0. 0. 0. 0. 0. 0. 0. 0.\n",
      " 0. 0. 0. 0. 0. 0. 0. 0. 0. 0. 0. 0. 0. 0. 0. 0. 0. 0. 0. 0. 0. 0. 0. 0.\n",
      " 0. 0. 0. 0. 0. 0. 1. 0. 0. 0. 0. 0. 0. 0. 0. 0. 0. 0. 0. 0. 0. 0. 0. 0.\n",
      " 0. 0. 0. 0. 0. 0. 0. 0. 0. 0. 0. 0. 0. 0. 0. 0. 0. 0. 0. 0. 0. 0. 0. 0.\n",
      " 0. 0. 0. 0. 0. 0. 0. 0. 0. 0. 0. 0. 0. 0. 0. 0. 0. 0. 0. 0. 0. 0. 0. 0.\n",
      " 0. 0. 0. 0. 0. 0. 0. 0. 0. 0. 0. 0. 0. 0. 0. 0. 0. 0. 0. 0. 0. 0. 0. 0.\n",
      " 0. 0.]\n",
      "future. : [0. 0. 0. 0. 0. 0. 0. 0. 0. 0. 0. 0. 0. 0. 0. 0. 0. 0. 0. 0. 0. 0. 0. 0.\n",
      " 0. 0. 0. 0. 0. 0. 0. 0. 0. 0. 0. 0. 0. 0. 0. 0. 0. 0. 0. 0. 0. 0. 0. 0.\n",
      " 0. 0. 0. 0. 0. 0. 0. 1. 0. 0. 0. 0. 0. 0. 0. 0. 0. 0. 0. 0. 0. 0. 0. 0.\n",
      " 0. 0. 0. 0. 0. 0. 0. 0. 0. 0. 0. 0. 0. 0. 0. 0. 0. 0. 0. 0. 0. 0. 0. 0.\n",
      " 0. 0. 0. 0. 0. 0. 0. 0. 0. 0. 0. 0. 0. 0. 0. 0. 0. 0. 0. 0. 0. 0. 0. 0.\n",
      " 0. 0. 0. 0. 0. 0. 0. 0. 0. 0. 0. 0. 0. 0. 0. 0. 0. 0. 0. 0. 0. 0. 0. 0.\n",
      " 0. 0.]\n",
      "gap : [0. 0. 0. 0. 0. 0. 0. 0. 0. 0. 0. 0. 0. 0. 0. 0. 0. 0. 0. 0. 0. 0. 0. 0.\n",
      " 0. 0. 0. 0. 0. 0. 0. 0. 0. 0. 0. 0. 0. 0. 0. 0. 0. 0. 0. 0. 0. 0. 0. 0.\n",
      " 0. 0. 0. 0. 0. 0. 0. 0. 1. 0. 0. 0. 0. 0. 0. 0. 0. 0. 0. 0. 0. 0. 0. 0.\n",
      " 0. 0. 0. 0. 0. 0. 0. 0. 0. 0. 0. 0. 0. 0. 0. 0. 0. 0. 0. 0. 0. 0. 0. 0.\n",
      " 0. 0. 0. 0. 0. 0. 0. 0. 0. 0. 0. 0. 0. 0. 0. 0. 0. 0. 0. 0. 0. 0. 0. 0.\n",
      " 0. 0. 0. 0. 0. 0. 0. 0. 0. 0. 0. 0. 0. 0. 0. 0. 0. 0. 0. 0. 0. 0. 0. 0.\n",
      " 0. 0.]\n",
      "globally. : [0. 0. 0. 0. 0. 0. 0. 0. 0. 0. 0. 0. 0. 0. 0. 0. 0. 0. 0. 0. 0. 0. 0. 0.\n",
      " 0. 0. 0. 0. 0. 0. 0. 0. 0. 0. 0. 0. 0. 0. 0. 0. 0. 0. 0. 0. 0. 0. 0. 0.\n",
      " 0. 0. 0. 0. 0. 0. 0. 0. 0. 1. 0. 0. 0. 0. 0. 0. 0. 0. 0. 0. 0. 0. 0. 0.\n",
      " 0. 0. 0. 0. 0. 0. 0. 0. 0. 0. 0. 0. 0. 0. 0. 0. 0. 0. 0. 0. 0. 0. 0. 0.\n",
      " 0. 0. 0. 0. 0. 0. 0. 0. 0. 0. 0. 0. 0. 0. 0. 0. 0. 0. 0. 0. 0. 0. 0. 0.\n",
      " 0. 0. 0. 0. 0. 0. 0. 0. 0. 0. 0. 0. 0. 0. 0. 0. 0. 0. 0. 0. 0. 0. 0. 0.\n",
      " 0. 0.]\n",
      "groundbreaking : [0. 0. 0. 0. 0. 0. 0. 0. 0. 0. 0. 0. 0. 0. 0. 0. 0. 0. 0. 0. 0. 0. 0. 0.\n",
      " 0. 0. 0. 0. 0. 0. 0. 0. 0. 0. 0. 0. 0. 0. 0. 0. 0. 0. 0. 0. 0. 0. 0. 0.\n",
      " 0. 0. 0. 0. 0. 0. 0. 0. 0. 0. 1. 0. 0. 0. 0. 0. 0. 0. 0. 0. 0. 0. 0. 0.\n",
      " 0. 0. 0. 0. 0. 0. 0. 0. 0. 0. 0. 0. 0. 0. 0. 0. 0. 0. 0. 0. 0. 0. 0. 0.\n",
      " 0. 0. 0. 0. 0. 0. 0. 0. 0. 0. 0. 0. 0. 0. 0. 0. 0. 0. 0. 0. 0. 0. 0. 0.\n",
      " 0. 0. 0. 0. 0. 0. 0. 0. 0. 0. 0. 0. 0. 0. 0. 0. 0. 0. 0. 0. 0. 0. 0. 0.\n",
      " 0. 0.]\n",
      "harness : [0. 0. 0. 0. 0. 0. 0. 0. 0. 0. 0. 0. 0. 0. 0. 0. 0. 0. 0. 0. 0. 0. 0. 0.\n",
      " 0. 0. 0. 0. 0. 0. 0. 0. 0. 0. 0. 0. 0. 0. 0. 0. 0. 0. 0. 0. 0. 0. 0. 0.\n",
      " 0. 0. 0. 0. 0. 0. 0. 0. 0. 0. 0. 1. 0. 0. 0. 0. 0. 0. 0. 0. 0. 0. 0. 0.\n",
      " 0. 0. 0. 0. 0. 0. 0. 0. 0. 0. 0. 0. 0. 0. 0. 0. 0. 0. 0. 0. 0. 0. 0. 0.\n",
      " 0. 0. 0. 0. 0. 0. 0. 0. 0. 0. 0. 0. 0. 0. 0. 0. 0. 0. 0. 0. 0. 0. 0. 0.\n",
      " 0. 0. 0. 0. 0. 0. 0. 0. 0. 0. 0. 0. 0. 0. 0. 0. 0. 0. 0. 0. 0. 0. 0. 0.\n",
      " 0. 0.]\n",
      "health : [0. 0. 0. 0. 0. 0. 0. 0. 0. 0. 0. 0. 0. 0. 0. 0. 0. 0. 0. 0. 0. 0. 0. 0.\n",
      " 0. 0. 0. 0. 0. 0. 0. 0. 0. 0. 0. 0. 0. 0. 0. 0. 0. 0. 0. 0. 0. 0. 0. 0.\n",
      " 0. 0. 0. 0. 0. 0. 0. 0. 0. 0. 0. 0. 1. 0. 0. 0. 0. 0. 0. 0. 0. 0. 0. 0.\n",
      " 0. 0. 0. 0. 0. 0. 0. 0. 0. 0. 0. 0. 0. 0. 0. 0. 0. 0. 0. 0. 0. 0. 0. 0.\n",
      " 0. 0. 0. 0. 0. 0. 0. 0. 0. 0. 0. 0. 0. 0. 0. 0. 0. 0. 0. 0. 0. 0. 0. 0.\n",
      " 0. 0. 0. 0. 0. 0. 0. 0. 0. 0. 0. 0. 0. 0. 0. 0. 0. 0. 0. 0. 0. 0. 0. 0.\n",
      " 0. 0.]\n",
      "healthcare : [0. 0. 0. 0. 0. 0. 0. 0. 0. 0. 0. 0. 0. 0. 0. 0. 0. 0. 0. 0. 0. 0. 0. 0.\n",
      " 0. 0. 0. 0. 0. 0. 0. 0. 0. 0. 0. 0. 0. 0. 0. 0. 0. 0. 0. 0. 0. 0. 0. 0.\n",
      " 0. 0. 0. 0. 0. 0. 0. 0. 0. 0. 0. 0. 0. 1. 0. 0. 0. 0. 0. 0. 0. 0. 0. 0.\n",
      " 0. 0. 0. 0. 0. 0. 0. 0. 0. 0. 0. 0. 0. 0. 0. 0. 0. 0. 0. 0. 0. 0. 0. 0.\n",
      " 0. 0. 0. 0. 0. 0. 0. 0. 0. 0. 0. 0. 0. 0. 0. 0. 0. 0. 0. 0. 0. 0. 0. 0.\n",
      " 0. 0. 0. 0. 0. 0. 0. 0. 0. 0. 0. 0. 0. 0. 0. 0. 0. 0. 0. 0. 0. 0. 0. 0.\n",
      " 0. 0.]\n",
      "healthier : [0. 0. 0. 0. 0. 0. 0. 0. 0. 0. 0. 0. 0. 0. 0. 0. 0. 0. 0. 0. 0. 0. 0. 0.\n",
      " 0. 0. 0. 0. 0. 0. 0. 0. 0. 0. 0. 0. 0. 0. 0. 0. 0. 0. 0. 0. 0. 0. 0. 0.\n",
      " 0. 0. 0. 0. 0. 0. 0. 0. 0. 0. 0. 0. 0. 0. 1. 0. 0. 0. 0. 0. 0. 0. 0. 0.\n",
      " 0. 0. 0. 0. 0. 0. 0. 0. 0. 0. 0. 0. 0. 0. 0. 0. 0. 0. 0. 0. 0. 0. 0. 0.\n",
      " 0. 0. 0. 0. 0. 0. 0. 0. 0. 0. 0. 0. 0. 0. 0. 0. 0. 0. 0. 0. 0. 0. 0. 0.\n",
      " 0. 0. 0. 0. 0. 0. 0. 0. 0. 0. 0. 0. 0. 0. 0. 0. 0. 0. 0. 0. 0. 0. 0. 0.\n",
      " 0. 0.]\n",
      "hidden : [0. 0. 0. 0. 0. 0. 0. 0. 0. 0. 0. 0. 0. 0. 0. 0. 0. 0. 0. 0. 0. 0. 0. 0.\n",
      " 0. 0. 0. 0. 0. 0. 0. 0. 0. 0. 0. 0. 0. 0. 0. 0. 0. 0. 0. 0. 0. 0. 0. 0.\n",
      " 0. 0. 0. 0. 0. 0. 0. 0. 0. 0. 0. 0. 0. 0. 0. 1. 0. 0. 0. 0. 0. 0. 0. 0.\n",
      " 0. 0. 0. 0. 0. 0. 0. 0. 0. 0. 0. 0. 0. 0. 0. 0. 0. 0. 0. 0. 0. 0. 0. 0.\n",
      " 0. 0. 0. 0. 0. 0. 0. 0. 0. 0. 0. 0. 0. 0. 0. 0. 0. 0. 0. 0. 0. 0. 0. 0.\n",
      " 0. 0. 0. 0. 0. 0. 0. 0. 0. 0. 0. 0. 0. 0. 0. 0. 0. 0. 0. 0. 0. 0. 0. 0.\n",
      " 0. 0.]\n",
      "hope : [0. 0. 0. 0. 0. 0. 0. 0. 0. 0. 0. 0. 0. 0. 0. 0. 0. 0. 0. 0. 0. 0. 0. 0.\n",
      " 0. 0. 0. 0. 0. 0. 0. 0. 0. 0. 0. 0. 0. 0. 0. 0. 0. 0. 0. 0. 0. 0. 0. 0.\n",
      " 0. 0. 0. 0. 0. 0. 0. 0. 0. 0. 0. 0. 0. 0. 0. 0. 1. 0. 0. 0. 0. 0. 0. 0.\n",
      " 0. 0. 0. 0. 0. 0. 0. 0. 0. 0. 0. 0. 0. 0. 0. 0. 0. 0. 0. 0. 0. 0. 0. 0.\n",
      " 0. 0. 0. 0. 0. 0. 0. 0. 0. 0. 0. 0. 0. 0. 0. 0. 0. 0. 0. 0. 0. 0. 0. 0.\n",
      " 0. 0. 0. 0. 0. 0. 0. 0. 0. 0. 0. 0. 0. 0. 0. 0. 0. 0. 0. 0. 0. 0. 0. 0.\n",
      " 0. 0.]\n",
      "human : [0. 0. 0. 0. 0. 0. 0. 0. 0. 0. 0. 0. 0. 0. 0. 0. 0. 0. 0. 0. 0. 0. 0. 0.\n",
      " 0. 0. 0. 0. 0. 0. 0. 0. 0. 0. 0. 0. 0. 0. 0. 0. 0. 0. 0. 0. 0. 0. 0. 0.\n",
      " 0. 0. 0. 0. 0. 0. 0. 0. 0. 0. 0. 0. 0. 0. 0. 0. 0. 1. 0. 0. 0. 0. 0. 0.\n",
      " 0. 0. 0. 0. 0. 0. 0. 0. 0. 0. 0. 0. 0. 0. 0. 0. 0. 0. 0. 0. 0. 0. 0. 0.\n",
      " 0. 0. 0. 0. 0. 0. 0. 0. 0. 0. 0. 0. 0. 0. 0. 0. 0. 0. 0. 0. 0. 0. 0. 0.\n",
      " 0. 0. 0. 0. 0. 0. 0. 0. 0. 0. 0. 0. 0. 0. 0. 0. 0. 0. 0. 0. 0. 0. 0. 0.\n",
      " 0. 0.]\n",
      "humanity's : [0. 0. 0. 0. 0. 0. 0. 0. 0. 0. 0. 0. 0. 0. 0. 0. 0. 0. 0. 0. 0. 0. 0. 0.\n",
      " 0. 0. 0. 0. 0. 0. 0. 0. 0. 0. 0. 0. 0. 0. 0. 0. 0. 0. 0. 0. 0. 0. 0. 0.\n",
      " 0. 0. 0. 0. 0. 0. 0. 0. 0. 0. 0. 0. 0. 0. 0. 0. 0. 0. 1. 0. 0. 0. 0. 0.\n",
      " 0. 0. 0. 0. 0. 0. 0. 0. 0. 0. 0. 0. 0. 0. 0. 0. 0. 0. 0. 0. 0. 0. 0. 0.\n",
      " 0. 0. 0. 0. 0. 0. 0. 0. 0. 0. 0. 0. 0. 0. 0. 0. 0. 0. 0. 0. 0. 0. 0. 0.\n",
      " 0. 0. 0. 0. 0. 0. 0. 0. 0. 0. 0. 0. 0. 0. 0. 0. 0. 0. 0. 0. 0. 0. 0. 0.\n",
      " 0. 0.]\n",
      "i : [0. 0. 0. 0. 0. 0. 0. 0. 0. 0. 0. 0. 0. 0. 0. 0. 0. 0. 0. 0. 0. 0. 0. 0.\n",
      " 0. 0. 0. 0. 0. 0. 0. 0. 0. 0. 0. 0. 0. 0. 0. 0. 0. 0. 0. 0. 0. 0. 0. 0.\n",
      " 0. 0. 0. 0. 0. 0. 0. 0. 0. 0. 0. 0. 0. 0. 0. 0. 0. 0. 0. 1. 0. 0. 0. 0.\n",
      " 0. 0. 0. 0. 0. 0. 0. 0. 0. 0. 0. 0. 0. 0. 0. 0. 0. 0. 0. 0. 0. 0. 0. 0.\n",
      " 0. 0. 0. 0. 0. 0. 0. 0. 0. 0. 0. 0. 0. 0. 0. 0. 0. 0. 0. 0. 0. 0. 0. 0.\n",
      " 0. 0. 0. 0. 0. 0. 0. 0. 0. 0. 0. 0. 0. 0. 0. 0. 0. 0. 0. 0. 0. 0. 0. 0.\n",
      " 0. 0.]\n",
      "improve : [0. 0. 0. 0. 0. 0. 0. 0. 0. 0. 0. 0. 0. 0. 0. 0. 0. 0. 0. 0. 0. 0. 0. 0.\n",
      " 0. 0. 0. 0. 0. 0. 0. 0. 0. 0. 0. 0. 0. 0. 0. 0. 0. 0. 0. 0. 0. 0. 0. 0.\n",
      " 0. 0. 0. 0. 0. 0. 0. 0. 0. 0. 0. 0. 0. 0. 0. 0. 0. 0. 0. 0. 1. 0. 0. 0.\n",
      " 0. 0. 0. 0. 0. 0. 0. 0. 0. 0. 0. 0. 0. 0. 0. 0. 0. 0. 0. 0. 0. 0. 0. 0.\n",
      " 0. 0. 0. 0. 0. 0. 0. 0. 0. 0. 0. 0. 0. 0. 0. 0. 0. 0. 0. 0. 0. 0. 0. 0.\n",
      " 0. 0. 0. 0. 0. 0. 0. 0. 0. 0. 0. 0. 0. 0. 0. 0. 0. 0. 0. 0. 0. 0. 0. 0.\n",
      " 0. 0.]\n",
      "in : [0. 0. 0. 0. 0. 0. 0. 0. 0. 0. 0. 0. 0. 0. 0. 0. 0. 0. 0. 0. 0. 0. 0. 0.\n",
      " 0. 0. 0. 0. 0. 0. 0. 0. 0. 0. 0. 0. 0. 0. 0. 0. 0. 0. 0. 0. 0. 0. 0. 0.\n",
      " 0. 0. 0. 0. 0. 0. 0. 0. 0. 0. 0. 0. 0. 0. 0. 0. 0. 0. 0. 0. 0. 1. 0. 0.\n",
      " 0. 0. 0. 0. 0. 0. 0. 0. 0. 0. 0. 0. 0. 0. 0. 0. 0. 0. 0. 0. 0. 0. 0. 0.\n",
      " 0. 0. 0. 0. 0. 0. 0. 0. 0. 0. 0. 0. 0. 0. 0. 0. 0. 0. 0. 0. 0. 0. 0. 0.\n",
      " 0. 0. 0. 0. 0. 0. 0. 0. 0. 0. 0. 0. 0. 0. 0. 0. 0. 0. 0. 0. 0. 0. 0. 0.\n",
      " 0. 0.]\n",
      "industries, : [0. 0. 0. 0. 0. 0. 0. 0. 0. 0. 0. 0. 0. 0. 0. 0. 0. 0. 0. 0. 0. 0. 0. 0.\n",
      " 0. 0. 0. 0. 0. 0. 0. 0. 0. 0. 0. 0. 0. 0. 0. 0. 0. 0. 0. 0. 0. 0. 0. 0.\n",
      " 0. 0. 0. 0. 0. 0. 0. 0. 0. 0. 0. 0. 0. 0. 0. 0. 0. 0. 0. 0. 0. 0. 1. 0.\n",
      " 0. 0. 0. 0. 0. 0. 0. 0. 0. 0. 0. 0. 0. 0. 0. 0. 0. 0. 0. 0. 0. 0. 0. 0.\n",
      " 0. 0. 0. 0. 0. 0. 0. 0. 0. 0. 0. 0. 0. 0. 0. 0. 0. 0. 0. 0. 0. 0. 0. 0.\n",
      " 0. 0. 0. 0. 0. 0. 0. 0. 0. 0. 0. 0. 0. 0. 0. 0. 0. 0. 0. 0. 0. 0. 0. 0.\n",
      " 0. 0.]\n",
      "information : [0. 0. 0. 0. 0. 0. 0. 0. 0. 0. 0. 0. 0. 0. 0. 0. 0. 0. 0. 0. 0. 0. 0. 0.\n",
      " 0. 0. 0. 0. 0. 0. 0. 0. 0. 0. 0. 0. 0. 0. 0. 0. 0. 0. 0. 0. 0. 0. 0. 0.\n",
      " 0. 0. 0. 0. 0. 0. 0. 0. 0. 0. 0. 0. 0. 0. 0. 0. 0. 0. 0. 0. 0. 0. 0. 1.\n",
      " 0. 0. 0. 0. 0. 0. 0. 0. 0. 0. 0. 0. 0. 0. 0. 0. 0. 0. 0. 0. 0. 0. 0. 0.\n",
      " 0. 0. 0. 0. 0. 0. 0. 0. 0. 0. 0. 0. 0. 0. 0. 0. 0. 0. 0. 0. 0. 0. 0. 0.\n",
      " 0. 0. 0. 0. 0. 0. 0. 0. 0. 0. 0. 0. 0. 0. 0. 0. 0. 0. 0. 0. 0. 0. 0. 0.\n",
      " 0. 0.]\n",
      "informed : [0. 0. 0. 0. 0. 0. 0. 0. 0. 0. 0. 0. 0. 0. 0. 0. 0. 0. 0. 0. 0. 0. 0. 0.\n",
      " 0. 0. 0. 0. 0. 0. 0. 0. 0. 0. 0. 0. 0. 0. 0. 0. 0. 0. 0. 0. 0. 0. 0. 0.\n",
      " 0. 0. 0. 0. 0. 0. 0. 0. 0. 0. 0. 0. 0. 0. 0. 0. 0. 0. 0. 0. 0. 0. 0. 0.\n",
      " 1. 0. 0. 0. 0. 0. 0. 0. 0. 0. 0. 0. 0. 0. 0. 0. 0. 0. 0. 0. 0. 0. 0. 0.\n",
      " 0. 0. 0. 0. 0. 0. 0. 0. 0. 0. 0. 0. 0. 0. 0. 0. 0. 0. 0. 0. 0. 0. 0. 0.\n",
      " 0. 0. 0. 0. 0. 0. 0. 0. 0. 0. 0. 0. 0. 0. 0. 0. 0. 0. 0. 0. 0. 0. 0. 0.\n",
      " 0. 0.]\n",
      "innovation : [0. 0. 0. 0. 0. 0. 0. 0. 0. 0. 0. 0. 0. 0. 0. 0. 0. 0. 0. 0. 0. 0. 0. 0.\n",
      " 0. 0. 0. 0. 0. 0. 0. 0. 0. 0. 0. 0. 0. 0. 0. 0. 0. 0. 0. 0. 0. 0. 0. 0.\n",
      " 0. 0. 0. 0. 0. 0. 0. 0. 0. 0. 0. 0. 0. 0. 0. 0. 0. 0. 0. 0. 0. 0. 0. 0.\n",
      " 0. 1. 0. 0. 0. 0. 0. 0. 0. 0. 0. 0. 0. 0. 0. 0. 0. 0. 0. 0. 0. 0. 0. 0.\n",
      " 0. 0. 0. 0. 0. 0. 0. 0. 0. 0. 0. 0. 0. 0. 0. 0. 0. 0. 0. 0. 0. 0. 0. 0.\n",
      " 0. 0. 0. 0. 0. 0. 0. 0. 0. 0. 0. 0. 0. 0. 0. 0. 0. 0. 0. 0. 0. 0. 0. 0.\n",
      " 0. 0.]\n",
      "innovations. : [0. 0. 0. 0. 0. 0. 0. 0. 0. 0. 0. 0. 0. 0. 0. 0. 0. 0. 0. 0. 0. 0. 0. 0.\n",
      " 0. 0. 0. 0. 0. 0. 0. 0. 0. 0. 0. 0. 0. 0. 0. 0. 0. 0. 0. 0. 0. 0. 0. 0.\n",
      " 0. 0. 0. 0. 0. 0. 0. 0. 0. 0. 0. 0. 0. 0. 0. 0. 0. 0. 0. 0. 0. 0. 0. 0.\n",
      " 0. 0. 1. 0. 0. 0. 0. 0. 0. 0. 0. 0. 0. 0. 0. 0. 0. 0. 0. 0. 0. 0. 0. 0.\n",
      " 0. 0. 0. 0. 0. 0. 0. 0. 0. 0. 0. 0. 0. 0. 0. 0. 0. 0. 0. 0. 0. 0. 0. 0.\n",
      " 0. 0. 0. 0. 0. 0. 0. 0. 0. 0. 0. 0. 0. 0. 0. 0. 0. 0. 0. 0. 0. 0. 0. 0.\n",
      " 0. 0.]\n",
      "innovative : [0. 0. 0. 0. 0. 0. 0. 0. 0. 0. 0. 0. 0. 0. 0. 0. 0. 0. 0. 0. 0. 0. 0. 0.\n",
      " 0. 0. 0. 0. 0. 0. 0. 0. 0. 0. 0. 0. 0. 0. 0. 0. 0. 0. 0. 0. 0. 0. 0. 0.\n",
      " 0. 0. 0. 0. 0. 0. 0. 0. 0. 0. 0. 0. 0. 0. 0. 0. 0. 0. 0. 0. 0. 0. 0. 0.\n",
      " 0. 0. 0. 1. 0. 0. 0. 0. 0. 0. 0. 0. 0. 0. 0. 0. 0. 0. 0. 0. 0. 0. 0. 0.\n",
      " 0. 0. 0. 0. 0. 0. 0. 0. 0. 0. 0. 0. 0. 0. 0. 0. 0. 0. 0. 0. 0. 0. 0. 0.\n",
      " 0. 0. 0. 0. 0. 0. 0. 0. 0. 0. 0. 0. 0. 0. 0. 0. 0. 0. 0. 0. 0. 0. 0. 0.\n",
      " 0. 0.]\n",
      "insights : [0. 0. 0. 0. 0. 0. 0. 0. 0. 0. 0. 0. 0. 0. 0. 0. 0. 0. 0. 0. 0. 0. 0. 0.\n",
      " 0. 0. 0. 0. 0. 0. 0. 0. 0. 0. 0. 0. 0. 0. 0. 0. 0. 0. 0. 0. 0. 0. 0. 0.\n",
      " 0. 0. 0. 0. 0. 0. 0. 0. 0. 0. 0. 0. 0. 0. 0. 0. 0. 0. 0. 0. 0. 0. 0. 0.\n",
      " 0. 0. 0. 0. 1. 0. 0. 0. 0. 0. 0. 0. 0. 0. 0. 0. 0. 0. 0. 0. 0. 0. 0. 0.\n",
      " 0. 0. 0. 0. 0. 0. 0. 0. 0. 0. 0. 0. 0. 0. 0. 0. 0. 0. 0. 0. 0. 0. 0. 0.\n",
      " 0. 0. 0. 0. 0. 0. 0. 0. 0. 0. 0. 0. 0. 0. 0. 0. 0. 0. 0. 0. 0. 0. 0. 0.\n",
      " 0. 0.]\n",
      "integrity, : [0. 0. 0. 0. 0. 0. 0. 0. 0. 0. 0. 0. 0. 0. 0. 0. 0. 0. 0. 0. 0. 0. 0. 0.\n",
      " 0. 0. 0. 0. 0. 0. 0. 0. 0. 0. 0. 0. 0. 0. 0. 0. 0. 0. 0. 0. 0. 0. 0. 0.\n",
      " 0. 0. 0. 0. 0. 0. 0. 0. 0. 0. 0. 0. 0. 0. 0. 0. 0. 0. 0. 0. 0. 0. 0. 0.\n",
      " 0. 0. 0. 0. 0. 1. 0. 0. 0. 0. 0. 0. 0. 0. 0. 0. 0. 0. 0. 0. 0. 0. 0. 0.\n",
      " 0. 0. 0. 0. 0. 0. 0. 0. 0. 0. 0. 0. 0. 0. 0. 0. 0. 0. 0. 0. 0. 0. 0. 0.\n",
      " 0. 0. 0. 0. 0. 0. 0. 0. 0. 0. 0. 0. 0. 0. 0. 0. 0. 0. 0. 0. 0. 0. 0. 0.\n",
      " 0. 0.]\n",
      "intelligence : [0. 0. 0. 0. 0. 0. 0. 0. 0. 0. 0. 0. 0. 0. 0. 0. 0. 0. 0. 0. 0. 0. 0. 0.\n",
      " 0. 0. 0. 0. 0. 0. 0. 0. 0. 0. 0. 0. 0. 0. 0. 0. 0. 0. 0. 0. 0. 0. 0. 0.\n",
      " 0. 0. 0. 0. 0. 0. 0. 0. 0. 0. 0. 0. 0. 0. 0. 0. 0. 0. 0. 0. 0. 0. 0. 0.\n",
      " 0. 0. 0. 0. 0. 0. 1. 0. 0. 0. 0. 0. 0. 0. 0. 0. 0. 0. 0. 0. 0. 0. 0. 0.\n",
      " 0. 0. 0. 0. 0. 0. 0. 0. 0. 0. 0. 0. 0. 0. 0. 0. 0. 0. 0. 0. 0. 0. 0. 0.\n",
      " 0. 0. 0. 0. 0. 0. 0. 0. 0. 0. 0. 0. 0. 0. 0. 0. 0. 0. 0. 0. 0. 0. 0. 0.\n",
      " 0. 0.]\n",
      "intelligence. : [0. 0. 0. 0. 0. 0. 0. 0. 0. 0. 0. 0. 0. 0. 0. 0. 0. 0. 0. 0. 0. 0. 0. 0.\n",
      " 0. 0. 0. 0. 0. 0. 0. 0. 0. 0. 0. 0. 0. 0. 0. 0. 0. 0. 0. 0. 0. 0. 0. 0.\n",
      " 0. 0. 0. 0. 0. 0. 0. 0. 0. 0. 0. 0. 0. 0. 0. 0. 0. 0. 0. 0. 0. 0. 0. 0.\n",
      " 0. 0. 0. 0. 0. 0. 0. 1. 0. 0. 0. 0. 0. 0. 0. 0. 0. 0. 0. 0. 0. 0. 0. 0.\n",
      " 0. 0. 0. 0. 0. 0. 0. 0. 0. 0. 0. 0. 0. 0. 0. 0. 0. 0. 0. 0. 0. 0. 0. 0.\n",
      " 0. 0. 0. 0. 0. 0. 0. 0. 0. 0. 0. 0. 0. 0. 0. 0. 0. 0. 0. 0. 0. 0. 0. 0.\n",
      " 0. 0.]\n",
      "into : [0. 0. 0. 0. 0. 0. 0. 0. 0. 0. 0. 0. 0. 0. 0. 0. 0. 0. 0. 0. 0. 0. 0. 0.\n",
      " 0. 0. 0. 0. 0. 0. 0. 0. 0. 0. 0. 0. 0. 0. 0. 0. 0. 0. 0. 0. 0. 0. 0. 0.\n",
      " 0. 0. 0. 0. 0. 0. 0. 0. 0. 0. 0. 0. 0. 0. 0. 0. 0. 0. 0. 0. 0. 0. 0. 0.\n",
      " 0. 0. 0. 0. 0. 0. 0. 0. 1. 0. 0. 0. 0. 0. 0. 0. 0. 0. 0. 0. 0. 0. 0. 0.\n",
      " 0. 0. 0. 0. 0. 0. 0. 0. 0. 0. 0. 0. 0. 0. 0. 0. 0. 0. 0. 0. 0. 0. 0. 0.\n",
      " 0. 0. 0. 0. 0. 0. 0. 0. 0. 0. 0. 0. 0. 0. 0. 0. 0. 0. 0. 0. 0. 0. 0. 0.\n",
      " 0. 0.]\n",
      "iteration : [0. 0. 0. 0. 0. 0. 0. 0. 0. 0. 0. 0. 0. 0. 0. 0. 0. 0. 0. 0. 0. 0. 0. 0.\n",
      " 0. 0. 0. 0. 0. 0. 0. 0. 0. 0. 0. 0. 0. 0. 0. 0. 0. 0. 0. 0. 0. 0. 0. 0.\n",
      " 0. 0. 0. 0. 0. 0. 0. 0. 0. 0. 0. 0. 0. 0. 0. 0. 0. 0. 0. 0. 0. 0. 0. 0.\n",
      " 0. 0. 0. 0. 0. 0. 0. 0. 0. 1. 0. 0. 0. 0. 0. 0. 0. 0. 0. 0. 0. 0. 0. 0.\n",
      " 0. 0. 0. 0. 0. 0. 0. 0. 0. 0. 0. 0. 0. 0. 0. 0. 0. 0. 0. 0. 0. 0. 0. 0.\n",
      " 0. 0. 0. 0. 0. 0. 0. 0. 0. 0. 0. 0. 0. 0. 0. 0. 0. 0. 0. 0. 0. 0. 0. 0.\n",
      " 0. 0.]\n",
      "key : [0. 0. 0. 0. 0. 0. 0. 0. 0. 0. 0. 0. 0. 0. 0. 0. 0. 0. 0. 0. 0. 0. 0. 0.\n",
      " 0. 0. 0. 0. 0. 0. 0. 0. 0. 0. 0. 0. 0. 0. 0. 0. 0. 0. 0. 0. 0. 0. 0. 0.\n",
      " 0. 0. 0. 0. 0. 0. 0. 0. 0. 0. 0. 0. 0. 0. 0. 0. 0. 0. 0. 0. 0. 0. 0. 0.\n",
      " 0. 0. 0. 0. 0. 0. 0. 0. 0. 0. 1. 0. 0. 0. 0. 0. 0. 0. 0. 0. 0. 0. 0. 0.\n",
      " 0. 0. 0. 0. 0. 0. 0. 0. 0. 0. 0. 0. 0. 0. 0. 0. 0. 0. 0. 0. 0. 0. 0. 0.\n",
      " 0. 0. 0. 0. 0. 0. 0. 0. 0. 0. 0. 0. 0. 0. 0. 0. 0. 0. 0. 0. 0. 0. 0. 0.\n",
      " 0. 0.]\n",
      "knowledge : [0. 0. 0. 0. 0. 0. 0. 0. 0. 0. 0. 0. 0. 0. 0. 0. 0. 0. 0. 0. 0. 0. 0. 0.\n",
      " 0. 0. 0. 0. 0. 0. 0. 0. 0. 0. 0. 0. 0. 0. 0. 0. 0. 0. 0. 0. 0. 0. 0. 0.\n",
      " 0. 0. 0. 0. 0. 0. 0. 0. 0. 0. 0. 0. 0. 0. 0. 0. 0. 0. 0. 0. 0. 0. 0. 0.\n",
      " 0. 0. 0. 0. 0. 0. 0. 0. 0. 0. 0. 1. 0. 0. 0. 0. 0. 0. 0. 0. 0. 0. 0. 0.\n",
      " 0. 0. 0. 0. 0. 0. 0. 0. 0. 0. 0. 0. 0. 0. 0. 0. 0. 0. 0. 0. 0. 0. 0. 0.\n",
      " 0. 0. 0. 0. 0. 0. 0. 0. 0. 0. 0. 0. 0. 0. 0. 0. 0. 0. 0. 0. 0. 0. 0. 0.\n",
      " 0. 0.]\n",
      "leap : [0. 0. 0. 0. 0. 0. 0. 0. 0. 0. 0. 0. 0. 0. 0. 0. 0. 0. 0. 0. 0. 0. 0. 0.\n",
      " 0. 0. 0. 0. 0. 0. 0. 0. 0. 0. 0. 0. 0. 0. 0. 0. 0. 0. 0. 0. 0. 0. 0. 0.\n",
      " 0. 0. 0. 0. 0. 0. 0. 0. 0. 0. 0. 0. 0. 0. 0. 0. 0. 0. 0. 0. 0. 0. 0. 0.\n",
      " 0. 0. 0. 0. 0. 0. 0. 0. 0. 0. 0. 0. 1. 0. 0. 0. 0. 0. 0. 0. 0. 0. 0. 0.\n",
      " 0. 0. 0. 0. 0. 0. 0. 0. 0. 0. 0. 0. 0. 0. 0. 0. 0. 0. 0. 0. 0. 0. 0. 0.\n",
      " 0. 0. 0. 0. 0. 0. 0. 0. 0. 0. 0. 0. 0. 0. 0. 0. 0. 0. 0. 0. 0. 0. 0. 0.\n",
      " 0. 0.]\n",
      "lives : [0. 0. 0. 0. 0. 0. 0. 0. 0. 0. 0. 0. 0. 0. 0. 0. 0. 0. 0. 0. 0. 0. 0. 0.\n",
      " 0. 0. 0. 0. 0. 0. 0. 0. 0. 0. 0. 0. 0. 0. 0. 0. 0. 0. 0. 0. 0. 0. 0. 0.\n",
      " 0. 0. 0. 0. 0. 0. 0. 0. 0. 0. 0. 0. 0. 0. 0. 0. 0. 0. 0. 0. 0. 0. 0. 0.\n",
      " 0. 0. 0. 0. 0. 0. 0. 0. 0. 0. 0. 0. 0. 1. 0. 0. 0. 0. 0. 0. 0. 0. 0. 0.\n",
      " 0. 0. 0. 0. 0. 0. 0. 0. 0. 0. 0. 0. 0. 0. 0. 0. 0. 0. 0. 0. 0. 0. 0. 0.\n",
      " 0. 0. 0. 0. 0. 0. 0. 0. 0. 0. 0. 0. 0. 0. 0. 0. 0. 0. 0. 0. 0. 0. 0. 0.\n",
      " 0. 0.]\n",
      "make : [0. 0. 0. 0. 0. 0. 0. 0. 0. 0. 0. 0. 0. 0. 0. 0. 0. 0. 0. 0. 0. 0. 0. 0.\n",
      " 0. 0. 0. 0. 0. 0. 0. 0. 0. 0. 0. 0. 0. 0. 0. 0. 0. 0. 0. 0. 0. 0. 0. 0.\n",
      " 0. 0. 0. 0. 0. 0. 0. 0. 0. 0. 0. 0. 0. 0. 0. 0. 0. 0. 0. 0. 0. 0. 0. 0.\n",
      " 0. 0. 0. 0. 0. 0. 0. 0. 0. 0. 0. 0. 0. 0. 1. 0. 0. 0. 0. 0. 0. 0. 0. 0.\n",
      " 0. 0. 0. 0. 0. 0. 0. 0. 0. 0. 0. 0. 0. 0. 0. 0. 0. 0. 0. 0. 0. 0. 0. 0.\n",
      " 0. 0. 0. 0. 0. 0. 0. 0. 0. 0. 0. 0. 0. 0. 0. 0. 0. 0. 0. 0. 0. 0. 0. 0.\n",
      " 0. 0.]\n",
      "maximum : [0. 0. 0. 0. 0. 0. 0. 0. 0. 0. 0. 0. 0. 0. 0. 0. 0. 0. 0. 0. 0. 0. 0. 0.\n",
      " 0. 0. 0. 0. 0. 0. 0. 0. 0. 0. 0. 0. 0. 0. 0. 0. 0. 0. 0. 0. 0. 0. 0. 0.\n",
      " 0. 0. 0. 0. 0. 0. 0. 0. 0. 0. 0. 0. 0. 0. 0. 0. 0. 0. 0. 0. 0. 0. 0. 0.\n",
      " 0. 0. 0. 0. 0. 0. 0. 0. 0. 0. 0. 0. 0. 0. 0. 1. 0. 0. 0. 0. 0. 0. 0. 0.\n",
      " 0. 0. 0. 0. 0. 0. 0. 0. 0. 0. 0. 0. 0. 0. 0. 0. 0. 0. 0. 0. 0. 0. 0. 0.\n",
      " 0. 0. 0. 0. 0. 0. 0. 0. 0. 0. 0. 0. 0. 0. 0. 0. 0. 0. 0. 0. 0. 0. 0. 0.\n",
      " 0. 0.]\n",
      "me : [0. 0. 0. 0. 0. 0. 0. 0. 0. 0. 0. 0. 0. 0. 0. 0. 0. 0. 0. 0. 0. 0. 0. 0.\n",
      " 0. 0. 0. 0. 0. 0. 0. 0. 0. 0. 0. 0. 0. 0. 0. 0. 0. 0. 0. 0. 0. 0. 0. 0.\n",
      " 0. 0. 0. 0. 0. 0. 0. 0. 0. 0. 0. 0. 0. 0. 0. 0. 0. 0. 0. 0. 0. 0. 0. 0.\n",
      " 0. 0. 0. 0. 0. 0. 0. 0. 0. 0. 0. 0. 0. 0. 0. 0. 1. 0. 0. 0. 0. 0. 0. 0.\n",
      " 0. 0. 0. 0. 0. 0. 0. 0. 0. 0. 0. 0. 0. 0. 0. 0. 0. 0. 0. 0. 0. 0. 0. 0.\n",
      " 0. 0. 0. 0. 0. 0. 0. 0. 0. 0. 0. 0. 0. 0. 0. 0. 0. 0. 0. 0. 0. 0. 0. 0.\n",
      " 0. 0.]\n",
      "model : [0. 0. 0. 0. 0. 0. 0. 0. 0. 0. 0. 0. 0. 0. 0. 0. 0. 0. 0. 0. 0. 0. 0. 0.\n",
      " 0. 0. 0. 0. 0. 0. 0. 0. 0. 0. 0. 0. 0. 0. 0. 0. 0. 0. 0. 0. 0. 0. 0. 0.\n",
      " 0. 0. 0. 0. 0. 0. 0. 0. 0. 0. 0. 0. 0. 0. 0. 0. 0. 0. 0. 0. 0. 0. 0. 0.\n",
      " 0. 0. 0. 0. 0. 0. 0. 0. 0. 0. 0. 0. 0. 0. 0. 0. 0. 1. 0. 0. 0. 0. 0. 0.\n",
      " 0. 0. 0. 0. 0. 0. 0. 0. 0. 0. 0. 0. 0. 0. 0. 0. 0. 0. 0. 0. 0. 0. 0. 0.\n",
      " 0. 0. 0. 0. 0. 0. 0. 0. 0. 0. 0. 0. 0. 0. 0. 0. 0. 0. 0. 0. 0. 0. 0. 0.\n",
      " 0. 0.]\n",
      "most : [0. 0. 0. 0. 0. 0. 0. 0. 0. 0. 0. 0. 0. 0. 0. 0. 0. 0. 0. 0. 0. 0. 0. 0.\n",
      " 0. 0. 0. 0. 0. 0. 0. 0. 0. 0. 0. 0. 0. 0. 0. 0. 0. 0. 0. 0. 0. 0. 0. 0.\n",
      " 0. 0. 0. 0. 0. 0. 0. 0. 0. 0. 0. 0. 0. 0. 0. 0. 0. 0. 0. 0. 0. 0. 0. 0.\n",
      " 0. 0. 0. 0. 0. 0. 0. 0. 0. 0. 0. 0. 0. 0. 0. 0. 0. 0. 1. 0. 0. 0. 0. 0.\n",
      " 0. 0. 0. 0. 0. 0. 0. 0. 0. 0. 0. 0. 0. 0. 0. 0. 0. 0. 0. 0. 0. 0. 0. 0.\n",
      " 0. 0. 0. 0. 0. 0. 0. 0. 0. 0. 0. 0. 0. 0. 0. 0. 0. 0. 0. 0. 0. 0. 0. 0.\n",
      " 0. 0.]\n",
      "of : [0. 0. 0. 0. 0. 0. 0. 0. 0. 0. 0. 0. 0. 0. 0. 0. 0. 0. 0. 0. 0. 0. 0. 0.\n",
      " 0. 0. 0. 0. 0. 0. 0. 0. 0. 0. 0. 0. 0. 0. 0. 0. 0. 0. 0. 0. 0. 0. 0. 0.\n",
      " 0. 0. 0. 0. 0. 0. 0. 0. 0. 0. 0. 0. 0. 0. 0. 0. 0. 0. 0. 0. 0. 0. 0. 0.\n",
      " 0. 0. 0. 0. 0. 0. 0. 0. 0. 0. 0. 0. 0. 0. 0. 0. 0. 0. 0. 1. 0. 0. 0. 0.\n",
      " 0. 0. 0. 0. 0. 0. 0. 0. 0. 0. 0. 0. 0. 0. 0. 0. 0. 0. 0. 0. 0. 0. 0. 0.\n",
      " 0. 0. 0. 0. 0. 0. 0. 0. 0. 0. 0. 0. 0. 0. 0. 0. 0. 0. 0. 0. 0. 0. 0. 0.\n",
      " 0. 0.]\n",
      "optimal : [0. 0. 0. 0. 0. 0. 0. 0. 0. 0. 0. 0. 0. 0. 0. 0. 0. 0. 0. 0. 0. 0. 0. 0.\n",
      " 0. 0. 0. 0. 0. 0. 0. 0. 0. 0. 0. 0. 0. 0. 0. 0. 0. 0. 0. 0. 0. 0. 0. 0.\n",
      " 0. 0. 0. 0. 0. 0. 0. 0. 0. 0. 0. 0. 0. 0. 0. 0. 0. 0. 0. 0. 0. 0. 0. 0.\n",
      " 0. 0. 0. 0. 0. 0. 0. 0. 0. 0. 0. 0. 0. 0. 0. 0. 0. 0. 0. 0. 1. 0. 0. 0.\n",
      " 0. 0. 0. 0. 0. 0. 0. 0. 0. 0. 0. 0. 0. 0. 0. 0. 0. 0. 0. 0. 0. 0. 0. 0.\n",
      " 0. 0. 0. 0. 0. 0. 0. 0. 0. 0. 0. 0. 0. 0. 0. 0. 0. 0. 0. 0. 0. 0. 0. 0.\n",
      " 0. 0.]\n",
      "optimization : [0. 0. 0. 0. 0. 0. 0. 0. 0. 0. 0. 0. 0. 0. 0. 0. 0. 0. 0. 0. 0. 0. 0. 0.\n",
      " 0. 0. 0. 0. 0. 0. 0. 0. 0. 0. 0. 0. 0. 0. 0. 0. 0. 0. 0. 0. 0. 0. 0. 0.\n",
      " 0. 0. 0. 0. 0. 0. 0. 0. 0. 0. 0. 0. 0. 0. 0. 0. 0. 0. 0. 0. 0. 0. 0. 0.\n",
      " 0. 0. 0. 0. 0. 0. 0. 0. 0. 0. 0. 0. 0. 0. 0. 0. 0. 0. 0. 0. 0. 1. 0. 0.\n",
      " 0. 0. 0. 0. 0. 0. 0. 0. 0. 0. 0. 0. 0. 0. 0. 0. 0. 0. 0. 0. 0. 0. 0. 0.\n",
      " 0. 0. 0. 0. 0. 0. 0. 0. 0. 0. 0. 0. 0. 0. 0. 0. 0. 0. 0. 0. 0. 0. 0. 0.\n",
      " 0. 0.]\n",
      "optimize : [0. 0. 0. 0. 0. 0. 0. 0. 0. 0. 0. 0. 0. 0. 0. 0. 0. 0. 0. 0. 0. 0. 0. 0.\n",
      " 0. 0. 0. 0. 0. 0. 0. 0. 0. 0. 0. 0. 0. 0. 0. 0. 0. 0. 0. 0. 0. 0. 0. 0.\n",
      " 0. 0. 0. 0. 0. 0. 0. 0. 0. 0. 0. 0. 0. 0. 0. 0. 0. 0. 0. 0. 0. 0. 0. 0.\n",
      " 0. 0. 0. 0. 0. 0. 0. 0. 0. 0. 0. 0. 0. 0. 0. 0. 0. 0. 0. 0. 0. 0. 1. 0.\n",
      " 0. 0. 0. 0. 0. 0. 0. 0. 0. 0. 0. 0. 0. 0. 0. 0. 0. 0. 0. 0. 0. 0. 0. 0.\n",
      " 0. 0. 0. 0. 0. 0. 0. 0. 0. 0. 0. 0. 0. 0. 0. 0. 0. 0. 0. 0. 0. 0. 0. 0.\n",
      " 0. 0.]\n",
      "optimized : [0. 0. 0. 0. 0. 0. 0. 0. 0. 0. 0. 0. 0. 0. 0. 0. 0. 0. 0. 0. 0. 0. 0. 0.\n",
      " 0. 0. 0. 0. 0. 0. 0. 0. 0. 0. 0. 0. 0. 0. 0. 0. 0. 0. 0. 0. 0. 0. 0. 0.\n",
      " 0. 0. 0. 0. 0. 0. 0. 0. 0. 0. 0. 0. 0. 0. 0. 0. 0. 0. 0. 0. 0. 0. 0. 0.\n",
      " 0. 0. 0. 0. 0. 0. 0. 0. 0. 0. 0. 0. 0. 0. 0. 0. 0. 0. 0. 0. 0. 0. 0. 1.\n",
      " 0. 0. 0. 0. 0. 0. 0. 0. 0. 0. 0. 0. 0. 0. 0. 0. 0. 0. 0. 0. 0. 0. 0. 0.\n",
      " 0. 0. 0. 0. 0. 0. 0. 0. 0. 0. 0. 0. 0. 0. 0. 0. 0. 0. 0. 0. 0. 0. 0. 0.\n",
      " 0. 0.]\n",
      "outcomes. : [0. 0. 0. 0. 0. 0. 0. 0. 0. 0. 0. 0. 0. 0. 0. 0. 0. 0. 0. 0. 0. 0. 0. 0.\n",
      " 0. 0. 0. 0. 0. 0. 0. 0. 0. 0. 0. 0. 0. 0. 0. 0. 0. 0. 0. 0. 0. 0. 0. 0.\n",
      " 0. 0. 0. 0. 0. 0. 0. 0. 0. 0. 0. 0. 0. 0. 0. 0. 0. 0. 0. 0. 0. 0. 0. 0.\n",
      " 0. 0. 0. 0. 0. 0. 0. 0. 0. 0. 0. 0. 0. 0. 0. 0. 0. 0. 0. 0. 0. 0. 0. 0.\n",
      " 1. 0. 0. 0. 0. 0. 0. 0. 0. 0. 0. 0. 0. 0. 0. 0. 0. 0. 0. 0. 0. 0. 0. 0.\n",
      " 0. 0. 0. 0. 0. 0. 0. 0. 0. 0. 0. 0. 0. 0. 0. 0. 0. 0. 0. 0. 0. 0. 0. 0.\n",
      " 0. 0.]\n",
      "pave : [0. 0. 0. 0. 0. 0. 0. 0. 0. 0. 0. 0. 0. 0. 0. 0. 0. 0. 0. 0. 0. 0. 0. 0.\n",
      " 0. 0. 0. 0. 0. 0. 0. 0. 0. 0. 0. 0. 0. 0. 0. 0. 0. 0. 0. 0. 0. 0. 0. 0.\n",
      " 0. 0. 0. 0. 0. 0. 0. 0. 0. 0. 0. 0. 0. 0. 0. 0. 0. 0. 0. 0. 0. 0. 0. 0.\n",
      " 0. 0. 0. 0. 0. 0. 0. 0. 0. 0. 0. 0. 0. 0. 0. 0. 0. 0. 0. 0. 0. 0. 0. 0.\n",
      " 0. 1. 0. 0. 0. 0. 0. 0. 0. 0. 0. 0. 0. 0. 0. 0. 0. 0. 0. 0. 0. 0. 0. 0.\n",
      " 0. 0. 0. 0. 0. 0. 0. 0. 0. 0. 0. 0. 0. 0. 0. 0. 0. 0. 0. 0. 0. 0. 0. 0.\n",
      " 0. 0.]\n",
      "performance. : [0. 0. 0. 0. 0. 0. 0. 0. 0. 0. 0. 0. 0. 0. 0. 0. 0. 0. 0. 0. 0. 0. 0. 0.\n",
      " 0. 0. 0. 0. 0. 0. 0. 0. 0. 0. 0. 0. 0. 0. 0. 0. 0. 0. 0. 0. 0. 0. 0. 0.\n",
      " 0. 0. 0. 0. 0. 0. 0. 0. 0. 0. 0. 0. 0. 0. 0. 0. 0. 0. 0. 0. 0. 0. 0. 0.\n",
      " 0. 0. 0. 0. 0. 0. 0. 0. 0. 0. 0. 0. 0. 0. 0. 0. 0. 0. 0. 0. 0. 0. 0. 0.\n",
      " 0. 0. 1. 0. 0. 0. 0. 0. 0. 0. 0. 0. 0. 0. 0. 0. 0. 0. 0. 0. 0. 0. 0. 0.\n",
      " 0. 0. 0. 0. 0. 0. 0. 0. 0. 0. 0. 0. 0. 0. 0. 0. 0. 0. 0. 0. 0. 0. 0. 0.\n",
      " 0. 0.]\n",
      "pioneer : [0. 0. 0. 0. 0. 0. 0. 0. 0. 0. 0. 0. 0. 0. 0. 0. 0. 0. 0. 0. 0. 0. 0. 0.\n",
      " 0. 0. 0. 0. 0. 0. 0. 0. 0. 0. 0. 0. 0. 0. 0. 0. 0. 0. 0. 0. 0. 0. 0. 0.\n",
      " 0. 0. 0. 0. 0. 0. 0. 0. 0. 0. 0. 0. 0. 0. 0. 0. 0. 0. 0. 0. 0. 0. 0. 0.\n",
      " 0. 0. 0. 0. 0. 0. 0. 0. 0. 0. 0. 0. 0. 0. 0. 0. 0. 0. 0. 0. 0. 0. 0. 0.\n",
      " 0. 0. 0. 1. 0. 0. 0. 0. 0. 0. 0. 0. 0. 0. 0. 0. 0. 0. 0. 0. 0. 0. 0. 0.\n",
      " 0. 0. 0. 0. 0. 0. 0. 0. 0. 0. 0. 0. 0. 0. 0. 0. 0. 0. 0. 0. 0. 0. 0. 0.\n",
      " 0. 0.]\n",
      "point : [0. 0. 0. 0. 0. 0. 0. 0. 0. 0. 0. 0. 0. 0. 0. 0. 0. 0. 0. 0. 0. 0. 0. 0.\n",
      " 0. 0. 0. 0. 0. 0. 0. 0. 0. 0. 0. 0. 0. 0. 0. 0. 0. 0. 0. 0. 0. 0. 0. 0.\n",
      " 0. 0. 0. 0. 0. 0. 0. 0. 0. 0. 0. 0. 0. 0. 0. 0. 0. 0. 0. 0. 0. 0. 0. 0.\n",
      " 0. 0. 0. 0. 0. 0. 0. 0. 0. 0. 0. 0. 0. 0. 0. 0. 0. 0. 0. 0. 0. 0. 0. 0.\n",
      " 0. 0. 0. 0. 1. 0. 0. 0. 0. 0. 0. 0. 0. 0. 0. 0. 0. 0. 0. 0. 0. 0. 0. 0.\n",
      " 0. 0. 0. 0. 0. 0. 0. 0. 0. 0. 0. 0. 0. 0. 0. 0. 0. 0. 0. 0. 0. 0. 0. 0.\n",
      " 0. 0.]\n",
      "potentials. : [0. 0. 0. 0. 0. 0. 0. 0. 0. 0. 0. 0. 0. 0. 0. 0. 0. 0. 0. 0. 0. 0. 0. 0.\n",
      " 0. 0. 0. 0. 0. 0. 0. 0. 0. 0. 0. 0. 0. 0. 0. 0. 0. 0. 0. 0. 0. 0. 0. 0.\n",
      " 0. 0. 0. 0. 0. 0. 0. 0. 0. 0. 0. 0. 0. 0. 0. 0. 0. 0. 0. 0. 0. 0. 0. 0.\n",
      " 0. 0. 0. 0. 0. 0. 0. 0. 0. 0. 0. 0. 0. 0. 0. 0. 0. 0. 0. 0. 0. 0. 0. 0.\n",
      " 0. 0. 0. 0. 0. 1. 0. 0. 0. 0. 0. 0. 0. 0. 0. 0. 0. 0. 0. 0. 0. 0. 0. 0.\n",
      " 0. 0. 0. 0. 0. 0. 0. 0. 0. 0. 0. 0. 0. 0. 0. 0. 0. 0. 0. 0. 0. 0. 0. 0.\n",
      " 0. 0.]\n",
      "precision. : [0. 0. 0. 0. 0. 0. 0. 0. 0. 0. 0. 0. 0. 0. 0. 0. 0. 0. 0. 0. 0. 0. 0. 0.\n",
      " 0. 0. 0. 0. 0. 0. 0. 0. 0. 0. 0. 0. 0. 0. 0. 0. 0. 0. 0. 0. 0. 0. 0. 0.\n",
      " 0. 0. 0. 0. 0. 0. 0. 0. 0. 0. 0. 0. 0. 0. 0. 0. 0. 0. 0. 0. 0. 0. 0. 0.\n",
      " 0. 0. 0. 0. 0. 0. 0. 0. 0. 0. 0. 0. 0. 0. 0. 0. 0. 0. 0. 0. 0. 0. 0. 0.\n",
      " 0. 0. 0. 0. 0. 0. 1. 0. 0. 0. 0. 0. 0. 0. 0. 0. 0. 0. 0. 0. 0. 0. 0. 0.\n",
      " 0. 0. 0. 0. 0. 0. 0. 0. 0. 0. 0. 0. 0. 0. 0. 0. 0. 0. 0. 0. 0. 0. 0. 0.\n",
      " 0. 0.]\n",
      "pressing : [0. 0. 0. 0. 0. 0. 0. 0. 0. 0. 0. 0. 0. 0. 0. 0. 0. 0. 0. 0. 0. 0. 0. 0.\n",
      " 0. 0. 0. 0. 0. 0. 0. 0. 0. 0. 0. 0. 0. 0. 0. 0. 0. 0. 0. 0. 0. 0. 0. 0.\n",
      " 0. 0. 0. 0. 0. 0. 0. 0. 0. 0. 0. 0. 0. 0. 0. 0. 0. 0. 0. 0. 0. 0. 0. 0.\n",
      " 0. 0. 0. 0. 0. 0. 0. 0. 0. 0. 0. 0. 0. 0. 0. 0. 0. 0. 0. 0. 0. 0. 0. 0.\n",
      " 0. 0. 0. 0. 0. 0. 0. 1. 0. 0. 0. 0. 0. 0. 0. 0. 0. 0. 0. 0. 0. 0. 0. 0.\n",
      " 0. 0. 0. 0. 0. 0. 0. 0. 0. 0. 0. 0. 0. 0. 0. 0. 0. 0. 0. 0. 0. 0. 0. 0.\n",
      " 0. 0.]\n",
      "privacy : [0. 0. 0. 0. 0. 0. 0. 0. 0. 0. 0. 0. 0. 0. 0. 0. 0. 0. 0. 0. 0. 0. 0. 0.\n",
      " 0. 0. 0. 0. 0. 0. 0. 0. 0. 0. 0. 0. 0. 0. 0. 0. 0. 0. 0. 0. 0. 0. 0. 0.\n",
      " 0. 0. 0. 0. 0. 0. 0. 0. 0. 0. 0. 0. 0. 0. 0. 0. 0. 0. 0. 0. 0. 0. 0. 0.\n",
      " 0. 0. 0. 0. 0. 0. 0. 0. 0. 0. 0. 0. 0. 0. 0. 0. 0. 0. 0. 0. 0. 0. 0. 0.\n",
      " 0. 0. 0. 0. 0. 0. 0. 0. 1. 0. 0. 0. 0. 0. 0. 0. 0. 0. 0. 0. 0. 0. 0. 0.\n",
      " 0. 0. 0. 0. 0. 0. 0. 0. 0. 0. 0. 0. 0. 0. 0. 0. 0. 0. 0. 0. 0. 0. 0. 0.\n",
      " 0. 0.]\n",
      "processes : [0. 0. 0. 0. 0. 0. 0. 0. 0. 0. 0. 0. 0. 0. 0. 0. 0. 0. 0. 0. 0. 0. 0. 0.\n",
      " 0. 0. 0. 0. 0. 0. 0. 0. 0. 0. 0. 0. 0. 0. 0. 0. 0. 0. 0. 0. 0. 0. 0. 0.\n",
      " 0. 0. 0. 0. 0. 0. 0. 0. 0. 0. 0. 0. 0. 0. 0. 0. 0. 0. 0. 0. 0. 0. 0. 0.\n",
      " 0. 0. 0. 0. 0. 0. 0. 0. 0. 0. 0. 0. 0. 0. 0. 0. 0. 0. 0. 0. 0. 0. 0. 0.\n",
      " 0. 0. 0. 0. 0. 0. 0. 0. 0. 1. 0. 0. 0. 0. 0. 0. 0. 0. 0. 0. 0. 0. 0. 0.\n",
      " 0. 0. 0. 0. 0. 0. 0. 0. 0. 0. 0. 0. 0. 0. 0. 0. 0. 0. 0. 0. 0. 0. 0. 0.\n",
      " 0. 0.]\n",
      "progress : [0. 0. 0. 0. 0. 0. 0. 0. 0. 0. 0. 0. 0. 0. 0. 0. 0. 0. 0. 0. 0. 0. 0. 0.\n",
      " 0. 0. 0. 0. 0. 0. 0. 0. 0. 0. 0. 0. 0. 0. 0. 0. 0. 0. 0. 0. 0. 0. 0. 0.\n",
      " 0. 0. 0. 0. 0. 0. 0. 0. 0. 0. 0. 0. 0. 0. 0. 0. 0. 0. 0. 0. 0. 0. 0. 0.\n",
      " 0. 0. 0. 0. 0. 0. 0. 0. 0. 0. 0. 0. 0. 0. 0. 0. 0. 0. 0. 0. 0. 0. 0. 0.\n",
      " 0. 0. 0. 0. 0. 0. 0. 0. 0. 0. 1. 0. 0. 0. 0. 0. 0. 0. 0. 0. 0. 0. 0. 0.\n",
      " 0. 0. 0. 0. 0. 0. 0. 0. 0. 0. 0. 0. 0. 0. 0. 0. 0. 0. 0. 0. 0. 0. 0. 0.\n",
      " 0. 0.]\n",
      "protects : [0. 0. 0. 0. 0. 0. 0. 0. 0. 0. 0. 0. 0. 0. 0. 0. 0. 0. 0. 0. 0. 0. 0. 0.\n",
      " 0. 0. 0. 0. 0. 0. 0. 0. 0. 0. 0. 0. 0. 0. 0. 0. 0. 0. 0. 0. 0. 0. 0. 0.\n",
      " 0. 0. 0. 0. 0. 0. 0. 0. 0. 0. 0. 0. 0. 0. 0. 0. 0. 0. 0. 0. 0. 0. 0. 0.\n",
      " 0. 0. 0. 0. 0. 0. 0. 0. 0. 0. 0. 0. 0. 0. 0. 0. 0. 0. 0. 0. 0. 0. 0. 0.\n",
      " 0. 0. 0. 0. 0. 0. 0. 0. 0. 0. 0. 1. 0. 0. 0. 0. 0. 0. 0. 0. 0. 0. 0. 0.\n",
      " 0. 0. 0. 0. 0. 0. 0. 0. 0. 0. 0. 0. 0. 0. 0. 0. 0. 0. 0. 0. 0. 0. 0. 0.\n",
      " 0. 0.]\n",
      "protocols : [0. 0. 0. 0. 0. 0. 0. 0. 0. 0. 0. 0. 0. 0. 0. 0. 0. 0. 0. 0. 0. 0. 0. 0.\n",
      " 0. 0. 0. 0. 0. 0. 0. 0. 0. 0. 0. 0. 0. 0. 0. 0. 0. 0. 0. 0. 0. 0. 0. 0.\n",
      " 0. 0. 0. 0. 0. 0. 0. 0. 0. 0. 0. 0. 0. 0. 0. 0. 0. 0. 0. 0. 0. 0. 0. 0.\n",
      " 0. 0. 0. 0. 0. 0. 0. 0. 0. 0. 0. 0. 0. 0. 0. 0. 0. 0. 0. 0. 0. 0. 0. 0.\n",
      " 0. 0. 0. 0. 0. 0. 0. 0. 0. 0. 0. 0. 1. 0. 0. 0. 0. 0. 0. 0. 0. 0. 0. 0.\n",
      " 0. 0. 0. 0. 0. 0. 0. 0. 0. 0. 0. 0. 0. 0. 0. 0. 0. 0. 0. 0. 0. 0. 0. 0.\n",
      " 0. 0.]\n",
      "raw : [0. 0. 0. 0. 0. 0. 0. 0. 0. 0. 0. 0. 0. 0. 0. 0. 0. 0. 0. 0. 0. 0. 0. 0.\n",
      " 0. 0. 0. 0. 0. 0. 0. 0. 0. 0. 0. 0. 0. 0. 0. 0. 0. 0. 0. 0. 0. 0. 0. 0.\n",
      " 0. 0. 0. 0. 0. 0. 0. 0. 0. 0. 0. 0. 0. 0. 0. 0. 0. 0. 0. 0. 0. 0. 0. 0.\n",
      " 0. 0. 0. 0. 0. 0. 0. 0. 0. 0. 0. 0. 0. 0. 0. 0. 0. 0. 0. 0. 0. 0. 0. 0.\n",
      " 0. 0. 0. 0. 0. 0. 0. 0. 0. 0. 0. 0. 0. 1. 0. 0. 0. 0. 0. 0. 0. 0. 0. 0.\n",
      " 0. 0. 0. 0. 0. 0. 0. 0. 0. 0. 0. 0. 0. 0. 0. 0. 0. 0. 0. 0. 0. 0. 0. 0.\n",
      " 0. 0.]\n",
      "real-world : [0. 0. 0. 0. 0. 0. 0. 0. 0. 0. 0. 0. 0. 0. 0. 0. 0. 0. 0. 0. 0. 0. 0. 0.\n",
      " 0. 0. 0. 0. 0. 0. 0. 0. 0. 0. 0. 0. 0. 0. 0. 0. 0. 0. 0. 0. 0. 0. 0. 0.\n",
      " 0. 0. 0. 0. 0. 0. 0. 0. 0. 0. 0. 0. 0. 0. 0. 0. 0. 0. 0. 0. 0. 0. 0. 0.\n",
      " 0. 0. 0. 0. 0. 0. 0. 0. 0. 0. 0. 0. 0. 0. 0. 0. 0. 0. 0. 0. 0. 0. 0. 0.\n",
      " 0. 0. 0. 0. 0. 0. 0. 0. 0. 0. 0. 0. 0. 0. 1. 0. 0. 0. 0. 0. 0. 0. 0. 0.\n",
      " 0. 0. 0. 0. 0. 0. 0. 0. 0. 0. 0. 0. 0. 0. 0. 0. 0. 0. 0. 0. 0. 0. 0. 0.\n",
      " 0. 0.]\n",
      "represents : [0. 0. 0. 0. 0. 0. 0. 0. 0. 0. 0. 0. 0. 0. 0. 0. 0. 0. 0. 0. 0. 0. 0. 0.\n",
      " 0. 0. 0. 0. 0. 0. 0. 0. 0. 0. 0. 0. 0. 0. 0. 0. 0. 0. 0. 0. 0. 0. 0. 0.\n",
      " 0. 0. 0. 0. 0. 0. 0. 0. 0. 0. 0. 0. 0. 0. 0. 0. 0. 0. 0. 0. 0. 0. 0. 0.\n",
      " 0. 0. 0. 0. 0. 0. 0. 0. 0. 0. 0. 0. 0. 0. 0. 0. 0. 0. 0. 0. 0. 0. 0. 0.\n",
      " 0. 0. 0. 0. 0. 0. 0. 0. 0. 0. 0. 0. 0. 0. 0. 1. 0. 0. 0. 0. 0. 0. 0. 0.\n",
      " 0. 0. 0. 0. 0. 0. 0. 0. 0. 0. 0. 0. 0. 0. 0. 0. 0. 0. 0. 0. 0. 0. 0. 0.\n",
      " 0. 0.]\n",
      "research : [0. 0. 0. 0. 0. 0. 0. 0. 0. 0. 0. 0. 0. 0. 0. 0. 0. 0. 0. 0. 0. 0. 0. 0.\n",
      " 0. 0. 0. 0. 0. 0. 0. 0. 0. 0. 0. 0. 0. 0. 0. 0. 0. 0. 0. 0. 0. 0. 0. 0.\n",
      " 0. 0. 0. 0. 0. 0. 0. 0. 0. 0. 0. 0. 0. 0. 0. 0. 0. 0. 0. 0. 0. 0. 0. 0.\n",
      " 0. 0. 0. 0. 0. 0. 0. 0. 0. 0. 0. 0. 0. 0. 0. 0. 0. 0. 0. 0. 0. 0. 0. 0.\n",
      " 0. 0. 0. 0. 0. 0. 0. 0. 0. 0. 0. 0. 0. 0. 0. 0. 1. 0. 0. 0. 0. 0. 0. 0.\n",
      " 0. 0. 0. 0. 0. 0. 0. 0. 0. 0. 0. 0. 0. 0. 0. 0. 0. 0. 0. 0. 0. 0. 0. 0.\n",
      " 0. 0.]\n",
      "revolutionizes : [0. 0. 0. 0. 0. 0. 0. 0. 0. 0. 0. 0. 0. 0. 0. 0. 0. 0. 0. 0. 0. 0. 0. 0.\n",
      " 0. 0. 0. 0. 0. 0. 0. 0. 0. 0. 0. 0. 0. 0. 0. 0. 0. 0. 0. 0. 0. 0. 0. 0.\n",
      " 0. 0. 0. 0. 0. 0. 0. 0. 0. 0. 0. 0. 0. 0. 0. 0. 0. 0. 0. 0. 0. 0. 0. 0.\n",
      " 0. 0. 0. 0. 0. 0. 0. 0. 0. 0. 0. 0. 0. 0. 0. 0. 0. 0. 0. 0. 0. 0. 0. 0.\n",
      " 0. 0. 0. 0. 0. 0. 0. 0. 0. 0. 0. 0. 0. 0. 0. 0. 0. 1. 0. 0. 0. 0. 0. 0.\n",
      " 0. 0. 0. 0. 0. 0. 0. 0. 0. 0. 0. 0. 0. 0. 0. 0. 0. 0. 0. 0. 0. 0. 0. 0.\n",
      " 0. 0.]\n",
      "safeguards : [0. 0. 0. 0. 0. 0. 0. 0. 0. 0. 0. 0. 0. 0. 0. 0. 0. 0. 0. 0. 0. 0. 0. 0.\n",
      " 0. 0. 0. 0. 0. 0. 0. 0. 0. 0. 0. 0. 0. 0. 0. 0. 0. 0. 0. 0. 0. 0. 0. 0.\n",
      " 0. 0. 0. 0. 0. 0. 0. 0. 0. 0. 0. 0. 0. 0. 0. 0. 0. 0. 0. 0. 0. 0. 0. 0.\n",
      " 0. 0. 0. 0. 0. 0. 0. 0. 0. 0. 0. 0. 0. 0. 0. 0. 0. 0. 0. 0. 0. 0. 0. 0.\n",
      " 0. 0. 0. 0. 0. 0. 0. 0. 0. 0. 0. 0. 0. 0. 0. 0. 0. 0. 1. 0. 0. 0. 0. 0.\n",
      " 0. 0. 0. 0. 0. 0. 0. 0. 0. 0. 0. 0. 0. 0. 0. 0. 0. 0. 0. 0. 0. 0. 0. 0.\n",
      " 0. 0.]\n",
      "science : [0. 0. 0. 0. 0. 0. 0. 0. 0. 0. 0. 0. 0. 0. 0. 0. 0. 0. 0. 0. 0. 0. 0. 0.\n",
      " 0. 0. 0. 0. 0. 0. 0. 0. 0. 0. 0. 0. 0. 0. 0. 0. 0. 0. 0. 0. 0. 0. 0. 0.\n",
      " 0. 0. 0. 0. 0. 0. 0. 0. 0. 0. 0. 0. 0. 0. 0. 0. 0. 0. 0. 0. 0. 0. 0. 0.\n",
      " 0. 0. 0. 0. 0. 0. 0. 0. 0. 0. 0. 0. 0. 0. 0. 0. 0. 0. 0. 0. 0. 0. 0. 0.\n",
      " 0. 0. 0. 0. 0. 0. 0. 0. 0. 0. 0. 0. 0. 0. 0. 0. 0. 0. 0. 1. 0. 0. 0. 0.\n",
      " 0. 0. 0. 0. 0. 0. 0. 0. 0. 0. 0. 0. 0. 0. 0. 0. 0. 0. 0. 0. 0. 0. 0. 0.\n",
      " 0. 0.]\n",
      "secure : [0. 0. 0. 0. 0. 0. 0. 0. 0. 0. 0. 0. 0. 0. 0. 0. 0. 0. 0. 0. 0. 0. 0. 0.\n",
      " 0. 0. 0. 0. 0. 0. 0. 0. 0. 0. 0. 0. 0. 0. 0. 0. 0. 0. 0. 0. 0. 0. 0. 0.\n",
      " 0. 0. 0. 0. 0. 0. 0. 0. 0. 0. 0. 0. 0. 0. 0. 0. 0. 0. 0. 0. 0. 0. 0. 0.\n",
      " 0. 0. 0. 0. 0. 0. 0. 0. 0. 0. 0. 0. 0. 0. 0. 0. 0. 0. 0. 0. 0. 0. 0. 0.\n",
      " 0. 0. 0. 0. 0. 0. 0. 0. 0. 0. 0. 0. 0. 0. 0. 0. 0. 0. 0. 0. 1. 0. 0. 0.\n",
      " 0. 0. 0. 0. 0. 0. 0. 0. 0. 0. 0. 0. 0. 0. 0. 0. 0. 0. 0. 0. 0. 0. 0. 0.\n",
      " 0. 0.]\n",
      "sensitive : [0. 0. 0. 0. 0. 0. 0. 0. 0. 0. 0. 0. 0. 0. 0. 0. 0. 0. 0. 0. 0. 0. 0. 0.\n",
      " 0. 0. 0. 0. 0. 0. 0. 0. 0. 0. 0. 0. 0. 0. 0. 0. 0. 0. 0. 0. 0. 0. 0. 0.\n",
      " 0. 0. 0. 0. 0. 0. 0. 0. 0. 0. 0. 0. 0. 0. 0. 0. 0. 0. 0. 0. 0. 0. 0. 0.\n",
      " 0. 0. 0. 0. 0. 0. 0. 0. 0. 0. 0. 0. 0. 0. 0. 0. 0. 0. 0. 0. 0. 0. 0. 0.\n",
      " 0. 0. 0. 0. 0. 0. 0. 0. 0. 0. 0. 0. 0. 0. 0. 0. 0. 0. 0. 0. 0. 1. 0. 0.\n",
      " 0. 0. 0. 0. 0. 0. 0. 0. 0. 0. 0. 0. 0. 0. 0. 0. 0. 0. 0. 0. 0. 0. 0. 0.\n",
      " 0. 0.]\n",
      "shield : [0. 0. 0. 0. 0. 0. 0. 0. 0. 0. 0. 0. 0. 0. 0. 0. 0. 0. 0. 0. 0. 0. 0. 0.\n",
      " 0. 0. 0. 0. 0. 0. 0. 0. 0. 0. 0. 0. 0. 0. 0. 0. 0. 0. 0. 0. 0. 0. 0. 0.\n",
      " 0. 0. 0. 0. 0. 0. 0. 0. 0. 0. 0. 0. 0. 0. 0. 0. 0. 0. 0. 0. 0. 0. 0. 0.\n",
      " 0. 0. 0. 0. 0. 0. 0. 0. 0. 0. 0. 0. 0. 0. 0. 0. 0. 0. 0. 0. 0. 0. 0. 0.\n",
      " 0. 0. 0. 0. 0. 0. 0. 0. 0. 0. 0. 0. 0. 0. 0. 0. 0. 0. 0. 0. 0. 0. 1. 0.\n",
      " 0. 0. 0. 0. 0. 0. 0. 0. 0. 0. 0. 0. 0. 0. 0. 0. 0. 0. 0. 0. 0. 0. 0. 0.\n",
      " 0. 0.]\n",
      "solutions. : [0. 0. 0. 0. 0. 0. 0. 0. 0. 0. 0. 0. 0. 0. 0. 0. 0. 0. 0. 0. 0. 0. 0. 0.\n",
      " 0. 0. 0. 0. 0. 0. 0. 0. 0. 0. 0. 0. 0. 0. 0. 0. 0. 0. 0. 0. 0. 0. 0. 0.\n",
      " 0. 0. 0. 0. 0. 0. 0. 0. 0. 0. 0. 0. 0. 0. 0. 0. 0. 0. 0. 0. 0. 0. 0. 0.\n",
      " 0. 0. 0. 0. 0. 0. 0. 0. 0. 0. 0. 0. 0. 0. 0. 0. 0. 0. 0. 0. 0. 0. 0. 0.\n",
      " 0. 0. 0. 0. 0. 0. 0. 0. 0. 0. 0. 0. 0. 0. 0. 0. 0. 0. 0. 0. 0. 0. 0. 1.\n",
      " 0. 0. 0. 0. 0. 0. 0. 0. 0. 0. 0. 0. 0. 0. 0. 0. 0. 0. 0. 0. 0. 0. 0. 0.\n",
      " 0. 0.]\n",
      "solve : [0. 0. 0. 0. 0. 0. 0. 0. 0. 0. 0. 0. 0. 0. 0. 0. 0. 0. 0. 0. 0. 0. 0. 0.\n",
      " 0. 0. 0. 0. 0. 0. 0. 0. 0. 0. 0. 0. 0. 0. 0. 0. 0. 0. 0. 0. 0. 0. 0. 0.\n",
      " 0. 0. 0. 0. 0. 0. 0. 0. 0. 0. 0. 0. 0. 0. 0. 0. 0. 0. 0. 0. 0. 0. 0. 0.\n",
      " 0. 0. 0. 0. 0. 0. 0. 0. 0. 0. 0. 0. 0. 0. 0. 0. 0. 0. 0. 0. 0. 0. 0. 0.\n",
      " 0. 0. 0. 0. 0. 0. 0. 0. 0. 0. 0. 0. 0. 0. 0. 0. 0. 0. 0. 0. 0. 0. 0. 0.\n",
      " 1. 0. 0. 0. 0. 0. 0. 0. 0. 0. 0. 0. 0. 0. 0. 0. 0. 0. 0. 0. 0. 0. 0. 0.\n",
      " 0. 0.]\n",
      "speed : [0. 0. 0. 0. 0. 0. 0. 0. 0. 0. 0. 0. 0. 0. 0. 0. 0. 0. 0. 0. 0. 0. 0. 0.\n",
      " 0. 0. 0. 0. 0. 0. 0. 0. 0. 0. 0. 0. 0. 0. 0. 0. 0. 0. 0. 0. 0. 0. 0. 0.\n",
      " 0. 0. 0. 0. 0. 0. 0. 0. 0. 0. 0. 0. 0. 0. 0. 0. 0. 0. 0. 0. 0. 0. 0. 0.\n",
      " 0. 0. 0. 0. 0. 0. 0. 0. 0. 0. 0. 0. 0. 0. 0. 0. 0. 0. 0. 0. 0. 0. 0. 0.\n",
      " 0. 0. 0. 0. 0. 0. 0. 0. 0. 0. 0. 0. 0. 0. 0. 0. 0. 0. 0. 0. 0. 0. 0. 0.\n",
      " 0. 1. 0. 0. 0. 0. 0. 0. 0. 0. 0. 0. 0. 0. 0. 0. 0. 0. 0. 0. 0. 0. 0. 0.\n",
      " 0. 0.]\n",
      "story : [0. 0. 0. 0. 0. 0. 0. 0. 0. 0. 0. 0. 0. 0. 0. 0. 0. 0. 0. 0. 0. 0. 0. 0.\n",
      " 0. 0. 0. 0. 0. 0. 0. 0. 0. 0. 0. 0. 0. 0. 0. 0. 0. 0. 0. 0. 0. 0. 0. 0.\n",
      " 0. 0. 0. 0. 0. 0. 0. 0. 0. 0. 0. 0. 0. 0. 0. 0. 0. 0. 0. 0. 0. 0. 0. 0.\n",
      " 0. 0. 0. 0. 0. 0. 0. 0. 0. 0. 0. 0. 0. 0. 0. 0. 0. 0. 0. 0. 0. 0. 0. 0.\n",
      " 0. 0. 0. 0. 0. 0. 0. 0. 0. 0. 0. 0. 0. 0. 0. 0. 0. 0. 0. 0. 0. 0. 0. 0.\n",
      " 0. 0. 1. 0. 0. 0. 0. 0. 0. 0. 0. 0. 0. 0. 0. 0. 0. 0. 0. 0. 0. 0. 0. 0.\n",
      " 0. 0.]\n",
      "strategies. : [0. 0. 0. 0. 0. 0. 0. 0. 0. 0. 0. 0. 0. 0. 0. 0. 0. 0. 0. 0. 0. 0. 0. 0.\n",
      " 0. 0. 0. 0. 0. 0. 0. 0. 0. 0. 0. 0. 0. 0. 0. 0. 0. 0. 0. 0. 0. 0. 0. 0.\n",
      " 0. 0. 0. 0. 0. 0. 0. 0. 0. 0. 0. 0. 0. 0. 0. 0. 0. 0. 0. 0. 0. 0. 0. 0.\n",
      " 0. 0. 0. 0. 0. 0. 0. 0. 0. 0. 0. 0. 0. 0. 0. 0. 0. 0. 0. 0. 0. 0. 0. 0.\n",
      " 0. 0. 0. 0. 0. 0. 0. 0. 0. 0. 0. 0. 0. 0. 0. 0. 0. 0. 0. 0. 0. 0. 0. 0.\n",
      " 0. 0. 0. 1. 0. 0. 0. 0. 0. 0. 0. 0. 0. 0. 0. 0. 0. 0. 0. 0. 0. 0. 0. 0.\n",
      " 0. 0.]\n",
      "streamline : [0. 0. 0. 0. 0. 0. 0. 0. 0. 0. 0. 0. 0. 0. 0. 0. 0. 0. 0. 0. 0. 0. 0. 0.\n",
      " 0. 0. 0. 0. 0. 0. 0. 0. 0. 0. 0. 0. 0. 0. 0. 0. 0. 0. 0. 0. 0. 0. 0. 0.\n",
      " 0. 0. 0. 0. 0. 0. 0. 0. 0. 0. 0. 0. 0. 0. 0. 0. 0. 0. 0. 0. 0. 0. 0. 0.\n",
      " 0. 0. 0. 0. 0. 0. 0. 0. 0. 0. 0. 0. 0. 0. 0. 0. 0. 0. 0. 0. 0. 0. 0. 0.\n",
      " 0. 0. 0. 0. 0. 0. 0. 0. 0. 0. 0. 0. 0. 0. 0. 0. 0. 0. 0. 0. 0. 0. 0. 0.\n",
      " 0. 0. 0. 0. 1. 0. 0. 0. 0. 0. 0. 0. 0. 0. 0. 0. 0. 0. 0. 0. 0. 0. 0. 0.\n",
      " 0. 0.]\n",
      "strengthens : [0. 0. 0. 0. 0. 0. 0. 0. 0. 0. 0. 0. 0. 0. 0. 0. 0. 0. 0. 0. 0. 0. 0. 0.\n",
      " 0. 0. 0. 0. 0. 0. 0. 0. 0. 0. 0. 0. 0. 0. 0. 0. 0. 0. 0. 0. 0. 0. 0. 0.\n",
      " 0. 0. 0. 0. 0. 0. 0. 0. 0. 0. 0. 0. 0. 0. 0. 0. 0. 0. 0. 0. 0. 0. 0. 0.\n",
      " 0. 0. 0. 0. 0. 0. 0. 0. 0. 0. 0. 0. 0. 0. 0. 0. 0. 0. 0. 0. 0. 0. 0. 0.\n",
      " 0. 0. 0. 0. 0. 0. 0. 0. 0. 0. 0. 0. 0. 0. 0. 0. 0. 0. 0. 0. 0. 0. 0. 0.\n",
      " 0. 0. 0. 0. 0. 1. 0. 0. 0. 0. 0. 0. 0. 0. 0. 0. 0. 0. 0. 0. 0. 0. 0. 0.\n",
      " 0. 0.]\n",
      "techniques : [0. 0. 0. 0. 0. 0. 0. 0. 0. 0. 0. 0. 0. 0. 0. 0. 0. 0. 0. 0. 0. 0. 0. 0.\n",
      " 0. 0. 0. 0. 0. 0. 0. 0. 0. 0. 0. 0. 0. 0. 0. 0. 0. 0. 0. 0. 0. 0. 0. 0.\n",
      " 0. 0. 0. 0. 0. 0. 0. 0. 0. 0. 0. 0. 0. 0. 0. 0. 0. 0. 0. 0. 0. 0. 0. 0.\n",
      " 0. 0. 0. 0. 0. 0. 0. 0. 0. 0. 0. 0. 0. 0. 0. 0. 0. 0. 0. 0. 0. 0. 0. 0.\n",
      " 0. 0. 0. 0. 0. 0. 0. 0. 0. 0. 0. 0. 0. 0. 0. 0. 0. 0. 0. 0. 0. 0. 0. 0.\n",
      " 0. 0. 0. 0. 0. 0. 1. 0. 0. 0. 0. 0. 0. 0. 0. 0. 0. 0. 0. 0. 0. 0. 0. 0.\n",
      " 0. 0.]\n",
      "techniques. : [0. 0. 0. 0. 0. 0. 0. 0. 0. 0. 0. 0. 0. 0. 0. 0. 0. 0. 0. 0. 0. 0. 0. 0.\n",
      " 0. 0. 0. 0. 0. 0. 0. 0. 0. 0. 0. 0. 0. 0. 0. 0. 0. 0. 0. 0. 0. 0. 0. 0.\n",
      " 0. 0. 0. 0. 0. 0. 0. 0. 0. 0. 0. 0. 0. 0. 0. 0. 0. 0. 0. 0. 0. 0. 0. 0.\n",
      " 0. 0. 0. 0. 0. 0. 0. 0. 0. 0. 0. 0. 0. 0. 0. 0. 0. 0. 0. 0. 0. 0. 0. 0.\n",
      " 0. 0. 0. 0. 0. 0. 0. 0. 0. 0. 0. 0. 0. 0. 0. 0. 0. 0. 0. 0. 0. 0. 0. 0.\n",
      " 0. 0. 0. 0. 0. 0. 0. 1. 0. 0. 0. 0. 0. 0. 0. 0. 0. 0. 0. 0. 0. 0. 0. 0.\n",
      " 0. 0.]\n",
      "technologies. : [0. 0. 0. 0. 0. 0. 0. 0. 0. 0. 0. 0. 0. 0. 0. 0. 0. 0. 0. 0. 0. 0. 0. 0.\n",
      " 0. 0. 0. 0. 0. 0. 0. 0. 0. 0. 0. 0. 0. 0. 0. 0. 0. 0. 0. 0. 0. 0. 0. 0.\n",
      " 0. 0. 0. 0. 0. 0. 0. 0. 0. 0. 0. 0. 0. 0. 0. 0. 0. 0. 0. 0. 0. 0. 0. 0.\n",
      " 0. 0. 0. 0. 0. 0. 0. 0. 0. 0. 0. 0. 0. 0. 0. 0. 0. 0. 0. 0. 0. 0. 0. 0.\n",
      " 0. 0. 0. 0. 0. 0. 0. 0. 0. 0. 0. 0. 0. 0. 0. 0. 0. 0. 0. 0. 0. 0. 0. 0.\n",
      " 0. 0. 0. 0. 0. 0. 0. 0. 1. 0. 0. 0. 0. 0. 0. 0. 0. 0. 0. 0. 0. 0. 0. 0.\n",
      " 0. 0.]\n",
      "tells : [0. 0. 0. 0. 0. 0. 0. 0. 0. 0. 0. 0. 0. 0. 0. 0. 0. 0. 0. 0. 0. 0. 0. 0.\n",
      " 0. 0. 0. 0. 0. 0. 0. 0. 0. 0. 0. 0. 0. 0. 0. 0. 0. 0. 0. 0. 0. 0. 0. 0.\n",
      " 0. 0. 0. 0. 0. 0. 0. 0. 0. 0. 0. 0. 0. 0. 0. 0. 0. 0. 0. 0. 0. 0. 0. 0.\n",
      " 0. 0. 0. 0. 0. 0. 0. 0. 0. 0. 0. 0. 0. 0. 0. 0. 0. 0. 0. 0. 0. 0. 0. 0.\n",
      " 0. 0. 0. 0. 0. 0. 0. 0. 0. 0. 0. 0. 0. 0. 0. 0. 0. 0. 0. 0. 0. 0. 0. 0.\n",
      " 0. 0. 0. 0. 0. 0. 0. 0. 0. 1. 0. 0. 0. 0. 0. 0. 0. 0. 0. 0. 0. 0. 0. 0.\n",
      " 0. 0.]\n",
      "therapies. : [0. 0. 0. 0. 0. 0. 0. 0. 0. 0. 0. 0. 0. 0. 0. 0. 0. 0. 0. 0. 0. 0. 0. 0.\n",
      " 0. 0. 0. 0. 0. 0. 0. 0. 0. 0. 0. 0. 0. 0. 0. 0. 0. 0. 0. 0. 0. 0. 0. 0.\n",
      " 0. 0. 0. 0. 0. 0. 0. 0. 0. 0. 0. 0. 0. 0. 0. 0. 0. 0. 0. 0. 0. 0. 0. 0.\n",
      " 0. 0. 0. 0. 0. 0. 0. 0. 0. 0. 0. 0. 0. 0. 0. 0. 0. 0. 0. 0. 0. 0. 0. 0.\n",
      " 0. 0. 0. 0. 0. 0. 0. 0. 0. 0. 0. 0. 0. 0. 0. 0. 0. 0. 0. 0. 0. 0. 0. 0.\n",
      " 0. 0. 0. 0. 0. 0. 0. 0. 0. 0. 1. 0. 0. 0. 0. 0. 0. 0. 0. 0. 0. 0. 0. 0.\n",
      " 0. 0.]\n",
      "threats. : [0. 0. 0. 0. 0. 0. 0. 0. 0. 0. 0. 0. 0. 0. 0. 0. 0. 0. 0. 0. 0. 0. 0. 0.\n",
      " 0. 0. 0. 0. 0. 0. 0. 0. 0. 0. 0. 0. 0. 0. 0. 0. 0. 0. 0. 0. 0. 0. 0. 0.\n",
      " 0. 0. 0. 0. 0. 0. 0. 0. 0. 0. 0. 0. 0. 0. 0. 0. 0. 0. 0. 0. 0. 0. 0. 0.\n",
      " 0. 0. 0. 0. 0. 0. 0. 0. 0. 0. 0. 0. 0. 0. 0. 0. 0. 0. 0. 0. 0. 0. 0. 0.\n",
      " 0. 0. 0. 0. 0. 0. 0. 0. 0. 0. 0. 0. 0. 0. 0. 0. 0. 0. 0. 0. 0. 0. 0. 0.\n",
      " 0. 0. 0. 0. 0. 0. 0. 0. 0. 0. 0. 1. 0. 0. 0. 0. 0. 0. 0. 0. 0. 0. 0. 0.\n",
      " 0. 0.]\n",
      "through : [0. 0. 0. 0. 0. 0. 0. 0. 0. 0. 0. 0. 0. 0. 0. 0. 0. 0. 0. 0. 0. 0. 0. 0.\n",
      " 0. 0. 0. 0. 0. 0. 0. 0. 0. 0. 0. 0. 0. 0. 0. 0. 0. 0. 0. 0. 0. 0. 0. 0.\n",
      " 0. 0. 0. 0. 0. 0. 0. 0. 0. 0. 0. 0. 0. 0. 0. 0. 0. 0. 0. 0. 0. 0. 0. 0.\n",
      " 0. 0. 0. 0. 0. 0. 0. 0. 0. 0. 0. 0. 0. 0. 0. 0. 0. 0. 0. 0. 0. 0. 0. 0.\n",
      " 0. 0. 0. 0. 0. 0. 0. 0. 0. 0. 0. 0. 0. 0. 0. 0. 0. 0. 0. 0. 0. 0. 0. 0.\n",
      " 0. 0. 0. 0. 0. 0. 0. 0. 0. 0. 0. 0. 1. 0. 0. 0. 0. 0. 0. 0. 0. 0. 0. 0.\n",
      " 0. 0.]\n",
      "to : [0. 0. 0. 0. 0. 0. 0. 0. 0. 0. 0. 0. 0. 0. 0. 0. 0. 0. 0. 0. 0. 0. 0. 0.\n",
      " 0. 0. 0. 0. 0. 0. 0. 0. 0. 0. 0. 0. 0. 0. 0. 0. 0. 0. 0. 0. 0. 0. 0. 0.\n",
      " 0. 0. 0. 0. 0. 0. 0. 0. 0. 0. 0. 0. 0. 0. 0. 0. 0. 0. 0. 0. 0. 0. 0. 0.\n",
      " 0. 0. 0. 0. 0. 0. 0. 0. 0. 0. 0. 0. 0. 0. 0. 0. 0. 0. 0. 0. 0. 0. 0. 0.\n",
      " 0. 0. 0. 0. 0. 0. 0. 0. 0. 0. 0. 0. 0. 0. 0. 0. 0. 0. 0. 0. 0. 0. 0. 0.\n",
      " 0. 0. 0. 0. 0. 0. 0. 0. 0. 0. 0. 0. 0. 1. 0. 0. 0. 0. 0. 0. 0. 0. 0. 0.\n",
      " 0. 0.]\n",
      "trade-offs : [0. 0. 0. 0. 0. 0. 0. 0. 0. 0. 0. 0. 0. 0. 0. 0. 0. 0. 0. 0. 0. 0. 0. 0.\n",
      " 0. 0. 0. 0. 0. 0. 0. 0. 0. 0. 0. 0. 0. 0. 0. 0. 0. 0. 0. 0. 0. 0. 0. 0.\n",
      " 0. 0. 0. 0. 0. 0. 0. 0. 0. 0. 0. 0. 0. 0. 0. 0. 0. 0. 0. 0. 0. 0. 0. 0.\n",
      " 0. 0. 0. 0. 0. 0. 0. 0. 0. 0. 0. 0. 0. 0. 0. 0. 0. 0. 0. 0. 0. 0. 0. 0.\n",
      " 0. 0. 0. 0. 0. 0. 0. 0. 0. 0. 0. 0. 0. 0. 0. 0. 0. 0. 0. 0. 0. 0. 0. 0.\n",
      " 0. 0. 0. 0. 0. 0. 0. 0. 0. 0. 0. 0. 0. 0. 1. 0. 0. 0. 0. 0. 0. 0. 0. 0.\n",
      " 0. 0.]\n",
      "transactions. : [0. 0. 0. 0. 0. 0. 0. 0. 0. 0. 0. 0. 0. 0. 0. 0. 0. 0. 0. 0. 0. 0. 0. 0.\n",
      " 0. 0. 0. 0. 0. 0. 0. 0. 0. 0. 0. 0. 0. 0. 0. 0. 0. 0. 0. 0. 0. 0. 0. 0.\n",
      " 0. 0. 0. 0. 0. 0. 0. 0. 0. 0. 0. 0. 0. 0. 0. 0. 0. 0. 0. 0. 0. 0. 0. 0.\n",
      " 0. 0. 0. 0. 0. 0. 0. 0. 0. 0. 0. 0. 0. 0. 0. 0. 0. 0. 0. 0. 0. 0. 0. 0.\n",
      " 0. 0. 0. 0. 0. 0. 0. 0. 0. 0. 0. 0. 0. 0. 0. 0. 0. 0. 0. 0. 0. 0. 0. 0.\n",
      " 0. 0. 0. 0. 0. 0. 0. 0. 0. 0. 0. 0. 0. 0. 0. 1. 0. 0. 0. 0. 0. 0. 0. 0.\n",
      " 0. 0.]\n",
      "transform : [0. 0. 0. 0. 0. 0. 0. 0. 0. 0. 0. 0. 0. 0. 0. 0. 0. 0. 0. 0. 0. 0. 0. 0.\n",
      " 0. 0. 0. 0. 0. 0. 0. 0. 0. 0. 0. 0. 0. 0. 0. 0. 0. 0. 0. 0. 0. 0. 0. 0.\n",
      " 0. 0. 0. 0. 0. 0. 0. 0. 0. 0. 0. 0. 0. 0. 0. 0. 0. 0. 0. 0. 0. 0. 0. 0.\n",
      " 0. 0. 0. 0. 0. 0. 0. 0. 0. 0. 0. 0. 0. 0. 0. 0. 0. 0. 0. 0. 0. 0. 0. 0.\n",
      " 0. 0. 0. 0. 0. 0. 0. 0. 0. 0. 0. 0. 0. 0. 0. 0. 0. 0. 0. 0. 0. 0. 0. 0.\n",
      " 0. 0. 0. 0. 0. 0. 0. 0. 0. 0. 0. 0. 0. 0. 0. 0. 1. 0. 0. 0. 0. 0. 0. 0.\n",
      " 0. 0.]\n",
      "transforms : [0. 0. 0. 0. 0. 0. 0. 0. 0. 0. 0. 0. 0. 0. 0. 0. 0. 0. 0. 0. 0. 0. 0. 0.\n",
      " 0. 0. 0. 0. 0. 0. 0. 0. 0. 0. 0. 0. 0. 0. 0. 0. 0. 0. 0. 0. 0. 0. 0. 0.\n",
      " 0. 0. 0. 0. 0. 0. 0. 0. 0. 0. 0. 0. 0. 0. 0. 0. 0. 0. 0. 0. 0. 0. 0. 0.\n",
      " 0. 0. 0. 0. 0. 0. 0. 0. 0. 0. 0. 0. 0. 0. 0. 0. 0. 0. 0. 0. 0. 0. 0. 0.\n",
      " 0. 0. 0. 0. 0. 0. 0. 0. 0. 0. 0. 0. 0. 0. 0. 0. 0. 0. 0. 0. 0. 0. 0. 0.\n",
      " 0. 0. 0. 0. 0. 0. 0. 0. 0. 0. 0. 0. 0. 0. 0. 0. 0. 1. 0. 0. 0. 0. 0. 0.\n",
      " 0. 0.]\n",
      "treatments : [0. 0. 0. 0. 0. 0. 0. 0. 0. 0. 0. 0. 0. 0. 0. 0. 0. 0. 0. 0. 0. 0. 0. 0.\n",
      " 0. 0. 0. 0. 0. 0. 0. 0. 0. 0. 0. 0. 0. 0. 0. 0. 0. 0. 0. 0. 0. 0. 0. 0.\n",
      " 0. 0. 0. 0. 0. 0. 0. 0. 0. 0. 0. 0. 0. 0. 0. 0. 0. 0. 0. 0. 0. 0. 0. 0.\n",
      " 0. 0. 0. 0. 0. 0. 0. 0. 0. 0. 0. 0. 0. 0. 0. 0. 0. 0. 0. 0. 0. 0. 0. 0.\n",
      " 0. 0. 0. 0. 0. 0. 0. 0. 0. 0. 0. 0. 0. 0. 0. 0. 0. 0. 0. 0. 0. 0. 0. 0.\n",
      " 0. 0. 0. 0. 0. 0. 0. 0. 0. 0. 0. 0. 0. 0. 0. 0. 0. 0. 1. 0. 0. 0. 0. 0.\n",
      " 0. 0.]\n",
      "unbreakable : [0. 0. 0. 0. 0. 0. 0. 0. 0. 0. 0. 0. 0. 0. 0. 0. 0. 0. 0. 0. 0. 0. 0. 0.\n",
      " 0. 0. 0. 0. 0. 0. 0. 0. 0. 0. 0. 0. 0. 0. 0. 0. 0. 0. 0. 0. 0. 0. 0. 0.\n",
      " 0. 0. 0. 0. 0. 0. 0. 0. 0. 0. 0. 0. 0. 0. 0. 0. 0. 0. 0. 0. 0. 0. 0. 0.\n",
      " 0. 0. 0. 0. 0. 0. 0. 0. 0. 0. 0. 0. 0. 0. 0. 0. 0. 0. 0. 0. 0. 0. 0. 0.\n",
      " 0. 0. 0. 0. 0. 0. 0. 0. 0. 0. 0. 0. 0. 0. 0. 0. 0. 0. 0. 0. 0. 0. 0. 0.\n",
      " 0. 0. 0. 0. 0. 0. 0. 0. 0. 0. 0. 0. 0. 0. 0. 0. 0. 0. 0. 1. 0. 0. 0. 0.\n",
      " 0. 0.]\n",
      "unlocking : [0. 0. 0. 0. 0. 0. 0. 0. 0. 0. 0. 0. 0. 0. 0. 0. 0. 0. 0. 0. 0. 0. 0. 0.\n",
      " 0. 0. 0. 0. 0. 0. 0. 0. 0. 0. 0. 0. 0. 0. 0. 0. 0. 0. 0. 0. 0. 0. 0. 0.\n",
      " 0. 0. 0. 0. 0. 0. 0. 0. 0. 0. 0. 0. 0. 0. 0. 0. 0. 0. 0. 0. 0. 0. 0. 0.\n",
      " 0. 0. 0. 0. 0. 0. 0. 0. 0. 0. 0. 0. 0. 0. 0. 0. 0. 0. 0. 0. 0. 0. 0. 0.\n",
      " 0. 0. 0. 0. 0. 0. 0. 0. 0. 0. 0. 0. 0. 0. 0. 0. 0. 0. 0. 0. 0. 0. 0. 0.\n",
      " 0. 0. 0. 0. 0. 0. 0. 0. 0. 0. 0. 0. 0. 0. 0. 0. 0. 0. 0. 0. 1. 0. 0. 0.\n",
      " 0. 0.]\n",
      "valuable : [0. 0. 0. 0. 0. 0. 0. 0. 0. 0. 0. 0. 0. 0. 0. 0. 0. 0. 0. 0. 0. 0. 0. 0.\n",
      " 0. 0. 0. 0. 0. 0. 0. 0. 0. 0. 0. 0. 0. 0. 0. 0. 0. 0. 0. 0. 0. 0. 0. 0.\n",
      " 0. 0. 0. 0. 0. 0. 0. 0. 0. 0. 0. 0. 0. 0. 0. 0. 0. 0. 0. 0. 0. 0. 0. 0.\n",
      " 0. 0. 0. 0. 0. 0. 0. 0. 0. 0. 0. 0. 0. 0. 0. 0. 0. 0. 0. 0. 0. 0. 0. 0.\n",
      " 0. 0. 0. 0. 0. 0. 0. 0. 0. 0. 0. 0. 0. 0. 0. 0. 0. 0. 0. 0. 0. 0. 0. 0.\n",
      " 0. 0. 0. 0. 0. 0. 0. 0. 0. 0. 0. 0. 0. 0. 0. 0. 0. 0. 0. 0. 0. 1. 0. 0.\n",
      " 0. 0.]\n",
      "waiting : [0. 0. 0. 0. 0. 0. 0. 0. 0. 0. 0. 0. 0. 0. 0. 0. 0. 0. 0. 0. 0. 0. 0. 0.\n",
      " 0. 0. 0. 0. 0. 0. 0. 0. 0. 0. 0. 0. 0. 0. 0. 0. 0. 0. 0. 0. 0. 0. 0. 0.\n",
      " 0. 0. 0. 0. 0. 0. 0. 0. 0. 0. 0. 0. 0. 0. 0. 0. 0. 0. 0. 0. 0. 0. 0. 0.\n",
      " 0. 0. 0. 0. 0. 0. 0. 0. 0. 0. 0. 0. 0. 0. 0. 0. 0. 0. 0. 0. 0. 0. 0. 0.\n",
      " 0. 0. 0. 0. 0. 0. 0. 0. 0. 0. 0. 0. 0. 0. 0. 0. 0. 0. 0. 0. 0. 0. 0. 0.\n",
      " 0. 0. 0. 0. 0. 0. 0. 0. 0. 0. 0. 0. 0. 0. 0. 0. 0. 0. 0. 0. 0. 0. 1. 0.\n",
      " 0. 0.]\n",
      "way : [0. 0. 0. 0. 0. 0. 0. 0. 0. 0. 0. 0. 0. 0. 0. 0. 0. 0. 0. 0. 0. 0. 0. 0.\n",
      " 0. 0. 0. 0. 0. 0. 0. 0. 0. 0. 0. 0. 0. 0. 0. 0. 0. 0. 0. 0. 0. 0. 0. 0.\n",
      " 0. 0. 0. 0. 0. 0. 0. 0. 0. 0. 0. 0. 0. 0. 0. 0. 0. 0. 0. 0. 0. 0. 0. 0.\n",
      " 0. 0. 0. 0. 0. 0. 0. 0. 0. 0. 0. 0. 0. 0. 0. 0. 0. 0. 0. 0. 0. 0. 0. 0.\n",
      " 0. 0. 0. 0. 0. 0. 0. 0. 0. 0. 0. 0. 0. 0. 0. 0. 0. 0. 0. 0. 0. 0. 0. 0.\n",
      " 0. 0. 0. 0. 0. 0. 0. 0. 0. 0. 0. 0. 0. 0. 0. 0. 0. 0. 0. 0. 0. 0. 0. 1.\n",
      " 0. 0.]\n",
      "with : [0. 0. 0. 0. 0. 0. 0. 0. 0. 0. 0. 0. 0. 0. 0. 0. 0. 0. 0. 0. 0. 0. 0. 0.\n",
      " 0. 0. 0. 0. 0. 0. 0. 0. 0. 0. 0. 0. 0. 0. 0. 0. 0. 0. 0. 0. 0. 0. 0. 0.\n",
      " 0. 0. 0. 0. 0. 0. 0. 0. 0. 0. 0. 0. 0. 0. 0. 0. 0. 0. 0. 0. 0. 0. 0. 0.\n",
      " 0. 0. 0. 0. 0. 0. 0. 0. 0. 0. 0. 0. 0. 0. 0. 0. 0. 0. 0. 0. 0. 0. 0. 0.\n",
      " 0. 0. 0. 0. 0. 0. 0. 0. 0. 0. 0. 0. 0. 0. 0. 0. 0. 0. 0. 0. 0. 0. 0. 0.\n",
      " 0. 0. 0. 0. 0. 0. 0. 0. 0. 0. 0. 0. 0. 0. 0. 0. 0. 0. 0. 0. 0. 0. 0. 0.\n",
      " 1. 0.]\n",
      "workflows : [0. 0. 0. 0. 0. 0. 0. 0. 0. 0. 0. 0. 0. 0. 0. 0. 0. 0. 0. 0. 0. 0. 0. 0.\n",
      " 0. 0. 0. 0. 0. 0. 0. 0. 0. 0. 0. 0. 0. 0. 0. 0. 0. 0. 0. 0. 0. 0. 0. 0.\n",
      " 0. 0. 0. 0. 0. 0. 0. 0. 0. 0. 0. 0. 0. 0. 0. 0. 0. 0. 0. 0. 0. 0. 0. 0.\n",
      " 0. 0. 0. 0. 0. 0. 0. 0. 0. 0. 0. 0. 0. 0. 0. 0. 0. 0. 0. 0. 0. 0. 0. 0.\n",
      " 0. 0. 0. 0. 0. 0. 0. 0. 0. 0. 0. 0. 0. 0. 0. 0. 0. 0. 0. 0. 0. 0. 0. 0.\n",
      " 0. 0. 0. 0. 0. 0. 0. 0. 0. 0. 0. 0. 0. 0. 0. 0. 0. 0. 0. 0. 0. 0. 0. 0.\n",
      " 0. 1.]\n"
     ]
    }
   ],
   "source": [
    "onehot_data = np.zeros((len(all_words), len(all_words)))\n",
    "\n",
    "for i in range(len(all_words)):\n",
    "    onehot_data[i][i] = 1\n",
    "\n",
    "onehot_dict = {}\n",
    "counter = 0\n",
    "for word in all_words:\n",
    "    onehot_dict[word] = onehot_data[counter]\n",
    "    counter += 1\n",
    "\n",
    "for word in onehot_dict:\n",
    "    print(word, \":\", onehot_dict[word])\n"
   ]
  },
  {
   "cell_type": "code",
   "execution_count": 9,
   "id": "0a6fe9e5",
   "metadata": {},
   "outputs": [],
   "source": [
    "X = []\n",
    "Y = []\n",
    "\n",
    "for bi in bigrams:\n",
    "    X.append(onehot_dict[bi[0]])\n",
    "    Y.append(onehot_dict[bi[1]])\n",
    "    \n",
    "X = np.array(X)\n",
    "Y = np.array(Y)"
   ]
  },
  {
   "cell_type": "markdown",
   "id": "d218441d",
   "metadata": {},
   "source": [
    "# 03. Modelado"
   ]
  },
  {
   "cell_type": "code",
   "execution_count": 10,
   "id": "91f1fa31",
   "metadata": {},
   "outputs": [],
   "source": [
    "embed_size = 2\n",
    "\n",
    "model = Sequential([\n",
    "    Dense(embed_size, activation='linear'),\n",
    "    Dense(Y.shape[1], activation = 'softmax')\n",
    "])\n",
    "\n",
    "model.compile(loss = 'categorical_crossentropy', optimizer = 'adam')\n",
    "\n"
   ]
  },
  {
   "cell_type": "code",
   "execution_count": 11,
   "id": "3796ca1b",
   "metadata": {},
   "outputs": [
    {
     "data": {
      "text/plain": [
       "<keras.src.callbacks.history.History at 0x287678a3c70>"
      ]
     },
     "execution_count": 11,
     "metadata": {},
     "output_type": "execute_result"
    }
   ],
   "source": [
    "model.fit(X, Y, epochs = 1000, batch_size = 256, verbose = False)"
   ]
  },
  {
   "cell_type": "code",
   "execution_count": 12,
   "id": "2e9d8ebe",
   "metadata": {},
   "outputs": [],
   "source": [
    "weights = model.get_weights()[0]\n",
    "\n",
    "word_embeddings = {}\n",
    "for word in all_words:\n",
    "    word_embeddings[word] = weights[words_dict[word]]\n",
    "\n",
    "# print(word_embeddings)"
   ]
  },
  {
   "cell_type": "markdown",
   "id": "ddd175d6",
   "metadata": {},
   "source": [
    "# 05. Mostrar Resultados"
   ]
  },
  {
   "cell_type": "code",
   "execution_count": 13,
   "id": "03660ecc",
   "metadata": {},
   "outputs": [
    {
     "data": {
      "text/html": [
       "<div>\n",
       "<style scoped>\n",
       "    .dataframe tbody tr th:only-of-type {\n",
       "        vertical-align: middle;\n",
       "    }\n",
       "\n",
       "    .dataframe tbody tr th {\n",
       "        vertical-align: top;\n",
       "    }\n",
       "\n",
       "    .dataframe thead th {\n",
       "        text-align: right;\n",
       "    }\n",
       "</style>\n",
       "<table border=\"1\" class=\"dataframe\">\n",
       "  <thead>\n",
       "    <tr style=\"text-align: right;\">\n",
       "      <th></th>\n",
       "      <th>index</th>\n",
       "      <th>0</th>\n",
       "      <th>1</th>\n",
       "    </tr>\n",
       "  </thead>\n",
       "  <tbody>\n",
       "    <tr>\n",
       "      <th>0</th>\n",
       "      <td>accuracy</td>\n",
       "      <td>3.844739</td>\n",
       "      <td>-0.828558</td>\n",
       "    </tr>\n",
       "    <tr>\n",
       "      <th>1</th>\n",
       "      <td>actionable</td>\n",
       "      <td>-0.911966</td>\n",
       "      <td>-0.977006</td>\n",
       "    </tr>\n",
       "    <tr>\n",
       "      <th>2</th>\n",
       "      <td>advance</td>\n",
       "      <td>0.618811</td>\n",
       "      <td>-2.459892</td>\n",
       "    </tr>\n",
       "    <tr>\n",
       "      <th>3</th>\n",
       "      <td>against</td>\n",
       "      <td>-2.876210</td>\n",
       "      <td>3.611515</td>\n",
       "    </tr>\n",
       "    <tr>\n",
       "      <th>4</th>\n",
       "      <td>ai</td>\n",
       "      <td>-0.877574</td>\n",
       "      <td>0.115752</td>\n",
       "    </tr>\n",
       "    <tr>\n",
       "      <th>...</th>\n",
       "      <td>...</td>\n",
       "      <td>...</td>\n",
       "      <td>...</td>\n",
       "    </tr>\n",
       "    <tr>\n",
       "      <th>141</th>\n",
       "      <td>valuable</td>\n",
       "      <td>-0.355542</td>\n",
       "      <td>-3.764086</td>\n",
       "    </tr>\n",
       "    <tr>\n",
       "      <th>142</th>\n",
       "      <td>waiting</td>\n",
       "      <td>-3.606380</td>\n",
       "      <td>0.688864</td>\n",
       "    </tr>\n",
       "    <tr>\n",
       "      <th>143</th>\n",
       "      <td>way</td>\n",
       "      <td>0.561790</td>\n",
       "      <td>3.475079</td>\n",
       "    </tr>\n",
       "    <tr>\n",
       "      <th>144</th>\n",
       "      <td>with</td>\n",
       "      <td>0.108596</td>\n",
       "      <td>-1.044155</td>\n",
       "    </tr>\n",
       "    <tr>\n",
       "      <th>145</th>\n",
       "      <td>workflows</td>\n",
       "      <td>2.035135</td>\n",
       "      <td>3.438680</td>\n",
       "    </tr>\n",
       "  </tbody>\n",
       "</table>\n",
       "<p>146 rows × 3 columns</p>\n",
       "</div>"
      ],
      "text/plain": [
       "          index         0         1\n",
       "0      accuracy  3.844739 -0.828558\n",
       "1    actionable -0.911966 -0.977006\n",
       "2       advance  0.618811 -2.459892\n",
       "3       against -2.876210  3.611515\n",
       "4            ai -0.877574  0.115752\n",
       "..          ...       ...       ...\n",
       "141    valuable -0.355542 -3.764086\n",
       "142     waiting -3.606380  0.688864\n",
       "143         way  0.561790  3.475079\n",
       "144        with  0.108596 -1.044155\n",
       "145   workflows  2.035135  3.438680\n",
       "\n",
       "[146 rows x 3 columns]"
      ]
     },
     "execution_count": 13,
     "metadata": {},
     "output_type": "execute_result"
    }
   ],
   "source": [
    "df_embeddings= pd.DataFrame(word_embeddings).T.reset_index()\n",
    "df_embeddings"
   ]
  },
  {
   "cell_type": "code",
   "execution_count": 14,
   "id": "05c1c196",
   "metadata": {},
   "outputs": [
    {
     "data": {
      "application/vnd.plotly.v1+json": {
       "config": {
        "plotlyServerURL": "https://plot.ly"
       },
       "data": [
        {
         "hovertemplate": "index=%{text}<br>0=%{x}<br>1=%{y}<br>size=%{marker.size}<extra></extra>",
         "legendgroup": "accuracy",
         "marker": {
          "color": "#636efa",
          "size": [
           10
          ],
          "sizemode": "area",
          "sizeref": 0.025,
          "symbol": "circle"
         },
         "mode": "markers+text",
         "name": "accuracy",
         "orientation": "v",
         "showlegend": true,
         "text": [
          "accuracy"
         ],
         "type": "scatter",
         "x": [
          3.8447389602661133
         ],
         "xaxis": "x",
         "y": [
          -0.8285580277442932
         ],
         "yaxis": "y"
        },
        {
         "hovertemplate": "index=%{text}<br>0=%{x}<br>1=%{y}<br>size=%{marker.size}<extra></extra>",
         "legendgroup": "actionable",
         "marker": {
          "color": "#EF553B",
          "size": [
           10
          ],
          "sizemode": "area",
          "sizeref": 0.025,
          "symbol": "circle"
         },
         "mode": "markers+text",
         "name": "actionable",
         "orientation": "v",
         "showlegend": true,
         "text": [
          "actionable"
         ],
         "type": "scatter",
         "x": [
          -0.9119657874107361
         ],
         "xaxis": "x",
         "y": [
          -0.9770063757896423
         ],
         "yaxis": "y"
        },
        {
         "hovertemplate": "index=%{text}<br>0=%{x}<br>1=%{y}<br>size=%{marker.size}<extra></extra>",
         "legendgroup": "advance",
         "marker": {
          "color": "#00cc96",
          "size": [
           10
          ],
          "sizemode": "area",
          "sizeref": 0.025,
          "symbol": "circle"
         },
         "mode": "markers+text",
         "name": "advance",
         "orientation": "v",
         "showlegend": true,
         "text": [
          "advance"
         ],
         "type": "scatter",
         "x": [
          0.6188105344772339
         ],
         "xaxis": "x",
         "y": [
          -2.4598915576934814
         ],
         "yaxis": "y"
        },
        {
         "hovertemplate": "index=%{text}<br>0=%{x}<br>1=%{y}<br>size=%{marker.size}<extra></extra>",
         "legendgroup": "against",
         "marker": {
          "color": "#ab63fa",
          "size": [
           10
          ],
          "sizemode": "area",
          "sizeref": 0.025,
          "symbol": "circle"
         },
         "mode": "markers+text",
         "name": "against",
         "orientation": "v",
         "showlegend": true,
         "text": [
          "against"
         ],
         "type": "scatter",
         "x": [
          -2.8762104511260986
         ],
         "xaxis": "x",
         "y": [
          3.6115152835845947
         ],
         "yaxis": "y"
        },
        {
         "hovertemplate": "index=%{text}<br>0=%{x}<br>1=%{y}<br>size=%{marker.size}<extra></extra>",
         "legendgroup": "ai",
         "marker": {
          "color": "#FFA15A",
          "size": [
           10
          ],
          "sizemode": "area",
          "sizeref": 0.025,
          "symbol": "circle"
         },
         "mode": "markers+text",
         "name": "ai",
         "orientation": "v",
         "showlegend": true,
         "text": [
          "ai"
         ],
         "type": "scatter",
         "x": [
          -0.8775740265846252
         ],
         "xaxis": "x",
         "y": [
          0.1157519668340683
         ],
         "yaxis": "y"
        },
        {
         "hovertemplate": "index=%{text}<br>0=%{x}<br>1=%{y}<br>size=%{marker.size}<extra></extra>",
         "legendgroup": "algorithms",
         "marker": {
          "color": "#19d3f3",
          "size": [
           10
          ],
          "sizemode": "area",
          "sizeref": 0.025,
          "symbol": "circle"
         },
         "mode": "markers+text",
         "name": "algorithms",
         "orientation": "v",
         "showlegend": true,
         "text": [
          "algorithms"
         ],
         "type": "scatter",
         "x": [
          0.4493086040019989
         ],
         "xaxis": "x",
         "y": [
          0.7195519208908081
         ],
         "yaxis": "y"
        },
        {
         "hovertemplate": "index=%{text}<br>0=%{x}<br>1=%{y}<br>size=%{marker.size}<extra></extra>",
         "legendgroup": "amplifies",
         "marker": {
          "color": "#FF6692",
          "size": [
           10
          ],
          "sizemode": "area",
          "sizeref": 0.025,
          "symbol": "circle"
         },
         "mode": "markers+text",
         "name": "amplifies",
         "orientation": "v",
         "showlegend": true,
         "text": [
          "amplifies"
         ],
         "type": "scatter",
         "x": [
          3.344940185546875
         ],
         "xaxis": "x",
         "y": [
          -2.9372739791870117
         ],
         "yaxis": "y"
        },
        {
         "hovertemplate": "index=%{text}<br>0=%{x}<br>1=%{y}<br>size=%{marker.size}<extra></extra>",
         "legendgroup": "applications.",
         "marker": {
          "color": "#B6E880",
          "size": [
           10
          ],
          "sizemode": "area",
          "sizeref": 0.025,
          "symbol": "circle"
         },
         "mode": "markers+text",
         "name": "applications.",
         "orientation": "v",
         "showlegend": true,
         "text": [
          "applications."
         ],
         "type": "scatter",
         "x": [
          0.8532990217208862
         ],
         "xaxis": "x",
         "y": [
          -2.1022536754608154
         ],
         "yaxis": "y"
        },
        {
         "hovertemplate": "index=%{text}<br>0=%{x}<br>1=%{y}<br>size=%{marker.size}<extra></extra>",
         "legendgroup": "artificial",
         "marker": {
          "color": "#FF97FF",
          "size": [
           10
          ],
          "sizemode": "area",
          "sizeref": 0.025,
          "symbol": "circle"
         },
         "mode": "markers+text",
         "name": "artificial",
         "orientation": "v",
         "showlegend": true,
         "text": [
          "artificial"
         ],
         "type": "scatter",
         "x": [
          3.504326820373535
         ],
         "xaxis": "x",
         "y": [
          -3.0409467220306396
         ],
         "yaxis": "y"
        },
        {
         "hovertemplate": "index=%{text}<br>0=%{x}<br>1=%{y}<br>size=%{marker.size}<extra></extra>",
         "legendgroup": "authenticity",
         "marker": {
          "color": "#FECB52",
          "size": [
           10
          ],
          "sizemode": "area",
          "sizeref": 0.025,
          "symbol": "circle"
         },
         "mode": "markers+text",
         "name": "authenticity",
         "orientation": "v",
         "showlegend": true,
         "text": [
          "authenticity"
         ],
         "type": "scatter",
         "x": [
          -0.2730006277561188
         ],
         "xaxis": "x",
         "y": [
          0.07793460786342621
         ],
         "yaxis": "y"
        },
        {
         "hovertemplate": "index=%{text}<br>0=%{x}<br>1=%{y}<br>size=%{marker.size}<extra></extra>",
         "legendgroup": "backbone",
         "marker": {
          "color": "#636efa",
          "size": [
           10
          ],
          "sizemode": "area",
          "sizeref": 0.025,
          "symbol": "circle"
         },
         "mode": "markers+text",
         "name": "backbone",
         "orientation": "v",
         "showlegend": true,
         "text": [
          "backbone"
         ],
         "type": "scatter",
         "x": [
          2.631174325942993
         ],
         "xaxis": "x",
         "y": [
          0.4148535132408142
         ],
         "yaxis": "y"
        },
        {
         "hovertemplate": "index=%{text}<br>0=%{x}<br>1=%{y}<br>size=%{marker.size}<extra></extra>",
         "legendgroup": "balance",
         "marker": {
          "color": "#EF553B",
          "size": [
           10
          ],
          "sizemode": "area",
          "sizeref": 0.025,
          "symbol": "circle"
         },
         "mode": "markers+text",
         "name": "balance",
         "orientation": "v",
         "showlegend": true,
         "text": [
          "balance"
         ],
         "type": "scatter",
         "x": [
          -2.04994797706604
         ],
         "xaxis": "x",
         "y": [
          -2.732124090194702
         ],
         "yaxis": "y"
        },
        {
         "hovertemplate": "index=%{text}<br>0=%{x}<br>1=%{y}<br>size=%{marker.size}<extra></extra>",
         "legendgroup": "better",
         "marker": {
          "color": "#00cc96",
          "size": [
           10
          ],
          "sizemode": "area",
          "sizeref": 0.025,
          "symbol": "circle"
         },
         "mode": "markers+text",
         "name": "better",
         "orientation": "v",
         "showlegend": true,
         "text": [
          "better"
         ],
         "type": "scatter",
         "x": [
          -0.3899218738079071
         ],
         "xaxis": "x",
         "y": [
          2.554445266723633
         ],
         "yaxis": "y"
        },
        {
         "hovertemplate": "index=%{text}<br>0=%{x}<br>1=%{y}<br>size=%{marker.size}<extra></extra>",
         "legendgroup": "between",
         "marker": {
          "color": "#ab63fa",
          "size": [
           10
          ],
          "sizemode": "area",
          "sizeref": 0.025,
          "symbol": "circle"
         },
         "mode": "markers+text",
         "name": "between",
         "orientation": "v",
         "showlegend": true,
         "text": [
          "between"
         ],
         "type": "scatter",
         "x": [
          0.8565467000007629
         ],
         "xaxis": "x",
         "y": [
          -2.142559766769409
         ],
         "yaxis": "y"
        },
        {
         "hovertemplate": "index=%{text}<br>0=%{x}<br>1=%{y}<br>size=%{marker.size}<extra></extra>",
         "legendgroup": "biomedical",
         "marker": {
          "color": "#FFA15A",
          "size": [
           10
          ],
          "sizemode": "area",
          "sizeref": 0.025,
          "symbol": "circle"
         },
         "mode": "markers+text",
         "name": "biomedical",
         "orientation": "v",
         "showlegend": true,
         "text": [
          "biomedical"
         ],
         "type": "scatter",
         "x": [
          0.5597951412200928
         ],
         "xaxis": "x",
         "y": [
          3.64443039894104
         ],
         "yaxis": "y"
        },
        {
         "hovertemplate": "index=%{text}<br>0=%{x}<br>1=%{y}<br>size=%{marker.size}<extra></extra>",
         "legendgroup": "biomedicine",
         "marker": {
          "color": "#19d3f3",
          "size": [
           10
          ],
          "sizemode": "area",
          "sizeref": 0.025,
          "symbol": "circle"
         },
         "mode": "markers+text",
         "name": "biomedicine",
         "orientation": "v",
         "showlegend": true,
         "text": [
          "biomedicine"
         ],
         "type": "scatter",
         "x": [
          1.3826355934143066
         ],
         "xaxis": "x",
         "y": [
          -3.3119990825653076
         ],
         "yaxis": "y"
        },
        {
         "hovertemplate": "index=%{text}<br>0=%{x}<br>1=%{y}<br>size=%{marker.size}<extra></extra>",
         "legendgroup": "breakthroughs",
         "marker": {
          "color": "#FF6692",
          "size": [
           10
          ],
          "sizemode": "area",
          "sizeref": 0.025,
          "symbol": "circle"
         },
         "mode": "markers+text",
         "name": "breakthroughs",
         "orientation": "v",
         "showlegend": true,
         "text": [
          "breakthroughs"
         ],
         "type": "scatter",
         "x": [
          0.5656033158302307
         ],
         "xaxis": "x",
         "y": [
          3.445723056793213
         ],
         "yaxis": "y"
        },
        {
         "hovertemplate": "index=%{text}<br>0=%{x}<br>1=%{y}<br>size=%{marker.size}<extra></extra>",
         "legendgroup": "bridge",
         "marker": {
          "color": "#B6E880",
          "size": [
           10
          ],
          "sizemode": "area",
          "sizeref": 0.025,
          "symbol": "circle"
         },
         "mode": "markers+text",
         "name": "bridge",
         "orientation": "v",
         "showlegend": true,
         "text": [
          "bridge"
         ],
         "type": "scatter",
         "x": [
          0.8535176515579224
         ],
         "xaxis": "x",
         "y": [
          -2.102663040161133
         ],
         "yaxis": "y"
        },
        {
         "hovertemplate": "index=%{text}<br>0=%{x}<br>1=%{y}<br>size=%{marker.size}<extra></extra>",
         "legendgroup": "brings",
         "marker": {
          "color": "#FF97FF",
          "size": [
           10
          ],
          "sizemode": "area",
          "sizeref": 0.025,
          "symbol": "circle"
         },
         "mode": "markers+text",
         "name": "brings",
         "orientation": "v",
         "showlegend": true,
         "text": [
          "brings"
         ],
         "type": "scatter",
         "x": [
          -0.9820539355278015
         ],
         "xaxis": "x",
         "y": [
          1.501834750175476
         ],
         "yaxis": "y"
        },
        {
         "hovertemplate": "index=%{text}<br>0=%{x}<br>1=%{y}<br>size=%{marker.size}<extra></extra>",
         "legendgroup": "capabilities",
         "marker": {
          "color": "#FECB52",
          "size": [
           10
          ],
          "sizemode": "area",
          "sizeref": 0.025,
          "symbol": "circle"
         },
         "mode": "markers+text",
         "name": "capabilities",
         "orientation": "v",
         "showlegend": true,
         "text": [
          "capabilities"
         ],
         "type": "scatter",
         "x": [
          3.366781234741211
         ],
         "xaxis": "x",
         "y": [
          -2.9869191646575928
         ],
         "yaxis": "y"
        },
        {
         "hovertemplate": "index=%{text}<br>0=%{x}<br>1=%{y}<br>size=%{marker.size}<extra></extra>",
         "legendgroup": "challenges.",
         "marker": {
          "color": "#636efa",
          "size": [
           10
          ],
          "sizemode": "area",
          "sizeref": 0.025,
          "symbol": "circle"
         },
         "mode": "markers+text",
         "name": "challenges.",
         "orientation": "v",
         "showlegend": true,
         "text": [
          "challenges."
         ],
         "type": "scatter",
         "x": [
          -2.2373170852661133
         ],
         "xaxis": "x",
         "y": [
          -2.0537891387939453
         ],
         "yaxis": "y"
        },
        {
         "hovertemplate": "index=%{text}<br>0=%{x}<br>1=%{y}<br>size=%{marker.size}<extra></extra>",
         "legendgroup": "closer",
         "marker": {
          "color": "#EF553B",
          "size": [
           10
          ],
          "sizemode": "area",
          "sizeref": 0.025,
          "symbol": "circle"
         },
         "mode": "markers+text",
         "name": "closer",
         "orientation": "v",
         "showlegend": true,
         "text": [
          "closer"
         ],
         "type": "scatter",
         "x": [
          -2.852729320526123
         ],
         "xaxis": "x",
         "y": [
          1.08944833278656
         ],
         "yaxis": "y"
        },
        {
         "hovertemplate": "index=%{text}<br>0=%{x}<br>1=%{y}<br>size=%{marker.size}<extra></extra>",
         "legendgroup": "communications.",
         "marker": {
          "color": "#00cc96",
          "size": [
           10
          ],
          "sizemode": "area",
          "sizeref": 0.025,
          "symbol": "circle"
         },
         "mode": "markers+text",
         "name": "communications.",
         "orientation": "v",
         "showlegend": true,
         "text": [
          "communications."
         ],
         "type": "scatter",
         "x": [
          -0.268898069858551
         ],
         "xaxis": "x",
         "y": [
          0.07719343155622482
         ],
         "yaxis": "y"
        },
        {
         "hovertemplate": "index=%{text}<br>0=%{x}<br>1=%{y}<br>size=%{marker.size}<extra></extra>",
         "legendgroup": "complex",
         "marker": {
          "color": "#ab63fa",
          "size": [
           10
          ],
          "sizemode": "area",
          "sizeref": 0.025,
          "symbol": "circle"
         },
         "mode": "markers+text",
         "name": "complex",
         "orientation": "v",
         "showlegend": true,
         "text": [
          "complex"
         ],
         "type": "scatter",
         "x": [
          -0.37840428948402405
         ],
         "xaxis": "x",
         "y": [
          -3.9015913009643555
         ],
         "yaxis": "y"
        },
        {
         "hovertemplate": "index=%{text}<br>0=%{x}<br>1=%{y}<br>size=%{marker.size}<extra></extra>",
         "legendgroup": "computations.",
         "marker": {
          "color": "#FFA15A",
          "size": [
           10
          ],
          "sizemode": "area",
          "sizeref": 0.025,
          "symbol": "circle"
         },
         "mode": "markers+text",
         "name": "computations.",
         "orientation": "v",
         "showlegend": true,
         "text": [
          "computations."
         ],
         "type": "scatter",
         "x": [
          3.784764528274536
         ],
         "xaxis": "x",
         "y": [
          -0.8267874121665955
         ],
         "yaxis": "y"
        },
        {
         "hovertemplate": "index=%{text}<br>0=%{x}<br>1=%{y}<br>size=%{marker.size}<extra></extra>",
         "legendgroup": "confidentiality,",
         "marker": {
          "color": "#19d3f3",
          "size": [
           10
          ],
          "sizemode": "area",
          "sizeref": 0.025,
          "symbol": "circle"
         },
         "mode": "markers+text",
         "name": "confidentiality,",
         "orientation": "v",
         "showlegend": true,
         "text": [
          "confidentiality,"
         ],
         "type": "scatter",
         "x": [
          -0.2741345465183258
         ],
         "xaxis": "x",
         "y": [
          0.0815173014998436
         ],
         "yaxis": "y"
        },
        {
         "hovertemplate": "index=%{text}<br>0=%{x}<br>1=%{y}<br>size=%{marker.size}<extra></extra>",
         "legendgroup": "confidently.",
         "marker": {
          "color": "#FF6692",
          "size": [
           10
          ],
          "sizemode": "area",
          "sizeref": 0.025,
          "symbol": "circle"
         },
         "mode": "markers+text",
         "name": "confidently.",
         "orientation": "v",
         "showlegend": true,
         "text": [
          "confidently."
         ],
         "type": "scatter",
         "x": [
          -3.9700510501861572
         ],
         "xaxis": "x",
         "y": [
          -0.8100618720054626
         ],
         "yaxis": "y"
        },
        {
         "hovertemplate": "index=%{text}<br>0=%{x}<br>1=%{y}<br>size=%{marker.size}<extra></extra>",
         "legendgroup": "creativity.",
         "marker": {
          "color": "#B6E880",
          "size": [
           10
          ],
          "sizemode": "area",
          "sizeref": 0.025,
          "symbol": "circle"
         },
         "mode": "markers+text",
         "name": "creativity.",
         "orientation": "v",
         "showlegend": true,
         "text": [
          "creativity."
         ],
         "type": "scatter",
         "x": [
          3.4723258018493652
         ],
         "xaxis": "x",
         "y": [
          -3.050135850906372
         ],
         "yaxis": "y"
        },
        {
         "hovertemplate": "index=%{text}<br>0=%{x}<br>1=%{y}<br>size=%{marker.size}<extra></extra>",
         "legendgroup": "cryptographic",
         "marker": {
          "color": "#FF97FF",
          "size": [
           10
          ],
          "sizemode": "area",
          "sizeref": 0.025,
          "symbol": "circle"
         },
         "mode": "markers+text",
         "name": "cryptographic",
         "orientation": "v",
         "showlegend": true,
         "text": [
          "cryptographic"
         ],
         "type": "scatter",
         "x": [
          1.4068031311035156
         ],
         "xaxis": "x",
         "y": [
          -0.06411957740783691
         ],
         "yaxis": "y"
        },
        {
         "hovertemplate": "index=%{text}<br>0=%{x}<br>1=%{y}<br>size=%{marker.size}<extra></extra>",
         "legendgroup": "cryptography",
         "marker": {
          "color": "#FECB52",
          "size": [
           10
          ],
          "sizemode": "area",
          "sizeref": 0.025,
          "symbol": "circle"
         },
         "mode": "markers+text",
         "name": "cryptography",
         "orientation": "v",
         "showlegend": true,
         "text": [
          "cryptography"
         ],
         "type": "scatter",
         "x": [
          3.546924114227295
         ],
         "xaxis": "x",
         "y": [
          2.8610315322875977
         ],
         "yaxis": "y"
        },
        {
         "hovertemplate": "index=%{text}<br>0=%{x}<br>1=%{y}<br>size=%{marker.size}<extra></extra>",
         "legendgroup": "cutting-edge",
         "marker": {
          "color": "#636efa",
          "size": [
           10
          ],
          "sizemode": "area",
          "sizeref": 0.025,
          "symbol": "circle"
         },
         "mode": "markers+text",
         "name": "cutting-edge",
         "orientation": "v",
         "showlegend": true,
         "text": [
          "cutting-edge"
         ],
         "type": "scatter",
         "x": [
          0.6189512014389038
         ],
         "xaxis": "x",
         "y": [
          -2.3614282608032227
         ],
         "yaxis": "y"
        },
        {
         "hovertemplate": "index=%{text}<br>0=%{x}<br>1=%{y}<br>size=%{marker.size}<extra></extra>",
         "legendgroup": "cyber",
         "marker": {
          "color": "#EF553B",
          "size": [
           10
          ],
          "sizemode": "area",
          "sizeref": 0.025,
          "symbol": "circle"
         },
         "mode": "markers+text",
         "name": "cyber",
         "orientation": "v",
         "showlegend": true,
         "text": [
          "cyber"
         ],
         "type": "scatter",
         "x": [
          -2.8726367950439453
         ],
         "xaxis": "x",
         "y": [
          3.605459451675415
         ],
         "yaxis": "y"
        },
        {
         "hovertemplate": "index=%{text}<br>0=%{x}<br>1=%{y}<br>size=%{marker.size}<extra></extra>",
         "legendgroup": "data",
         "marker": {
          "color": "#00cc96",
          "size": [
           10
          ],
          "sizemode": "area",
          "sizeref": 0.025,
          "symbol": "circle"
         },
         "mode": "markers+text",
         "name": "data",
         "orientation": "v",
         "showlegend": true,
         "text": [
          "data"
         ],
         "type": "scatter",
         "x": [
          -2.4386110305786133
         ],
         "xaxis": "x",
         "y": [
          -0.5581169128417969
         ],
         "yaxis": "y"
        },
        {
         "hovertemplate": "index=%{text}<br>0=%{x}<br>1=%{y}<br>size=%{marker.size}<extra></extra>",
         "legendgroup": "data.",
         "marker": {
          "color": "#ab63fa",
          "size": [
           10
          ],
          "sizemode": "area",
          "sizeref": 0.025,
          "symbol": "circle"
         },
         "mode": "markers+text",
         "name": "data.",
         "orientation": "v",
         "showlegend": true,
         "text": [
          "data."
         ],
         "type": "scatter",
         "x": [
          3.328616142272949
         ],
         "xaxis": "x",
         "y": [
          2.6552248001098633
         ],
         "yaxis": "y"
        },
        {
         "hovertemplate": "index=%{text}<br>0=%{x}<br>1=%{y}<br>size=%{marker.size}<extra></extra>",
         "legendgroup": "datasets",
         "marker": {
          "color": "#FFA15A",
          "size": [
           10
          ],
          "sizemode": "area",
          "sizeref": 0.025,
          "symbol": "circle"
         },
         "mode": "markers+text",
         "name": "datasets",
         "orientation": "v",
         "showlegend": true,
         "text": [
          "datasets"
         ],
         "type": "scatter",
         "x": [
          -0.37461355328559875
         ],
         "xaxis": "x",
         "y": [
          -3.876516103744507
         ],
         "yaxis": "y"
        },
        {
         "hovertemplate": "index=%{text}<br>0=%{x}<br>1=%{y}<br>size=%{marker.size}<extra></extra>",
         "legendgroup": "decisions",
         "marker": {
          "color": "#19d3f3",
          "size": [
           10
          ],
          "sizemode": "area",
          "sizeref": 0.025,
          "symbol": "circle"
         },
         "mode": "markers+text",
         "name": "decisions",
         "orientation": "v",
         "showlegend": true,
         "text": [
          "decisions"
         ],
         "type": "scatter",
         "x": [
          -3.844707727432251
         ],
         "xaxis": "x",
         "y": [
          -0.7857754230499268
         ],
         "yaxis": "y"
        },
        {
         "hovertemplate": "index=%{text}<br>0=%{x}<br>1=%{y}<br>size=%{marker.size}<extra></extra>",
         "legendgroup": "digital",
         "marker": {
          "color": "#FF6692",
          "size": [
           10
          ],
          "sizemode": "area",
          "sizeref": 0.025,
          "symbol": "circle"
         },
         "mode": "markers+text",
         "name": "digital",
         "orientation": "v",
         "showlegend": true,
         "text": [
          "digital"
         ],
         "type": "scatter",
         "x": [
          2.6561684608459473
         ],
         "xaxis": "x",
         "y": [
          0.41799792647361755
         ],
         "yaxis": "y"
        },
        {
         "hovertemplate": "index=%{text}<br>0=%{x}<br>1=%{y}<br>size=%{marker.size}<extra></extra>",
         "legendgroup": "discovered.",
         "marker": {
          "color": "#B6E880",
          "size": [
           10
          ],
          "sizemode": "area",
          "sizeref": 0.025,
          "symbol": "circle"
         },
         "mode": "markers+text",
         "name": "discovered.",
         "orientation": "v",
         "showlegend": true,
         "text": [
          "discovered."
         ],
         "type": "scatter",
         "x": [
          -3.399656295776367
         ],
         "xaxis": "x",
         "y": [
          0.6523001790046692
         ],
         "yaxis": "y"
        },
        {
         "hovertemplate": "index=%{text}<br>0=%{x}<br>1=%{y}<br>size=%{marker.size}<extra></extra>",
         "legendgroup": "discovery",
         "marker": {
          "color": "#FF97FF",
          "size": [
           10
          ],
          "sizemode": "area",
          "sizeref": 0.025,
          "symbol": "circle"
         },
         "mode": "markers+text",
         "name": "discovery",
         "orientation": "v",
         "showlegend": true,
         "text": [
          "discovery"
         ],
         "type": "scatter",
         "x": [
          -0.40255269408226013
         ],
         "xaxis": "x",
         "y": [
          2.5909228324890137
         ],
         "yaxis": "y"
        },
        {
         "hovertemplate": "index=%{text}<br>0=%{x}<br>1=%{y}<br>size=%{marker.size}<extra></extra>",
         "legendgroup": "driving",
         "marker": {
          "color": "#FECB52",
          "size": [
           10
          ],
          "sizemode": "area",
          "sizeref": 0.025,
          "symbol": "circle"
         },
         "mode": "markers+text",
         "name": "driving",
         "orientation": "v",
         "showlegend": true,
         "text": [
          "driving"
         ],
         "type": "scatter",
         "x": [
          -0.91508549451828
         ],
         "xaxis": "x",
         "y": [
          0.8708668351173401
         ],
         "yaxis": "y"
        },
        {
         "hovertemplate": "index=%{text}<br>0=%{x}<br>1=%{y}<br>size=%{marker.size}<extra></extra>",
         "legendgroup": "ease.",
         "marker": {
          "color": "#636efa",
          "size": [
           10
          ],
          "sizemode": "area",
          "sizeref": 0.025,
          "symbol": "circle"
         },
         "mode": "markers+text",
         "name": "ease.",
         "orientation": "v",
         "showlegend": true,
         "text": [
          "ease."
         ],
         "type": "scatter",
         "x": [
          -0.34434738755226135
         ],
         "xaxis": "x",
         "y": [
          -3.710904836654663
         ],
         "yaxis": "y"
        },
        {
         "hovertemplate": "index=%{text}<br>0=%{x}<br>1=%{y}<br>size=%{marker.size}<extra></extra>",
         "legendgroup": "effective",
         "marker": {
          "color": "#EF553B",
          "size": [
           10
          ],
          "sizemode": "area",
          "sizeref": 0.025,
          "symbol": "circle"
         },
         "mode": "markers+text",
         "name": "effective",
         "orientation": "v",
         "showlegend": true,
         "text": [
          "effective"
         ],
         "type": "scatter",
         "x": [
          -2.0944643020629883
         ],
         "xaxis": "x",
         "y": [
          -2.837508201599121
         ],
         "yaxis": "y"
        },
        {
         "hovertemplate": "index=%{text}<br>0=%{x}<br>1=%{y}<br>size=%{marker.size}<extra></extra>",
         "legendgroup": "efficiency",
         "marker": {
          "color": "#00cc96",
          "size": [
           10
          ],
          "sizemode": "area",
          "sizeref": 0.025,
          "symbol": "circle"
         },
         "mode": "markers+text",
         "name": "efficiency",
         "orientation": "v",
         "showlegend": true,
         "text": [
          "efficiency"
         ],
         "type": "scatter",
         "x": [
          0.4547446668148041
         ],
         "xaxis": "x",
         "y": [
          0.7153995633125305
         ],
         "yaxis": "y"
        },
        {
         "hovertemplate": "index=%{text}<br>0=%{x}<br>1=%{y}<br>size=%{marker.size}<extra></extra>",
         "legendgroup": "empowers",
         "marker": {
          "color": "#ab63fa",
          "size": [
           10
          ],
          "sizemode": "area",
          "sizeref": 0.025,
          "symbol": "circle"
         },
         "mode": "markers+text",
         "name": "empowers",
         "orientation": "v",
         "showlegend": true,
         "text": [
          "empowers"
         ],
         "type": "scatter",
         "x": [
          -3.8918800354003906
         ],
         "xaxis": "x",
         "y": [
          -0.8041855692863464
         ],
         "yaxis": "y"
        },
        {
         "hovertemplate": "index=%{text}<br>0=%{x}<br>1=%{y}<br>size=%{marker.size}<extra></extra>",
         "legendgroup": "encryption",
         "marker": {
          "color": "#FFA15A",
          "size": [
           10
          ],
          "sizemode": "area",
          "sizeref": 0.025,
          "symbol": "circle"
         },
         "mode": "markers+text",
         "name": "encryption",
         "orientation": "v",
         "showlegend": true,
         "text": [
          "encryption"
         ],
         "type": "scatter",
         "x": [
          -2.9170658588409424
         ],
         "xaxis": "x",
         "y": [
          3.679016590118408
         ],
         "yaxis": "y"
        },
        {
         "hovertemplate": "index=%{text}<br>0=%{x}<br>1=%{y}<br>size=%{marker.size}<extra></extra>",
         "legendgroup": "enhance",
         "marker": {
          "color": "#19d3f3",
          "size": [
           10
          ],
          "sizemode": "area",
          "sizeref": 0.025,
          "symbol": "circle"
         },
         "mode": "markers+text",
         "name": "enhance",
         "orientation": "v",
         "showlegend": true,
         "text": [
          "enhance"
         ],
         "type": "scatter",
         "x": [
          3.4681780338287354
         ],
         "xaxis": "x",
         "y": [
          -0.7551677823066711
         ],
         "yaxis": "y"
        },
        {
         "hovertemplate": "index=%{text}<br>0=%{x}<br>1=%{y}<br>size=%{marker.size}<extra></extra>",
         "legendgroup": "ensure",
         "marker": {
          "color": "#FF6692",
          "size": [
           10
          ],
          "sizemode": "area",
          "sizeref": 0.025,
          "symbol": "circle"
         },
         "mode": "markers+text",
         "name": "ensure",
         "orientation": "v",
         "showlegend": true,
         "text": [
          "ensure"
         ],
         "type": "scatter",
         "x": [
          -0.27590709924697876
         ],
         "xaxis": "x",
         "y": [
          0.07585921138525009
         ],
         "yaxis": "y"
        },
        {
         "hovertemplate": "index=%{text}<br>0=%{x}<br>1=%{y}<br>size=%{marker.size}<extra></extra>",
         "legendgroup": "every",
         "marker": {
          "color": "#B6E880",
          "size": [
           10
          ],
          "sizemode": "area",
          "sizeref": 0.025,
          "symbol": "circle"
         },
         "mode": "markers+text",
         "name": "every",
         "orientation": "v",
         "showlegend": true,
         "text": [
          "every"
         ],
         "type": "scatter",
         "x": [
          -1.6674367189407349
         ],
         "xaxis": "x",
         "y": [
          1.5123029947280884
         ],
         "yaxis": "y"
        },
        {
         "hovertemplate": "index=%{text}<br>0=%{x}<br>1=%{y}<br>size=%{marker.size}<extra></extra>",
         "legendgroup": "extract",
         "marker": {
          "color": "#FF97FF",
          "size": [
           10
          ],
          "sizemode": "area",
          "sizeref": 0.025,
          "symbol": "circle"
         },
         "mode": "markers+text",
         "name": "extract",
         "orientation": "v",
         "showlegend": true,
         "text": [
          "extract"
         ],
         "type": "scatter",
         "x": [
          -0.3699100911617279
         ],
         "xaxis": "x",
         "y": [
          -3.8572421073913574
         ],
         "yaxis": "y"
        },
        {
         "hovertemplate": "index=%{text}<br>0=%{x}<br>1=%{y}<br>size=%{marker.size}<extra></extra>",
         "legendgroup": "find",
         "marker": {
          "color": "#FECB52",
          "size": [
           10
          ],
          "sizemode": "area",
          "sizeref": 0.025,
          "symbol": "circle"
         },
         "mode": "markers+text",
         "name": "find",
         "orientation": "v",
         "showlegend": true,
         "text": [
          "find"
         ],
         "type": "scatter",
         "x": [
          -2.0521559715270996
         ],
         "xaxis": "x",
         "y": [
          -2.7288835048675537
         ],
         "yaxis": "y"
        },
        {
         "hovertemplate": "index=%{text}<br>0=%{x}<br>1=%{y}<br>size=%{marker.size}<extra></extra>",
         "legendgroup": "for",
         "marker": {
          "color": "#636efa",
          "size": [
           10
          ],
          "sizemode": "area",
          "sizeref": 0.025,
          "symbol": "circle"
         },
         "mode": "markers+text",
         "name": "for",
         "orientation": "v",
         "showlegend": true,
         "text": [
          "for"
         ],
         "type": "scatter",
         "x": [
          0.2393873929977417
         ],
         "xaxis": "x",
         "y": [
          1.6424568891525269
         ],
         "yaxis": "y"
        },
        {
         "hovertemplate": "index=%{text}<br>0=%{x}<br>1=%{y}<br>size=%{marker.size}<extra></extra>",
         "legendgroup": "form",
         "marker": {
          "color": "#EF553B",
          "size": [
           10
          ],
          "sizemode": "area",
          "sizeref": 0.025,
          "symbol": "circle"
         },
         "mode": "markers+text",
         "name": "form",
         "orientation": "v",
         "showlegend": true,
         "text": [
          "form"
         ],
         "type": "scatter",
         "x": [
          2.724294662475586
         ],
         "xaxis": "x",
         "y": [
          0.42759251594543457
         ],
         "yaxis": "y"
        },
        {
         "hovertemplate": "index=%{text}<br>0=%{x}<br>1=%{y}<br>size=%{marker.size}<extra></extra>",
         "legendgroup": "forward",
         "marker": {
          "color": "#00cc96",
          "size": [
           10
          ],
          "sizemode": "area",
          "sizeref": 0.025,
          "symbol": "circle"
         },
         "mode": "markers+text",
         "name": "forward",
         "orientation": "v",
         "showlegend": true,
         "text": [
          "forward"
         ],
         "type": "scatter",
         "x": [
          -2.0921435356140137
         ],
         "xaxis": "x",
         "y": [
          1.4197657108306885
         ],
         "yaxis": "y"
        },
        {
         "hovertemplate": "index=%{text}<br>0=%{x}<br>1=%{y}<br>size=%{marker.size}<extra></extra>",
         "legendgroup": "from",
         "marker": {
          "color": "#ab63fa",
          "size": [
           10
          ],
          "sizemode": "area",
          "sizeref": 0.025,
          "symbol": "circle"
         },
         "mode": "markers+text",
         "name": "from",
         "orientation": "v",
         "showlegend": true,
         "text": [
          "from"
         ],
         "type": "scatter",
         "x": [
          -0.3377962112426758
         ],
         "xaxis": "x",
         "y": [
          -3.6758697032928467
         ],
         "yaxis": "y"
        },
        {
         "hovertemplate": "index=%{text}<br>0=%{x}<br>1=%{y}<br>size=%{marker.size}<extra></extra>",
         "legendgroup": "future",
         "marker": {
          "color": "#FFA15A",
          "size": [
           10
          ],
          "sizemode": "area",
          "sizeref": 0.025,
          "symbol": "circle"
         },
         "mode": "markers+text",
         "name": "future",
         "orientation": "v",
         "showlegend": true,
         "text": [
          "future"
         ],
         "type": "scatter",
         "x": [
          -0.40363574028015137
         ],
         "xaxis": "x",
         "y": [
          -0.7882060408592224
         ],
         "yaxis": "y"
        },
        {
         "hovertemplate": "index=%{text}<br>0=%{x}<br>1=%{y}<br>size=%{marker.size}<extra></extra>",
         "legendgroup": "future.",
         "marker": {
          "color": "#19d3f3",
          "size": [
           10
          ],
          "sizemode": "area",
          "sizeref": 0.025,
          "symbol": "circle"
         },
         "mode": "markers+text",
         "name": "future.",
         "orientation": "v",
         "showlegend": true,
         "text": [
          "future."
         ],
         "type": "scatter",
         "x": [
          0.5647532343864441
         ],
         "xaxis": "x",
         "y": [
          3.4321420192718506
         ],
         "yaxis": "y"
        },
        {
         "hovertemplate": "index=%{text}<br>0=%{x}<br>1=%{y}<br>size=%{marker.size}<extra></extra>",
         "legendgroup": "gap",
         "marker": {
          "color": "#FF6692",
          "size": [
           10
          ],
          "sizemode": "area",
          "sizeref": 0.025,
          "symbol": "circle"
         },
         "mode": "markers+text",
         "name": "gap",
         "orientation": "v",
         "showlegend": true,
         "text": [
          "gap"
         ],
         "type": "scatter",
         "x": [
          0.8586404919624329
         ],
         "xaxis": "x",
         "y": [
          -2.1634902954101562
         ],
         "yaxis": "y"
        },
        {
         "hovertemplate": "index=%{text}<br>0=%{x}<br>1=%{y}<br>size=%{marker.size}<extra></extra>",
         "legendgroup": "globally.",
         "marker": {
          "color": "#B6E880",
          "size": [
           10
          ],
          "sizemode": "area",
          "sizeref": 0.025,
          "symbol": "circle"
         },
         "mode": "markers+text",
         "name": "globally.",
         "orientation": "v",
         "showlegend": true,
         "text": [
          "globally."
         ],
         "type": "scatter",
         "x": [
          -0.9164260625839233
         ],
         "xaxis": "x",
         "y": [
          0.8703707456588745
         ],
         "yaxis": "y"
        },
        {
         "hovertemplate": "index=%{text}<br>0=%{x}<br>1=%{y}<br>size=%{marker.size}<extra></extra>",
         "legendgroup": "groundbreaking",
         "marker": {
          "color": "#FF97FF",
          "size": [
           10
          ],
          "sizemode": "area",
          "sizeref": 0.025,
          "symbol": "circle"
         },
         "mode": "markers+text",
         "name": "groundbreaking",
         "orientation": "v",
         "showlegend": true,
         "text": [
          "groundbreaking"
         ],
         "type": "scatter",
         "x": [
          -0.3928287625312805
         ],
         "xaxis": "x",
         "y": [
          -0.7695173621177673
         ],
         "yaxis": "y"
        },
        {
         "hovertemplate": "index=%{text}<br>0=%{x}<br>1=%{y}<br>size=%{marker.size}<extra></extra>",
         "legendgroup": "harness",
         "marker": {
          "color": "#FECB52",
          "size": [
           10
          ],
          "sizemode": "area",
          "sizeref": 0.025,
          "symbol": "circle"
         },
         "mode": "markers+text",
         "name": "harness",
         "orientation": "v",
         "showlegend": true,
         "text": [
          "harness"
         ],
         "type": "scatter",
         "x": [
          -2.2002668380737305
         ],
         "xaxis": "x",
         "y": [
          -2.0135650634765625
         ],
         "yaxis": "y"
        },
        {
         "hovertemplate": "index=%{text}<br>0=%{x}<br>1=%{y}<br>size=%{marker.size}<extra></extra>",
         "legendgroup": "health",
         "marker": {
          "color": "#636efa",
          "size": [
           10
          ],
          "sizemode": "area",
          "sizeref": 0.025,
          "symbol": "circle"
         },
         "mode": "markers+text",
         "name": "health",
         "orientation": "v",
         "showlegend": true,
         "text": [
          "health"
         ],
         "type": "scatter",
         "x": [
          -0.38162991404533386
         ],
         "xaxis": "x",
         "y": [
          2.5221424102783203
         ],
         "yaxis": "y"
        },
        {
         "hovertemplate": "index=%{text}<br>0=%{x}<br>1=%{y}<br>size=%{marker.size}<extra></extra>",
         "legendgroup": "healthcare",
         "marker": {
          "color": "#EF553B",
          "size": [
           10
          ],
          "sizemode": "area",
          "sizeref": 0.025,
          "symbol": "circle"
         },
         "mode": "markers+text",
         "name": "healthcare",
         "orientation": "v",
         "showlegend": true,
         "text": [
          "healthcare"
         ],
         "type": "scatter",
         "x": [
          0.6174938678741455
         ],
         "xaxis": "x",
         "y": [
          -2.534557580947876
         ],
         "yaxis": "y"
        },
        {
         "hovertemplate": "index=%{text}<br>0=%{x}<br>1=%{y}<br>size=%{marker.size}<extra></extra>",
         "legendgroup": "healthier",
         "marker": {
          "color": "#00cc96",
          "size": [
           10
          ],
          "sizemode": "area",
          "sizeref": 0.025,
          "symbol": "circle"
         },
         "mode": "markers+text",
         "name": "healthier",
         "orientation": "v",
         "showlegend": true,
         "text": [
          "healthier"
         ],
         "type": "scatter",
         "x": [
          0.5678399801254272
         ],
         "xaxis": "x",
         "y": [
          3.497243881225586
         ],
         "yaxis": "y"
        },
        {
         "hovertemplate": "index=%{text}<br>0=%{x}<br>1=%{y}<br>size=%{marker.size}<extra></extra>",
         "legendgroup": "hidden",
         "marker": {
          "color": "#ab63fa",
          "size": [
           10
          ],
          "sizemode": "area",
          "sizeref": 0.025,
          "symbol": "circle"
         },
         "mode": "markers+text",
         "name": "hidden",
         "orientation": "v",
         "showlegend": true,
         "text": [
          "hidden"
         ],
         "type": "scatter",
         "x": [
          -3.5309810638427734
         ],
         "xaxis": "x",
         "y": [
          -1.3813949823379517
         ],
         "yaxis": "y"
        },
        {
         "hovertemplate": "index=%{text}<br>0=%{x}<br>1=%{y}<br>size=%{marker.size}<extra></extra>",
         "legendgroup": "hope",
         "marker": {
          "color": "#FFA15A",
          "size": [
           10
          ],
          "sizemode": "area",
          "sizeref": 0.025,
          "symbol": "circle"
         },
         "mode": "markers+text",
         "name": "hope",
         "orientation": "v",
         "showlegend": true,
         "text": [
          "hope"
         ],
         "type": "scatter",
         "x": [
          -0.38399145007133484
         ],
         "xaxis": "x",
         "y": [
          2.521413564682007
         ],
         "yaxis": "y"
        },
        {
         "hovertemplate": "index=%{text}<br>0=%{x}<br>1=%{y}<br>size=%{marker.size}<extra></extra>",
         "legendgroup": "human",
         "marker": {
          "color": "#19d3f3",
          "size": [
           10
          ],
          "sizemode": "area",
          "sizeref": 0.025,
          "symbol": "circle"
         },
         "mode": "markers+text",
         "name": "human",
         "orientation": "v",
         "showlegend": true,
         "text": [
          "human"
         ],
         "type": "scatter",
         "x": [
          3.353452444076538
         ],
         "xaxis": "x",
         "y": [
          -2.981549024581909
         ],
         "yaxis": "y"
        },
        {
         "hovertemplate": "index=%{text}<br>0=%{x}<br>1=%{y}<br>size=%{marker.size}<extra></extra>",
         "legendgroup": "humanity's",
         "marker": {
          "color": "#FF6692",
          "size": [
           10
          ],
          "sizemode": "area",
          "sizeref": 0.025,
          "symbol": "circle"
         },
         "mode": "markers+text",
         "name": "humanity's",
         "orientation": "v",
         "showlegend": true,
         "text": [
          "humanity's"
         ],
         "type": "scatter",
         "x": [
          -2.254122495651245
         ],
         "xaxis": "x",
         "y": [
          -2.0820200443267822
         ],
         "yaxis": "y"
        },
        {
         "hovertemplate": "index=%{text}<br>0=%{x}<br>1=%{y}<br>size=%{marker.size}<extra></extra>",
         "legendgroup": "i",
         "marker": {
          "color": "#B6E880",
          "size": [
           10
          ],
          "sizemode": "area",
          "sizeref": 0.025,
          "symbol": "circle"
         },
         "mode": "markers+text",
         "name": "i",
         "orientation": "v",
         "showlegend": true,
         "text": [
          "i"
         ],
         "type": "scatter",
         "x": [
          -0.027497179806232452
         ],
         "xaxis": "x",
         "y": [
          -0.6051653027534485
         ],
         "yaxis": "y"
        },
        {
         "hovertemplate": "index=%{text}<br>0=%{x}<br>1=%{y}<br>size=%{marker.size}<extra></extra>",
         "legendgroup": "improve",
         "marker": {
          "color": "#FF97FF",
          "size": [
           10
          ],
          "sizemode": "area",
          "sizeref": 0.025,
          "symbol": "circle"
         },
         "mode": "markers+text",
         "name": "improve",
         "orientation": "v",
         "showlegend": true,
         "text": [
          "improve"
         ],
         "type": "scatter",
         "x": [
          1.989988088607788
         ],
         "xaxis": "x",
         "y": [
          3.3094654083251953
         ],
         "yaxis": "y"
        },
        {
         "hovertemplate": "index=%{text}<br>0=%{x}<br>1=%{y}<br>size=%{marker.size}<extra></extra>",
         "legendgroup": "in",
         "marker": {
          "color": "#FECB52",
          "size": [
           10
          ],
          "sizemode": "area",
          "sizeref": 0.025,
          "symbol": "circle"
         },
         "mode": "markers+text",
         "name": "in",
         "orientation": "v",
         "showlegend": true,
         "text": [
          "in"
         ],
         "type": "scatter",
         "x": [
          -0.7539235949516296
         ],
         "xaxis": "x",
         "y": [
          0.5577829480171204
         ],
         "yaxis": "y"
        },
        {
         "hovertemplate": "index=%{text}<br>0=%{x}<br>1=%{y}<br>size=%{marker.size}<extra></extra>",
         "legendgroup": "industries,",
         "marker": {
          "color": "#636efa",
          "size": [
           10
          ],
          "sizemode": "area",
          "sizeref": 0.025,
          "symbol": "circle"
         },
         "mode": "markers+text",
         "name": "industries,",
         "orientation": "v",
         "showlegend": true,
         "text": [
          "industries,"
         ],
         "type": "scatter",
         "x": [
          -0.9217162728309631
         ],
         "xaxis": "x",
         "y": [
          0.872103750705719
         ],
         "yaxis": "y"
        },
        {
         "hovertemplate": "index=%{text}<br>0=%{x}<br>1=%{y}<br>size=%{marker.size}<extra></extra>",
         "legendgroup": "information",
         "marker": {
          "color": "#EF553B",
          "size": [
           10
          ],
          "sizemode": "area",
          "sizeref": 0.025,
          "symbol": "circle"
         },
         "mode": "markers+text",
         "name": "information",
         "orientation": "v",
         "showlegend": true,
         "text": [
          "information"
         ],
         "type": "scatter",
         "x": [
          0.8931724429130554
         ],
         "xaxis": "x",
         "y": [
          -0.4051660895347595
         ],
         "yaxis": "y"
        },
        {
         "hovertemplate": "index=%{text}<br>0=%{x}<br>1=%{y}<br>size=%{marker.size}<extra></extra>",
         "legendgroup": "informed",
         "marker": {
          "color": "#00cc96",
          "size": [
           10
          ],
          "sizemode": "area",
          "sizeref": 0.025,
          "symbol": "circle"
         },
         "mode": "markers+text",
         "name": "informed",
         "orientation": "v",
         "showlegend": true,
         "text": [
          "informed"
         ],
         "type": "scatter",
         "x": [
          -3.7442917823791504
         ],
         "xaxis": "x",
         "y": [
          -0.7683263421058655
         ],
         "yaxis": "y"
        },
        {
         "hovertemplate": "index=%{text}<br>0=%{x}<br>1=%{y}<br>size=%{marker.size}<extra></extra>",
         "legendgroup": "innovation",
         "marker": {
          "color": "#ab63fa",
          "size": [
           10
          ],
          "sizemode": "area",
          "sizeref": 0.025,
          "symbol": "circle"
         },
         "mode": "markers+text",
         "name": "innovation",
         "orientation": "v",
         "showlegend": true,
         "text": [
          "innovation"
         ],
         "type": "scatter",
         "x": [
          -0.914815366268158
         ],
         "xaxis": "x",
         "y": [
          0.8719709515571594
         ],
         "yaxis": "y"
        },
        {
         "hovertemplate": "index=%{text}<br>0=%{x}<br>1=%{y}<br>size=%{marker.size}<extra></extra>",
         "legendgroup": "innovations.",
         "marker": {
          "color": "#FFA15A",
          "size": [
           10
          ],
          "sizemode": "area",
          "sizeref": 0.025,
          "symbol": "circle"
         },
         "mode": "markers+text",
         "name": "innovations.",
         "orientation": "v",
         "showlegend": true,
         "text": [
          "innovations."
         ],
         "type": "scatter",
         "x": [
          -0.3940069079399109
         ],
         "xaxis": "x",
         "y": [
          -0.7757701873779297
         ],
         "yaxis": "y"
        },
        {
         "hovertemplate": "index=%{text}<br>0=%{x}<br>1=%{y}<br>size=%{marker.size}<extra></extra>",
         "legendgroup": "innovative",
         "marker": {
          "color": "#19d3f3",
          "size": [
           10
          ],
          "sizemode": "area",
          "sizeref": 0.025,
          "symbol": "circle"
         },
         "mode": "markers+text",
         "name": "innovative",
         "orientation": "v",
         "showlegend": true,
         "text": [
          "innovative"
         ],
         "type": "scatter",
         "x": [
          2.4497830867767334
         ],
         "xaxis": "x",
         "y": [
          -3.72609806060791
         ],
         "yaxis": "y"
        },
        {
         "hovertemplate": "index=%{text}<br>0=%{x}<br>1=%{y}<br>size=%{marker.size}<extra></extra>",
         "legendgroup": "insights",
         "marker": {
          "color": "#FF6692",
          "size": [
           10
          ],
          "sizemode": "area",
          "sizeref": 0.025,
          "symbol": "circle"
         },
         "mode": "markers+text",
         "name": "insights",
         "orientation": "v",
         "showlegend": true,
         "text": [
          "insights"
         ],
         "type": "scatter",
         "x": [
          -0.33621636033058167
         ],
         "xaxis": "x",
         "y": [
          -3.6502456665039062
         ],
         "yaxis": "y"
        },
        {
         "hovertemplate": "index=%{text}<br>0=%{x}<br>1=%{y}<br>size=%{marker.size}<extra></extra>",
         "legendgroup": "integrity,",
         "marker": {
          "color": "#B6E880",
          "size": [
           10
          ],
          "sizemode": "area",
          "sizeref": 0.025,
          "symbol": "circle"
         },
         "mode": "markers+text",
         "name": "integrity,",
         "orientation": "v",
         "showlegend": true,
         "text": [
          "integrity,"
         ],
         "type": "scatter",
         "x": [
          -0.2735576331615448
         ],
         "xaxis": "x",
         "y": [
          0.07844842970371246
         ],
         "yaxis": "y"
        },
        {
         "hovertemplate": "index=%{text}<br>0=%{x}<br>1=%{y}<br>size=%{marker.size}<extra></extra>",
         "legendgroup": "intelligence",
         "marker": {
          "color": "#FF97FF",
          "size": [
           10
          ],
          "sizemode": "area",
          "sizeref": 0.025,
          "symbol": "circle"
         },
         "mode": "markers+text",
         "name": "intelligence",
         "orientation": "v",
         "showlegend": true,
         "text": [
          "intelligence"
         ],
         "type": "scatter",
         "x": [
          3.3957407474517822
         ],
         "xaxis": "x",
         "y": [
          -3.0113725662231445
         ],
         "yaxis": "y"
        },
        {
         "hovertemplate": "index=%{text}<br>0=%{x}<br>1=%{y}<br>size=%{marker.size}<extra></extra>",
         "legendgroup": "intelligence.",
         "marker": {
          "color": "#FECB52",
          "size": [
           10
          ],
          "sizemode": "area",
          "sizeref": 0.025,
          "symbol": "circle"
         },
         "mode": "markers+text",
         "name": "intelligence.",
         "orientation": "v",
         "showlegend": true,
         "text": [
          "intelligence."
         ],
         "type": "scatter",
         "x": [
          -2.0940515995025635
         ],
         "xaxis": "x",
         "y": [
          1.4158470630645752
         ],
         "yaxis": "y"
        },
        {
         "hovertemplate": "index=%{text}<br>0=%{x}<br>1=%{y}<br>size=%{marker.size}<extra></extra>",
         "legendgroup": "into",
         "marker": {
          "color": "#636efa",
          "size": [
           10
          ],
          "sizemode": "area",
          "sizeref": 0.025,
          "symbol": "circle"
         },
         "mode": "markers+text",
         "name": "into",
         "orientation": "v",
         "showlegend": true,
         "text": [
          "into"
         ],
         "type": "scatter",
         "x": [
          -0.9128022193908691
         ],
         "xaxis": "x",
         "y": [
          -0.976305365562439
         ],
         "yaxis": "y"
        },
        {
         "hovertemplate": "index=%{text}<br>0=%{x}<br>1=%{y}<br>size=%{marker.size}<extra></extra>",
         "legendgroup": "iteration",
         "marker": {
          "color": "#EF553B",
          "size": [
           10
          ],
          "sizemode": "area",
          "sizeref": 0.025,
          "symbol": "circle"
         },
         "mode": "markers+text",
         "name": "iteration",
         "orientation": "v",
         "showlegend": true,
         "text": [
          "iteration"
         ],
         "type": "scatter",
         "x": [
          -2.8573925495147705
         ],
         "xaxis": "x",
         "y": [
          1.0912542343139648
         ],
         "yaxis": "y"
        },
        {
         "hovertemplate": "index=%{text}<br>0=%{x}<br>1=%{y}<br>size=%{marker.size}<extra></extra>",
         "legendgroup": "key",
         "marker": {
          "color": "#00cc96",
          "size": [
           10
          ],
          "sizemode": "area",
          "sizeref": 0.025,
          "symbol": "circle"
         },
         "mode": "markers+text",
         "name": "key",
         "orientation": "v",
         "showlegend": true,
         "text": [
          "key"
         ],
         "type": "scatter",
         "x": [
          -3.3545336723327637
         ],
         "xaxis": "x",
         "y": [
          -1.3037981986999512
         ],
         "yaxis": "y"
        },
        {
         "hovertemplate": "index=%{text}<br>0=%{x}<br>1=%{y}<br>size=%{marker.size}<extra></extra>",
         "legendgroup": "knowledge",
         "marker": {
          "color": "#ab63fa",
          "size": [
           10
          ],
          "sizemode": "area",
          "sizeref": 0.025,
          "symbol": "circle"
         },
         "mode": "markers+text",
         "name": "knowledge",
         "orientation": "v",
         "showlegend": true,
         "text": [
          "knowledge"
         ],
         "type": "scatter",
         "x": [
          -0.9127570390701294
         ],
         "xaxis": "x",
         "y": [
          -0.9808753728866577
         ],
         "yaxis": "y"
        },
        {
         "hovertemplate": "index=%{text}<br>0=%{x}<br>1=%{y}<br>size=%{marker.size}<extra></extra>",
         "legendgroup": "leap",
         "marker": {
          "color": "#FFA15A",
          "size": [
           10
          ],
          "sizemode": "area",
          "sizeref": 0.025,
          "symbol": "circle"
         },
         "mode": "markers+text",
         "name": "leap",
         "orientation": "v",
         "showlegend": true,
         "text": [
          "leap"
         ],
         "type": "scatter",
         "x": [
          -2.079296827316284
         ],
         "xaxis": "x",
         "y": [
          1.4125924110412598
         ],
         "yaxis": "y"
        },
        {
         "hovertemplate": "index=%{text}<br>0=%{x}<br>1=%{y}<br>size=%{marker.size}<extra></extra>",
         "legendgroup": "lives",
         "marker": {
          "color": "#19d3f3",
          "size": [
           10
          ],
          "sizemode": "area",
          "sizeref": 0.025,
          "symbol": "circle"
         },
         "mode": "markers+text",
         "name": "lives",
         "orientation": "v",
         "showlegend": true,
         "text": [
          "lives"
         ],
         "type": "scatter",
         "x": [
          2.4941859245300293
         ],
         "xaxis": "x",
         "y": [
          -4.063877105712891
         ],
         "yaxis": "y"
        },
        {
         "hovertemplate": "index=%{text}<br>0=%{x}<br>1=%{y}<br>size=%{marker.size}<extra></extra>",
         "legendgroup": "make",
         "marker": {
          "color": "#FF6692",
          "size": [
           10
          ],
          "sizemode": "area",
          "sizeref": 0.025,
          "symbol": "circle"
         },
         "mode": "markers+text",
         "name": "make",
         "orientation": "v",
         "showlegend": true,
         "text": [
          "make"
         ],
         "type": "scatter",
         "x": [
          -4.011152267456055
         ],
         "xaxis": "x",
         "y": [
          -0.8198555707931519
         ],
         "yaxis": "y"
        },
        {
         "hovertemplate": "index=%{text}<br>0=%{x}<br>1=%{y}<br>size=%{marker.size}<extra></extra>",
         "legendgroup": "maximum",
         "marker": {
          "color": "#B6E880",
          "size": [
           10
          ],
          "sizemode": "area",
          "sizeref": 0.025,
          "symbol": "circle"
         },
         "mode": "markers+text",
         "name": "maximum",
         "orientation": "v",
         "showlegend": true,
         "text": [
          "maximum"
         ],
         "type": "scatter",
         "x": [
          0.4517287611961365
         ],
         "xaxis": "x",
         "y": [
          0.7160751223564148
         ],
         "yaxis": "y"
        },
        {
         "hovertemplate": "index=%{text}<br>0=%{x}<br>1=%{y}<br>size=%{marker.size}<extra></extra>",
         "legendgroup": "me",
         "marker": {
          "color": "#FF97FF",
          "size": [
           10
          ],
          "sizemode": "area",
          "sizeref": 0.025,
          "symbol": "circle"
         },
         "mode": "markers+text",
         "name": "me",
         "orientation": "v",
         "showlegend": true,
         "text": [
          "me"
         ],
         "type": "scatter",
         "x": [
          -3.526776075363159
         ],
         "xaxis": "x",
         "y": [
          0.33317801356315613
         ],
         "yaxis": "y"
        },
        {
         "hovertemplate": "index=%{text}<br>0=%{x}<br>1=%{y}<br>size=%{marker.size}<extra></extra>",
         "legendgroup": "model",
         "marker": {
          "color": "#FECB52",
          "size": [
           10
          ],
          "sizemode": "area",
          "sizeref": 0.025,
          "symbol": "circle"
         },
         "mode": "markers+text",
         "name": "model",
         "orientation": "v",
         "showlegend": true,
         "text": [
          "model"
         ],
         "type": "scatter",
         "x": [
          -2.1305112838745117
         ],
         "xaxis": "x",
         "y": [
          1.4317132234573364
         ],
         "yaxis": "y"
        },
        {
         "hovertemplate": "index=%{text}<br>0=%{x}<br>1=%{y}<br>size=%{marker.size}<extra></extra>",
         "legendgroup": "most",
         "marker": {
          "color": "#636efa",
          "size": [
           10
          ],
          "sizemode": "area",
          "sizeref": 0.025,
          "symbol": "circle"
         },
         "mode": "markers+text",
         "name": "most",
         "orientation": "v",
         "showlegend": true,
         "text": [
          "most"
         ],
         "type": "scatter",
         "x": [
          -2.2542219161987305
         ],
         "xaxis": "x",
         "y": [
          -2.4708690643310547
         ],
         "yaxis": "y"
        },
        {
         "hovertemplate": "index=%{text}<br>0=%{x}<br>1=%{y}<br>size=%{marker.size}<extra></extra>",
         "legendgroup": "of",
         "marker": {
          "color": "#EF553B",
          "size": [
           10
          ],
          "sizemode": "area",
          "sizeref": 0.025,
          "symbol": "circle"
         },
         "mode": "markers+text",
         "name": "of",
         "orientation": "v",
         "showlegend": true,
         "text": [
          "of"
         ],
         "type": "scatter",
         "x": [
          3.2921690940856934
         ],
         "xaxis": "x",
         "y": [
          -0.07084880769252777
         ],
         "yaxis": "y"
        },
        {
         "hovertemplate": "index=%{text}<br>0=%{x}<br>1=%{y}<br>size=%{marker.size}<extra></extra>",
         "legendgroup": "optimal",
         "marker": {
          "color": "#00cc96",
          "size": [
           10
          ],
          "sizemode": "area",
          "sizeref": 0.025,
          "symbol": "circle"
         },
         "mode": "markers+text",
         "name": "optimal",
         "orientation": "v",
         "showlegend": true,
         "text": [
          "optimal"
         ],
         "type": "scatter",
         "x": [
          -3.0027220249176025
         ],
         "xaxis": "x",
         "y": [
          1.1226112842559814
         ],
         "yaxis": "y"
        },
        {
         "hovertemplate": "index=%{text}<br>0=%{x}<br>1=%{y}<br>size=%{marker.size}<extra></extra>",
         "legendgroup": "optimization",
         "marker": {
          "color": "#ab63fa",
          "size": [
           10
          ],
          "sizemode": "area",
          "sizeref": 0.025,
          "symbol": "circle"
         },
         "mode": "markers+text",
         "name": "optimization",
         "orientation": "v",
         "showlegend": true,
         "text": [
          "optimization"
         ],
         "type": "scatter",
         "x": [
          3.5891716480255127
         ],
         "xaxis": "x",
         "y": [
          -0.7798925042152405
         ],
         "yaxis": "y"
        },
        {
         "hovertemplate": "index=%{text}<br>0=%{x}<br>1=%{y}<br>size=%{marker.size}<extra></extra>",
         "legendgroup": "optimize",
         "marker": {
          "color": "#FFA15A",
          "size": [
           10
          ],
          "sizemode": "area",
          "sizeref": 0.025,
          "symbol": "circle"
         },
         "mode": "markers+text",
         "name": "optimize",
         "orientation": "v",
         "showlegend": true,
         "text": [
          "optimize"
         ],
         "type": "scatter",
         "x": [
          0.453054815530777
         ],
         "xaxis": "x",
         "y": [
          0.7162811160087585
         ],
         "yaxis": "y"
        },
        {
         "hovertemplate": "index=%{text}<br>0=%{x}<br>1=%{y}<br>size=%{marker.size}<extra></extra>",
         "legendgroup": "optimized",
         "marker": {
          "color": "#19d3f3",
          "size": [
           10
          ],
          "sizemode": "area",
          "sizeref": 0.025,
          "symbol": "circle"
         },
         "mode": "markers+text",
         "name": "optimized",
         "orientation": "v",
         "showlegend": true,
         "text": [
          "optimized"
         ],
         "type": "scatter",
         "x": [
          2.0274300575256348
         ],
         "xaxis": "x",
         "y": [
          3.381287097930908
         ],
         "yaxis": "y"
        },
        {
         "hovertemplate": "index=%{text}<br>0=%{x}<br>1=%{y}<br>size=%{marker.size}<extra></extra>",
         "legendgroup": "outcomes.",
         "marker": {
          "color": "#FF6692",
          "size": [
           10
          ],
          "sizemode": "area",
          "sizeref": 0.025,
          "symbol": "circle"
         },
         "mode": "markers+text",
         "name": "outcomes.",
         "orientation": "v",
         "showlegend": true,
         "text": [
          "outcomes."
         ],
         "type": "scatter",
         "x": [
          0.532423734664917
         ],
         "xaxis": "x",
         "y": [
          2.5261807441711426
         ],
         "yaxis": "y"
        },
        {
         "hovertemplate": "index=%{text}<br>0=%{x}<br>1=%{y}<br>size=%{marker.size}<extra></extra>",
         "legendgroup": "pave",
         "marker": {
          "color": "#B6E880",
          "size": [
           10
          ],
          "sizemode": "area",
          "sizeref": 0.025,
          "symbol": "circle"
         },
         "mode": "markers+text",
         "name": "pave",
         "orientation": "v",
         "showlegend": true,
         "text": [
          "pave"
         ],
         "type": "scatter",
         "x": [
          0.5611791014671326
         ],
         "xaxis": "x",
         "y": [
          3.4373440742492676
         ],
         "yaxis": "y"
        },
        {
         "hovertemplate": "index=%{text}<br>0=%{x}<br>1=%{y}<br>size=%{marker.size}<extra></extra>",
         "legendgroup": "performance.",
         "marker": {
          "color": "#FF97FF",
          "size": [
           10
          ],
          "sizemode": "area",
          "sizeref": 0.025,
          "symbol": "circle"
         },
         "mode": "markers+text",
         "name": "performance.",
         "orientation": "v",
         "showlegend": true,
         "text": [
          "performance."
         ],
         "type": "scatter",
         "x": [
          0.452263206243515
         ],
         "xaxis": "x",
         "y": [
          0.7169693112373352
         ],
         "yaxis": "y"
        },
        {
         "hovertemplate": "index=%{text}<br>0=%{x}<br>1=%{y}<br>size=%{marker.size}<extra></extra>",
         "legendgroup": "pioneer",
         "marker": {
          "color": "#FECB52",
          "size": [
           10
          ],
          "sizemode": "area",
          "sizeref": 0.025,
          "symbol": "circle"
         },
         "mode": "markers+text",
         "name": "pioneer",
         "orientation": "v",
         "showlegend": true,
         "text": [
          "pioneer"
         ],
         "type": "scatter",
         "x": [
          -0.3926553726196289
         ],
         "xaxis": "x",
         "y": [
          -0.7769567370414734
         ],
         "yaxis": "y"
        },
        {
         "hovertemplate": "index=%{text}<br>0=%{x}<br>1=%{y}<br>size=%{marker.size}<extra></extra>",
         "legendgroup": "point",
         "marker": {
          "color": "#636efa",
          "size": [
           10
          ],
          "sizemode": "area",
          "sizeref": 0.025,
          "symbol": "circle"
         },
         "mode": "markers+text",
         "name": "point",
         "orientation": "v",
         "showlegend": true,
         "text": [
          "point"
         ],
         "type": "scatter",
         "x": [
          -3.4689245223999023
         ],
         "xaxis": "x",
         "y": [
          0.6591078042984009
         ],
         "yaxis": "y"
        },
        {
         "hovertemplate": "index=%{text}<br>0=%{x}<br>1=%{y}<br>size=%{marker.size}<extra></extra>",
         "legendgroup": "potentials.",
         "marker": {
          "color": "#EF553B",
          "size": [
           10
          ],
          "sizemode": "area",
          "sizeref": 0.025,
          "symbol": "circle"
         },
         "mode": "markers+text",
         "name": "potentials.",
         "orientation": "v",
         "showlegend": true,
         "text": [
          "potentials."
         ],
         "type": "scatter",
         "x": [
          -3.404134750366211
         ],
         "xaxis": "x",
         "y": [
          -1.3171030282974243
         ],
         "yaxis": "y"
        },
        {
         "hovertemplate": "index=%{text}<br>0=%{x}<br>1=%{y}<br>size=%{marker.size}<extra></extra>",
         "legendgroup": "precision.",
         "marker": {
          "color": "#00cc96",
          "size": [
           10
          ],
          "sizemode": "area",
          "sizeref": 0.025,
          "symbol": "circle"
         },
         "mode": "markers+text",
         "name": "precision.",
         "orientation": "v",
         "showlegend": true,
         "text": [
          "precision."
         ],
         "type": "scatter",
         "x": [
          -0.9079442024230957
         ],
         "xaxis": "x",
         "y": [
          -0.9763132929801941
         ],
         "yaxis": "y"
        },
        {
         "hovertemplate": "index=%{text}<br>0=%{x}<br>1=%{y}<br>size=%{marker.size}<extra></extra>",
         "legendgroup": "pressing",
         "marker": {
          "color": "#ab63fa",
          "size": [
           10
          ],
          "sizemode": "area",
          "sizeref": 0.025,
          "symbol": "circle"
         },
         "mode": "markers+text",
         "name": "pressing",
         "orientation": "v",
         "showlegend": true,
         "text": [
          "pressing"
         ],
         "type": "scatter",
         "x": [
          -2.2490952014923096
         ],
         "xaxis": "x",
         "y": [
          -2.0649361610412598
         ],
         "yaxis": "y"
        },
        {
         "hovertemplate": "index=%{text}<br>0=%{x}<br>1=%{y}<br>size=%{marker.size}<extra></extra>",
         "legendgroup": "privacy",
         "marker": {
          "color": "#FFA15A",
          "size": [
           10
          ],
          "sizemode": "area",
          "sizeref": 0.025,
          "symbol": "circle"
         },
         "mode": "markers+text",
         "name": "privacy",
         "orientation": "v",
         "showlegend": true,
         "text": [
          "privacy"
         ],
         "type": "scatter",
         "x": [
          3.444253444671631
         ],
         "xaxis": "x",
         "y": [
          2.744107484817505
         ],
         "yaxis": "y"
        },
        {
         "hovertemplate": "index=%{text}<br>0=%{x}<br>1=%{y}<br>size=%{marker.size}<extra></extra>",
         "legendgroup": "processes",
         "marker": {
          "color": "#19d3f3",
          "size": [
           10
          ],
          "sizemode": "area",
          "sizeref": 0.025,
          "symbol": "circle"
         },
         "mode": "markers+text",
         "name": "processes",
         "orientation": "v",
         "showlegend": true,
         "text": [
          "processes"
         ],
         "type": "scatter",
         "x": [
          2.0315098762512207
         ],
         "xaxis": "x",
         "y": [
          3.416522264480591
         ],
         "yaxis": "y"
        },
        {
         "hovertemplate": "index=%{text}<br>0=%{x}<br>1=%{y}<br>size=%{marker.size}<extra></extra>",
         "legendgroup": "progress",
         "marker": {
          "color": "#FF6692",
          "size": [
           10
          ],
          "sizemode": "area",
          "sizeref": 0.025,
          "symbol": "circle"
         },
         "mode": "markers+text",
         "name": "progress",
         "orientation": "v",
         "showlegend": true,
         "text": [
          "progress"
         ],
         "type": "scatter",
         "x": [
          -0.9222681522369385
         ],
         "xaxis": "x",
         "y": [
          0.8755288124084473
         ],
         "yaxis": "y"
        },
        {
         "hovertemplate": "index=%{text}<br>0=%{x}<br>1=%{y}<br>size=%{marker.size}<extra></extra>",
         "legendgroup": "protects",
         "marker": {
          "color": "#B6E880",
          "size": [
           10
          ],
          "sizemode": "area",
          "sizeref": 0.025,
          "symbol": "circle"
         },
         "mode": "markers+text",
         "name": "protects",
         "orientation": "v",
         "showlegend": true,
         "text": [
          "protects"
         ],
         "type": "scatter",
         "x": [
          3.322481632232666
         ],
         "xaxis": "x",
         "y": [
          2.676776170730591
         ],
         "yaxis": "y"
        },
        {
         "hovertemplate": "index=%{text}<br>0=%{x}<br>1=%{y}<br>size=%{marker.size}<extra></extra>",
         "legendgroup": "protocols",
         "marker": {
          "color": "#FF97FF",
          "size": [
           10
          ],
          "sizemode": "area",
          "sizeref": 0.025,
          "symbol": "circle"
         },
         "mode": "markers+text",
         "name": "protocols",
         "orientation": "v",
         "showlegend": true,
         "text": [
          "protocols"
         ],
         "type": "scatter",
         "x": [
          2.6788885593414307
         ],
         "xaxis": "x",
         "y": [
          0.42112669348716736
         ],
         "yaxis": "y"
        },
        {
         "hovertemplate": "index=%{text}<br>0=%{x}<br>1=%{y}<br>size=%{marker.size}<extra></extra>",
         "legendgroup": "raw",
         "marker": {
          "color": "#FECB52",
          "size": [
           10
          ],
          "sizemode": "area",
          "sizeref": 0.025,
          "symbol": "circle"
         },
         "mode": "markers+text",
         "name": "raw",
         "orientation": "v",
         "showlegend": true,
         "text": [
          "raw"
         ],
         "type": "scatter",
         "x": [
          -0.9075012803077698
         ],
         "xaxis": "x",
         "y": [
          -0.9753797054290771
         ],
         "yaxis": "y"
        },
        {
         "hovertemplate": "index=%{text}<br>0=%{x}<br>1=%{y}<br>size=%{marker.size}<extra></extra>",
         "legendgroup": "real-world",
         "marker": {
          "color": "#636efa",
          "size": [
           10
          ],
          "sizemode": "area",
          "sizeref": 0.025,
          "symbol": "circle"
         },
         "mode": "markers+text",
         "name": "real-world",
         "orientation": "v",
         "showlegend": true,
         "text": [
          "real-world"
         ],
         "type": "scatter",
         "x": [
          0.8581188321113586
         ],
         "xaxis": "x",
         "y": [
          -2.1581292152404785
         ],
         "yaxis": "y"
        },
        {
         "hovertemplate": "index=%{text}<br>0=%{x}<br>1=%{y}<br>size=%{marker.size}<extra></extra>",
         "legendgroup": "represents",
         "marker": {
          "color": "#EF553B",
          "size": [
           10
          ],
          "sizemode": "area",
          "sizeref": 0.025,
          "symbol": "circle"
         },
         "mode": "markers+text",
         "name": "represents",
         "orientation": "v",
         "showlegend": true,
         "text": [
          "represents"
         ],
         "type": "scatter",
         "x": [
          -2.0560786724090576
         ],
         "xaxis": "x",
         "y": [
          1.4037044048309326
         ],
         "yaxis": "y"
        },
        {
         "hovertemplate": "index=%{text}<br>0=%{x}<br>1=%{y}<br>size=%{marker.size}<extra></extra>",
         "legendgroup": "research",
         "marker": {
          "color": "#00cc96",
          "size": [
           10
          ],
          "sizemode": "area",
          "sizeref": 0.025,
          "symbol": "circle"
         },
         "mode": "markers+text",
         "name": "research",
         "orientation": "v",
         "showlegend": true,
         "text": [
          "research"
         ],
         "type": "scatter",
         "x": [
          0.8555343747138977
         ],
         "xaxis": "x",
         "y": [
          -2.159086227416992
         ],
         "yaxis": "y"
        },
        {
         "hovertemplate": "index=%{text}<br>0=%{x}<br>1=%{y}<br>size=%{marker.size}<extra></extra>",
         "legendgroup": "revolutionizes",
         "marker": {
          "color": "#ab63fa",
          "size": [
           10
          ],
          "sizemode": "area",
          "sizeref": 0.025,
          "symbol": "circle"
         },
         "mode": "markers+text",
         "name": "revolutionizes",
         "orientation": "v",
         "showlegend": true,
         "text": [
          "revolutionizes"
         ],
         "type": "scatter",
         "x": [
          -0.917574942111969
         ],
         "xaxis": "x",
         "y": [
          0.8695861101150513
         ],
         "yaxis": "y"
        },
        {
         "hovertemplate": "index=%{text}<br>0=%{x}<br>1=%{y}<br>size=%{marker.size}<extra></extra>",
         "legendgroup": "safeguards",
         "marker": {
          "color": "#FFA15A",
          "size": [
           10
          ],
          "sizemode": "area",
          "sizeref": 0.025,
          "symbol": "circle"
         },
         "mode": "markers+text",
         "name": "safeguards",
         "orientation": "v",
         "showlegend": true,
         "text": [
          "safeguards"
         ],
         "type": "scatter",
         "x": [
          3.530604600906372
         ],
         "xaxis": "x",
         "y": [
          2.8156518936157227
         ],
         "yaxis": "y"
        },
        {
         "hovertemplate": "index=%{text}<br>0=%{x}<br>1=%{y}<br>size=%{marker.size}<extra></extra>",
         "legendgroup": "science",
         "marker": {
          "color": "#19d3f3",
          "size": [
           10
          ],
          "sizemode": "area",
          "sizeref": 0.025,
          "symbol": "circle"
         },
         "mode": "markers+text",
         "name": "science",
         "orientation": "v",
         "showlegend": true,
         "text": [
          "science"
         ],
         "type": "scatter",
         "x": [
          -4.0473103523254395
         ],
         "xaxis": "x",
         "y": [
          -1.1069844961166382
         ],
         "yaxis": "y"
        },
        {
         "hovertemplate": "index=%{text}<br>0=%{x}<br>1=%{y}<br>size=%{marker.size}<extra></extra>",
         "legendgroup": "secure",
         "marker": {
          "color": "#FF6692",
          "size": [
           10
          ],
          "sizemode": "area",
          "sizeref": 0.025,
          "symbol": "circle"
         },
         "mode": "markers+text",
         "name": "secure",
         "orientation": "v",
         "showlegend": true,
         "text": [
          "secure"
         ],
         "type": "scatter",
         "x": [
          1.4121395349502563
         ],
         "xaxis": "x",
         "y": [
          -0.06304197758436203
         ],
         "yaxis": "y"
        },
        {
         "hovertemplate": "index=%{text}<br>0=%{x}<br>1=%{y}<br>size=%{marker.size}<extra></extra>",
         "legendgroup": "sensitive",
         "marker": {
          "color": "#B6E880",
          "size": [
           10
          ],
          "sizemode": "area",
          "sizeref": 0.025,
          "symbol": "circle"
         },
         "mode": "markers+text",
         "name": "sensitive",
         "orientation": "v",
         "showlegend": true,
         "text": [
          "sensitive"
         ],
         "type": "scatter",
         "x": [
          3.5141282081604004
         ],
         "xaxis": "x",
         "y": [
          2.7384767532348633
         ],
         "yaxis": "y"
        },
        {
         "hovertemplate": "index=%{text}<br>0=%{x}<br>1=%{y}<br>size=%{marker.size}<extra></extra>",
         "legendgroup": "shield",
         "marker": {
          "color": "#FF97FF",
          "size": [
           10
          ],
          "sizemode": "area",
          "sizeref": 0.025,
          "symbol": "circle"
         },
         "mode": "markers+text",
         "name": "shield",
         "orientation": "v",
         "showlegend": true,
         "text": [
          "shield"
         ],
         "type": "scatter",
         "x": [
          -2.7807602882385254
         ],
         "xaxis": "x",
         "y": [
          3.4375617504119873
         ],
         "yaxis": "y"
        },
        {
         "hovertemplate": "index=%{text}<br>0=%{x}<br>1=%{y}<br>size=%{marker.size}<extra></extra>",
         "legendgroup": "solutions.",
         "marker": {
          "color": "#FECB52",
          "size": [
           10
          ],
          "sizemode": "area",
          "sizeref": 0.025,
          "symbol": "circle"
         },
         "mode": "markers+text",
         "name": "solutions.",
         "orientation": "v",
         "showlegend": true,
         "text": [
          "solutions."
         ],
         "type": "scatter",
         "x": [
          -2.8592004776000977
         ],
         "xaxis": "x",
         "y": [
          1.087639570236206
         ],
         "yaxis": "y"
        },
        {
         "hovertemplate": "index=%{text}<br>0=%{x}<br>1=%{y}<br>size=%{marker.size}<extra></extra>",
         "legendgroup": "solve",
         "marker": {
          "color": "#636efa",
          "size": [
           10
          ],
          "sizemode": "area",
          "sizeref": 0.025,
          "symbol": "circle"
         },
         "mode": "markers+text",
         "name": "solve",
         "orientation": "v",
         "showlegend": true,
         "text": [
          "solve"
         ],
         "type": "scatter",
         "x": [
          -2.2501373291015625
         ],
         "xaxis": "x",
         "y": [
          -2.070669412612915
         ],
         "yaxis": "y"
        },
        {
         "hovertemplate": "index=%{text}<br>0=%{x}<br>1=%{y}<br>size=%{marker.size}<extra></extra>",
         "legendgroup": "speed",
         "marker": {
          "color": "#EF553B",
          "size": [
           10
          ],
          "sizemode": "area",
          "sizeref": 0.025,
          "symbol": "circle"
         },
         "mode": "markers+text",
         "name": "speed",
         "orientation": "v",
         "showlegend": true,
         "text": [
          "speed"
         ],
         "type": "scatter",
         "x": [
          3.473139762878418
         ],
         "xaxis": "x",
         "y": [
          -0.7576184868812561
         ],
         "yaxis": "y"
        },
        {
         "hovertemplate": "index=%{text}<br>0=%{x}<br>1=%{y}<br>size=%{marker.size}<extra></extra>",
         "legendgroup": "story",
         "marker": {
          "color": "#00cc96",
          "size": [
           10
          ],
          "sizemode": "area",
          "sizeref": 0.025,
          "symbol": "circle"
         },
         "mode": "markers+text",
         "name": "story",
         "orientation": "v",
         "showlegend": true,
         "text": [
          "story"
         ],
         "type": "scatter",
         "x": [
          -3.607224941253662
         ],
         "xaxis": "x",
         "y": [
          0.6854013800621033
         ],
         "yaxis": "y"
        },
        {
         "hovertemplate": "index=%{text}<br>0=%{x}<br>1=%{y}<br>size=%{marker.size}<extra></extra>",
         "legendgroup": "strategies.",
         "marker": {
          "color": "#ab63fa",
          "size": [
           10
          ],
          "sizemode": "area",
          "sizeref": 0.025,
          "symbol": "circle"
         },
         "mode": "markers+text",
         "name": "strategies.",
         "orientation": "v",
         "showlegend": true,
         "text": [
          "strategies."
         ],
         "type": "scatter",
         "x": [
          -2.0625531673431396
         ],
         "xaxis": "x",
         "y": [
          -2.7405221462249756
         ],
         "yaxis": "y"
        },
        {
         "hovertemplate": "index=%{text}<br>0=%{x}<br>1=%{y}<br>size=%{marker.size}<extra></extra>",
         "legendgroup": "streamline",
         "marker": {
          "color": "#FFA15A",
          "size": [
           10
          ],
          "sizemode": "area",
          "sizeref": 0.025,
          "symbol": "circle"
         },
         "mode": "markers+text",
         "name": "streamline",
         "orientation": "v",
         "showlegend": true,
         "text": [
          "streamline"
         ],
         "type": "scatter",
         "x": [
          1.9732989072799683
         ],
         "xaxis": "x",
         "y": [
          3.242666006088257
         ],
         "yaxis": "y"
        },
        {
         "hovertemplate": "index=%{text}<br>0=%{x}<br>1=%{y}<br>size=%{marker.size}<extra></extra>",
         "legendgroup": "strengthens",
         "marker": {
          "color": "#19d3f3",
          "size": [
           10
          ],
          "sizemode": "area",
          "sizeref": 0.025,
          "symbol": "circle"
         },
         "mode": "markers+text",
         "name": "strengthens",
         "orientation": "v",
         "showlegend": true,
         "text": [
          "strengthens"
         ],
         "type": "scatter",
         "x": [
          -2.9652271270751953
         ],
         "xaxis": "x",
         "y": [
          3.692932367324829
         ],
         "yaxis": "y"
        },
        {
         "hovertemplate": "index=%{text}<br>0=%{x}<br>1=%{y}<br>size=%{marker.size}<extra></extra>",
         "legendgroup": "techniques",
         "marker": {
          "color": "#FF6692",
          "size": [
           10
          ],
          "sizemode": "area",
          "sizeref": 0.025,
          "symbol": "circle"
         },
         "mode": "markers+text",
         "name": "techniques",
         "orientation": "v",
         "showlegend": true,
         "text": [
          "techniques"
         ],
         "type": "scatter",
         "x": [
          3.752615213394165
         ],
         "xaxis": "x",
         "y": [
          -0.8123151063919067
         ],
         "yaxis": "y"
        },
        {
         "hovertemplate": "index=%{text}<br>0=%{x}<br>1=%{y}<br>size=%{marker.size}<extra></extra>",
         "legendgroup": "techniques.",
         "marker": {
          "color": "#B6E880",
          "size": [
           10
          ],
          "sizemode": "area",
          "sizeref": 0.025,
          "symbol": "circle"
         },
         "mode": "markers+text",
         "name": "techniques.",
         "orientation": "v",
         "showlegend": true,
         "text": [
          "techniques."
         ],
         "type": "scatter",
         "x": [
          0.8857831954956055
         ],
         "xaxis": "x",
         "y": [
          -0.4097880423069
         ],
         "yaxis": "y"
        },
        {
         "hovertemplate": "index=%{text}<br>0=%{x}<br>1=%{y}<br>size=%{marker.size}<extra></extra>",
         "legendgroup": "technologies.",
         "marker": {
          "color": "#FF97FF",
          "size": [
           10
          ],
          "sizemode": "area",
          "sizeref": 0.025,
          "symbol": "circle"
         },
         "mode": "markers+text",
         "name": "technologies.",
         "orientation": "v",
         "showlegend": true,
         "text": [
          "technologies."
         ],
         "type": "scatter",
         "x": [
          0.6197127103805542
         ],
         "xaxis": "x",
         "y": [
          -2.459136962890625
         ],
         "yaxis": "y"
        },
        {
         "hovertemplate": "index=%{text}<br>0=%{x}<br>1=%{y}<br>size=%{marker.size}<extra></extra>",
         "legendgroup": "tells",
         "marker": {
          "color": "#FECB52",
          "size": [
           10
          ],
          "sizemode": "area",
          "sizeref": 0.025,
          "symbol": "circle"
         },
         "mode": "markers+text",
         "name": "tells",
         "orientation": "v",
         "showlegend": true,
         "text": [
          "tells"
         ],
         "type": "scatter",
         "x": [
          -3.504673719406128
         ],
         "xaxis": "x",
         "y": [
          0.670281708240509
         ],
         "yaxis": "y"
        },
        {
         "hovertemplate": "index=%{text}<br>0=%{x}<br>1=%{y}<br>size=%{marker.size}<extra></extra>",
         "legendgroup": "therapies.",
         "marker": {
          "color": "#636efa",
          "size": [
           10
          ],
          "sizemode": "area",
          "sizeref": 0.025,
          "symbol": "circle"
         },
         "mode": "markers+text",
         "name": "therapies.",
         "orientation": "v",
         "showlegend": true,
         "text": [
          "therapies."
         ],
         "type": "scatter",
         "x": [
          2.478214740753174
         ],
         "xaxis": "x",
         "y": [
          -3.861992597579956
         ],
         "yaxis": "y"
        },
        {
         "hovertemplate": "index=%{text}<br>0=%{x}<br>1=%{y}<br>size=%{marker.size}<extra></extra>",
         "legendgroup": "threats.",
         "marker": {
          "color": "#EF553B",
          "size": [
           10
          ],
          "sizemode": "area",
          "sizeref": 0.025,
          "symbol": "circle"
         },
         "mode": "markers+text",
         "name": "threats.",
         "orientation": "v",
         "showlegend": true,
         "text": [
          "threats."
         ],
         "type": "scatter",
         "x": [
          -2.944505214691162
         ],
         "xaxis": "x",
         "y": [
          3.695528745651245
         ],
         "yaxis": "y"
        },
        {
         "hovertemplate": "index=%{text}<br>0=%{x}<br>1=%{y}<br>size=%{marker.size}<extra></extra>",
         "legendgroup": "through",
         "marker": {
          "color": "#00cc96",
          "size": [
           10
          ],
          "sizemode": "area",
          "sizeref": 0.025,
          "symbol": "circle"
         },
         "mode": "markers+text",
         "name": "through",
         "orientation": "v",
         "showlegend": true,
         "text": [
          "through"
         ],
         "type": "scatter",
         "x": [
          2.510554552078247
         ],
         "xaxis": "x",
         "y": [
          -3.984818458557129
         ],
         "yaxis": "y"
        },
        {
         "hovertemplate": "index=%{text}<br>0=%{x}<br>1=%{y}<br>size=%{marker.size}<extra></extra>",
         "legendgroup": "to",
         "marker": {
          "color": "#ab63fa",
          "size": [
           10
          ],
          "sizemode": "area",
          "sizeref": 0.025,
          "symbol": "circle"
         },
         "mode": "markers+text",
         "name": "to",
         "orientation": "v",
         "showlegend": true,
         "text": [
          "to"
         ],
         "type": "scatter",
         "x": [
          -2.373847007751465
         ],
         "xaxis": "x",
         "y": [
          -0.4619748890399933
         ],
         "yaxis": "y"
        },
        {
         "hovertemplate": "index=%{text}<br>0=%{x}<br>1=%{y}<br>size=%{marker.size}<extra></extra>",
         "legendgroup": "trade-offs",
         "marker": {
          "color": "#FFA15A",
          "size": [
           10
          ],
          "sizemode": "area",
          "sizeref": 0.025,
          "symbol": "circle"
         },
         "mode": "markers+text",
         "name": "trade-offs",
         "orientation": "v",
         "showlegend": true,
         "text": [
          "trade-offs"
         ],
         "type": "scatter",
         "x": [
          -2.0906620025634766
         ],
         "xaxis": "x",
         "y": [
          -2.8063626289367676
         ],
         "yaxis": "y"
        },
        {
         "hovertemplate": "index=%{text}<br>0=%{x}<br>1=%{y}<br>size=%{marker.size}<extra></extra>",
         "legendgroup": "transactions.",
         "marker": {
          "color": "#19d3f3",
          "size": [
           10
          ],
          "sizemode": "area",
          "sizeref": 0.025,
          "symbol": "circle"
         },
         "mode": "markers+text",
         "name": "transactions.",
         "orientation": "v",
         "showlegend": true,
         "text": [
          "transactions."
         ],
         "type": "scatter",
         "x": [
          2.6471362113952637
         ],
         "xaxis": "x",
         "y": [
          0.41916608810424805
         ],
         "yaxis": "y"
        },
        {
         "hovertemplate": "index=%{text}<br>0=%{x}<br>1=%{y}<br>size=%{marker.size}<extra></extra>",
         "legendgroup": "transform",
         "marker": {
          "color": "#FF6692",
          "size": [
           10
          ],
          "sizemode": "area",
          "sizeref": 0.025,
          "symbol": "circle"
         },
         "mode": "markers+text",
         "name": "transform",
         "orientation": "v",
         "showlegend": true,
         "text": [
          "transform"
         ],
         "type": "scatter",
         "x": [
          -0.9050490856170654
         ],
         "xaxis": "x",
         "y": [
          -0.9690471887588501
         ],
         "yaxis": "y"
        },
        {
         "hovertemplate": "index=%{text}<br>0=%{x}<br>1=%{y}<br>size=%{marker.size}<extra></extra>",
         "legendgroup": "transforms",
         "marker": {
          "color": "#B6E880",
          "size": [
           10
          ],
          "sizemode": "area",
          "sizeref": 0.025,
          "symbol": "circle"
         },
         "mode": "markers+text",
         "name": "transforms",
         "orientation": "v",
         "showlegend": true,
         "text": [
          "transforms"
         ],
         "type": "scatter",
         "x": [
          2.471428394317627
         ],
         "xaxis": "x",
         "y": [
          -3.934751510620117
         ],
         "yaxis": "y"
        },
        {
         "hovertemplate": "index=%{text}<br>0=%{x}<br>1=%{y}<br>size=%{marker.size}<extra></extra>",
         "legendgroup": "treatments",
         "marker": {
          "color": "#FF97FF",
          "size": [
           10
          ],
          "sizemode": "area",
          "sizeref": 0.025,
          "symbol": "circle"
         },
         "mode": "markers+text",
         "name": "treatments",
         "orientation": "v",
         "showlegend": true,
         "text": [
          "treatments"
         ],
         "type": "scatter",
         "x": [
          2.421086072921753
         ],
         "xaxis": "x",
         "y": [
          -3.7434706687927246
         ],
         "yaxis": "y"
        },
        {
         "hovertemplate": "index=%{text}<br>0=%{x}<br>1=%{y}<br>size=%{marker.size}<extra></extra>",
         "legendgroup": "unbreakable",
         "marker": {
          "color": "#FECB52",
          "size": [
           10
          ],
          "sizemode": "area",
          "sizeref": 0.025,
          "symbol": "circle"
         },
         "mode": "markers+text",
         "name": "unbreakable",
         "orientation": "v",
         "showlegend": true,
         "text": [
          "unbreakable"
         ],
         "type": "scatter",
         "x": [
          0.8847641348838806
         ],
         "xaxis": "x",
         "y": [
          -0.41493669152259827
         ],
         "yaxis": "y"
        },
        {
         "hovertemplate": "index=%{text}<br>0=%{x}<br>1=%{y}<br>size=%{marker.size}<extra></extra>",
         "legendgroup": "unlocking",
         "marker": {
          "color": "#636efa",
          "size": [
           10
          ],
          "sizemode": "area",
          "sizeref": 0.025,
          "symbol": "circle"
         },
         "mode": "markers+text",
         "name": "unlocking",
         "orientation": "v",
         "showlegend": true,
         "text": [
          "unlocking"
         ],
         "type": "scatter",
         "x": [
          -3.4765987396240234
         ],
         "xaxis": "x",
         "y": [
          -1.3477500677108765
         ],
         "yaxis": "y"
        },
        {
         "hovertemplate": "index=%{text}<br>0=%{x}<br>1=%{y}<br>size=%{marker.size}<extra></extra>",
         "legendgroup": "valuable",
         "marker": {
          "color": "#EF553B",
          "size": [
           10
          ],
          "sizemode": "area",
          "sizeref": 0.025,
          "symbol": "circle"
         },
         "mode": "markers+text",
         "name": "valuable",
         "orientation": "v",
         "showlegend": true,
         "text": [
          "valuable"
         ],
         "type": "scatter",
         "x": [
          -0.35554200410842896
         ],
         "xaxis": "x",
         "y": [
          -3.7640862464904785
         ],
         "yaxis": "y"
        },
        {
         "hovertemplate": "index=%{text}<br>0=%{x}<br>1=%{y}<br>size=%{marker.size}<extra></extra>",
         "legendgroup": "waiting",
         "marker": {
          "color": "#00cc96",
          "size": [
           10
          ],
          "sizemode": "area",
          "sizeref": 0.025,
          "symbol": "circle"
         },
         "mode": "markers+text",
         "name": "waiting",
         "orientation": "v",
         "showlegend": true,
         "text": [
          "waiting"
         ],
         "type": "scatter",
         "x": [
          -3.606379747390747
         ],
         "xaxis": "x",
         "y": [
          0.6888635158538818
         ],
         "yaxis": "y"
        },
        {
         "hovertemplate": "index=%{text}<br>0=%{x}<br>1=%{y}<br>size=%{marker.size}<extra></extra>",
         "legendgroup": "way",
         "marker": {
          "color": "#ab63fa",
          "size": [
           10
          ],
          "sizemode": "area",
          "sizeref": 0.025,
          "symbol": "circle"
         },
         "mode": "markers+text",
         "name": "way",
         "orientation": "v",
         "showlegend": true,
         "text": [
          "way"
         ],
         "type": "scatter",
         "x": [
          0.5617901086807251
         ],
         "xaxis": "x",
         "y": [
          3.475079298019409
         ],
         "yaxis": "y"
        },
        {
         "hovertemplate": "index=%{text}<br>0=%{x}<br>1=%{y}<br>size=%{marker.size}<extra></extra>",
         "legendgroup": "with",
         "marker": {
          "color": "#FFA15A",
          "size": [
           10
          ],
          "sizemode": "area",
          "sizeref": 0.025,
          "symbol": "circle"
         },
         "mode": "markers+text",
         "name": "with",
         "orientation": "v",
         "showlegend": true,
         "text": [
          "with"
         ],
         "type": "scatter",
         "x": [
          0.10859629511833191
         ],
         "xaxis": "x",
         "y": [
          -1.0441551208496094
         ],
         "yaxis": "y"
        },
        {
         "hovertemplate": "index=%{text}<br>0=%{x}<br>1=%{y}<br>size=%{marker.size}<extra></extra>",
         "legendgroup": "workflows",
         "marker": {
          "color": "#19d3f3",
          "size": [
           10
          ],
          "sizemode": "area",
          "sizeref": 0.025,
          "symbol": "circle"
         },
         "mode": "markers+text",
         "name": "workflows",
         "orientation": "v",
         "showlegend": true,
         "text": [
          "workflows"
         ],
         "type": "scatter",
         "x": [
          2.035135269165039
         ],
         "xaxis": "x",
         "y": [
          3.4386796951293945
         ],
         "yaxis": "y"
        }
       ],
       "layout": {
        "height": 800,
        "legend": {
         "itemsizing": "constant",
         "title": {
          "text": "index"
         },
         "tracegroupgap": 0
        },
        "template": {
         "data": {
          "bar": [
           {
            "error_x": {
             "color": "#2a3f5f"
            },
            "error_y": {
             "color": "#2a3f5f"
            },
            "marker": {
             "line": {
              "color": "#E5ECF6",
              "width": 0.5
             },
             "pattern": {
              "fillmode": "overlay",
              "size": 10,
              "solidity": 0.2
             }
            },
            "type": "bar"
           }
          ],
          "barpolar": [
           {
            "marker": {
             "line": {
              "color": "#E5ECF6",
              "width": 0.5
             },
             "pattern": {
              "fillmode": "overlay",
              "size": 10,
              "solidity": 0.2
             }
            },
            "type": "barpolar"
           }
          ],
          "carpet": [
           {
            "aaxis": {
             "endlinecolor": "#2a3f5f",
             "gridcolor": "white",
             "linecolor": "white",
             "minorgridcolor": "white",
             "startlinecolor": "#2a3f5f"
            },
            "baxis": {
             "endlinecolor": "#2a3f5f",
             "gridcolor": "white",
             "linecolor": "white",
             "minorgridcolor": "white",
             "startlinecolor": "#2a3f5f"
            },
            "type": "carpet"
           }
          ],
          "choropleth": [
           {
            "colorbar": {
             "outlinewidth": 0,
             "ticks": ""
            },
            "type": "choropleth"
           }
          ],
          "contour": [
           {
            "colorbar": {
             "outlinewidth": 0,
             "ticks": ""
            },
            "colorscale": [
             [
              0,
              "#0d0887"
             ],
             [
              0.1111111111111111,
              "#46039f"
             ],
             [
              0.2222222222222222,
              "#7201a8"
             ],
             [
              0.3333333333333333,
              "#9c179e"
             ],
             [
              0.4444444444444444,
              "#bd3786"
             ],
             [
              0.5555555555555556,
              "#d8576b"
             ],
             [
              0.6666666666666666,
              "#ed7953"
             ],
             [
              0.7777777777777778,
              "#fb9f3a"
             ],
             [
              0.8888888888888888,
              "#fdca26"
             ],
             [
              1,
              "#f0f921"
             ]
            ],
            "type": "contour"
           }
          ],
          "contourcarpet": [
           {
            "colorbar": {
             "outlinewidth": 0,
             "ticks": ""
            },
            "type": "contourcarpet"
           }
          ],
          "heatmap": [
           {
            "colorbar": {
             "outlinewidth": 0,
             "ticks": ""
            },
            "colorscale": [
             [
              0,
              "#0d0887"
             ],
             [
              0.1111111111111111,
              "#46039f"
             ],
             [
              0.2222222222222222,
              "#7201a8"
             ],
             [
              0.3333333333333333,
              "#9c179e"
             ],
             [
              0.4444444444444444,
              "#bd3786"
             ],
             [
              0.5555555555555556,
              "#d8576b"
             ],
             [
              0.6666666666666666,
              "#ed7953"
             ],
             [
              0.7777777777777778,
              "#fb9f3a"
             ],
             [
              0.8888888888888888,
              "#fdca26"
             ],
             [
              1,
              "#f0f921"
             ]
            ],
            "type": "heatmap"
           }
          ],
          "heatmapgl": [
           {
            "colorbar": {
             "outlinewidth": 0,
             "ticks": ""
            },
            "colorscale": [
             [
              0,
              "#0d0887"
             ],
             [
              0.1111111111111111,
              "#46039f"
             ],
             [
              0.2222222222222222,
              "#7201a8"
             ],
             [
              0.3333333333333333,
              "#9c179e"
             ],
             [
              0.4444444444444444,
              "#bd3786"
             ],
             [
              0.5555555555555556,
              "#d8576b"
             ],
             [
              0.6666666666666666,
              "#ed7953"
             ],
             [
              0.7777777777777778,
              "#fb9f3a"
             ],
             [
              0.8888888888888888,
              "#fdca26"
             ],
             [
              1,
              "#f0f921"
             ]
            ],
            "type": "heatmapgl"
           }
          ],
          "histogram": [
           {
            "marker": {
             "pattern": {
              "fillmode": "overlay",
              "size": 10,
              "solidity": 0.2
             }
            },
            "type": "histogram"
           }
          ],
          "histogram2d": [
           {
            "colorbar": {
             "outlinewidth": 0,
             "ticks": ""
            },
            "colorscale": [
             [
              0,
              "#0d0887"
             ],
             [
              0.1111111111111111,
              "#46039f"
             ],
             [
              0.2222222222222222,
              "#7201a8"
             ],
             [
              0.3333333333333333,
              "#9c179e"
             ],
             [
              0.4444444444444444,
              "#bd3786"
             ],
             [
              0.5555555555555556,
              "#d8576b"
             ],
             [
              0.6666666666666666,
              "#ed7953"
             ],
             [
              0.7777777777777778,
              "#fb9f3a"
             ],
             [
              0.8888888888888888,
              "#fdca26"
             ],
             [
              1,
              "#f0f921"
             ]
            ],
            "type": "histogram2d"
           }
          ],
          "histogram2dcontour": [
           {
            "colorbar": {
             "outlinewidth": 0,
             "ticks": ""
            },
            "colorscale": [
             [
              0,
              "#0d0887"
             ],
             [
              0.1111111111111111,
              "#46039f"
             ],
             [
              0.2222222222222222,
              "#7201a8"
             ],
             [
              0.3333333333333333,
              "#9c179e"
             ],
             [
              0.4444444444444444,
              "#bd3786"
             ],
             [
              0.5555555555555556,
              "#d8576b"
             ],
             [
              0.6666666666666666,
              "#ed7953"
             ],
             [
              0.7777777777777778,
              "#fb9f3a"
             ],
             [
              0.8888888888888888,
              "#fdca26"
             ],
             [
              1,
              "#f0f921"
             ]
            ],
            "type": "histogram2dcontour"
           }
          ],
          "mesh3d": [
           {
            "colorbar": {
             "outlinewidth": 0,
             "ticks": ""
            },
            "type": "mesh3d"
           }
          ],
          "parcoords": [
           {
            "line": {
             "colorbar": {
              "outlinewidth": 0,
              "ticks": ""
             }
            },
            "type": "parcoords"
           }
          ],
          "pie": [
           {
            "automargin": true,
            "type": "pie"
           }
          ],
          "scatter": [
           {
            "fillpattern": {
             "fillmode": "overlay",
             "size": 10,
             "solidity": 0.2
            },
            "type": "scatter"
           }
          ],
          "scatter3d": [
           {
            "line": {
             "colorbar": {
              "outlinewidth": 0,
              "ticks": ""
             }
            },
            "marker": {
             "colorbar": {
              "outlinewidth": 0,
              "ticks": ""
             }
            },
            "type": "scatter3d"
           }
          ],
          "scattercarpet": [
           {
            "marker": {
             "colorbar": {
              "outlinewidth": 0,
              "ticks": ""
             }
            },
            "type": "scattercarpet"
           }
          ],
          "scattergeo": [
           {
            "marker": {
             "colorbar": {
              "outlinewidth": 0,
              "ticks": ""
             }
            },
            "type": "scattergeo"
           }
          ],
          "scattergl": [
           {
            "marker": {
             "colorbar": {
              "outlinewidth": 0,
              "ticks": ""
             }
            },
            "type": "scattergl"
           }
          ],
          "scattermapbox": [
           {
            "marker": {
             "colorbar": {
              "outlinewidth": 0,
              "ticks": ""
             }
            },
            "type": "scattermapbox"
           }
          ],
          "scatterpolar": [
           {
            "marker": {
             "colorbar": {
              "outlinewidth": 0,
              "ticks": ""
             }
            },
            "type": "scatterpolar"
           }
          ],
          "scatterpolargl": [
           {
            "marker": {
             "colorbar": {
              "outlinewidth": 0,
              "ticks": ""
             }
            },
            "type": "scatterpolargl"
           }
          ],
          "scatterternary": [
           {
            "marker": {
             "colorbar": {
              "outlinewidth": 0,
              "ticks": ""
             }
            },
            "type": "scatterternary"
           }
          ],
          "surface": [
           {
            "colorbar": {
             "outlinewidth": 0,
             "ticks": ""
            },
            "colorscale": [
             [
              0,
              "#0d0887"
             ],
             [
              0.1111111111111111,
              "#46039f"
             ],
             [
              0.2222222222222222,
              "#7201a8"
             ],
             [
              0.3333333333333333,
              "#9c179e"
             ],
             [
              0.4444444444444444,
              "#bd3786"
             ],
             [
              0.5555555555555556,
              "#d8576b"
             ],
             [
              0.6666666666666666,
              "#ed7953"
             ],
             [
              0.7777777777777778,
              "#fb9f3a"
             ],
             [
              0.8888888888888888,
              "#fdca26"
             ],
             [
              1,
              "#f0f921"
             ]
            ],
            "type": "surface"
           }
          ],
          "table": [
           {
            "cells": {
             "fill": {
              "color": "#EBF0F8"
             },
             "line": {
              "color": "white"
             }
            },
            "header": {
             "fill": {
              "color": "#C8D4E3"
             },
             "line": {
              "color": "white"
             }
            },
            "type": "table"
           }
          ]
         },
         "layout": {
          "annotationdefaults": {
           "arrowcolor": "#2a3f5f",
           "arrowhead": 0,
           "arrowwidth": 1
          },
          "autotypenumbers": "strict",
          "coloraxis": {
           "colorbar": {
            "outlinewidth": 0,
            "ticks": ""
           }
          },
          "colorscale": {
           "diverging": [
            [
             0,
             "#8e0152"
            ],
            [
             0.1,
             "#c51b7d"
            ],
            [
             0.2,
             "#de77ae"
            ],
            [
             0.3,
             "#f1b6da"
            ],
            [
             0.4,
             "#fde0ef"
            ],
            [
             0.5,
             "#f7f7f7"
            ],
            [
             0.6,
             "#e6f5d0"
            ],
            [
             0.7,
             "#b8e186"
            ],
            [
             0.8,
             "#7fbc41"
            ],
            [
             0.9,
             "#4d9221"
            ],
            [
             1,
             "#276419"
            ]
           ],
           "sequential": [
            [
             0,
             "#0d0887"
            ],
            [
             0.1111111111111111,
             "#46039f"
            ],
            [
             0.2222222222222222,
             "#7201a8"
            ],
            [
             0.3333333333333333,
             "#9c179e"
            ],
            [
             0.4444444444444444,
             "#bd3786"
            ],
            [
             0.5555555555555556,
             "#d8576b"
            ],
            [
             0.6666666666666666,
             "#ed7953"
            ],
            [
             0.7777777777777778,
             "#fb9f3a"
            ],
            [
             0.8888888888888888,
             "#fdca26"
            ],
            [
             1,
             "#f0f921"
            ]
           ],
           "sequentialminus": [
            [
             0,
             "#0d0887"
            ],
            [
             0.1111111111111111,
             "#46039f"
            ],
            [
             0.2222222222222222,
             "#7201a8"
            ],
            [
             0.3333333333333333,
             "#9c179e"
            ],
            [
             0.4444444444444444,
             "#bd3786"
            ],
            [
             0.5555555555555556,
             "#d8576b"
            ],
            [
             0.6666666666666666,
             "#ed7953"
            ],
            [
             0.7777777777777778,
             "#fb9f3a"
            ],
            [
             0.8888888888888888,
             "#fdca26"
            ],
            [
             1,
             "#f0f921"
            ]
           ]
          },
          "colorway": [
           "#636efa",
           "#EF553B",
           "#00cc96",
           "#ab63fa",
           "#FFA15A",
           "#19d3f3",
           "#FF6692",
           "#B6E880",
           "#FF97FF",
           "#FECB52"
          ],
          "font": {
           "color": "#2a3f5f"
          },
          "geo": {
           "bgcolor": "white",
           "lakecolor": "white",
           "landcolor": "#E5ECF6",
           "showlakes": true,
           "showland": true,
           "subunitcolor": "white"
          },
          "hoverlabel": {
           "align": "left"
          },
          "hovermode": "closest",
          "mapbox": {
           "style": "light"
          },
          "paper_bgcolor": "white",
          "plot_bgcolor": "#E5ECF6",
          "polar": {
           "angularaxis": {
            "gridcolor": "white",
            "linecolor": "white",
            "ticks": ""
           },
           "bgcolor": "#E5ECF6",
           "radialaxis": {
            "gridcolor": "white",
            "linecolor": "white",
            "ticks": ""
           }
          },
          "scene": {
           "xaxis": {
            "backgroundcolor": "#E5ECF6",
            "gridcolor": "white",
            "gridwidth": 2,
            "linecolor": "white",
            "showbackground": true,
            "ticks": "",
            "zerolinecolor": "white"
           },
           "yaxis": {
            "backgroundcolor": "#E5ECF6",
            "gridcolor": "white",
            "gridwidth": 2,
            "linecolor": "white",
            "showbackground": true,
            "ticks": "",
            "zerolinecolor": "white"
           },
           "zaxis": {
            "backgroundcolor": "#E5ECF6",
            "gridcolor": "white",
            "gridwidth": 2,
            "linecolor": "white",
            "showbackground": true,
            "ticks": "",
            "zerolinecolor": "white"
           }
          },
          "shapedefaults": {
           "line": {
            "color": "#2a3f5f"
           }
          },
          "ternary": {
           "aaxis": {
            "gridcolor": "white",
            "linecolor": "white",
            "ticks": ""
           },
           "baxis": {
            "gridcolor": "white",
            "linecolor": "white",
            "ticks": ""
           },
           "bgcolor": "#E5ECF6",
           "caxis": {
            "gridcolor": "white",
            "linecolor": "white",
            "ticks": ""
           }
          },
          "title": {
           "x": 0.05
          },
          "xaxis": {
           "automargin": true,
           "gridcolor": "white",
           "linecolor": "white",
           "ticks": "",
           "title": {
            "standoff": 15
           },
           "zerolinecolor": "white",
           "zerolinewidth": 2
          },
          "yaxis": {
           "automargin": true,
           "gridcolor": "white",
           "linecolor": "white",
           "ticks": "",
           "title": {
            "standoff": 15
           },
           "zerolinecolor": "white",
           "zerolinewidth": 2
          }
         }
        },
        "title": {
         "text": "Word Embeddings"
        },
        "width": 800,
        "xaxis": {
         "anchor": "y",
         "domain": [
          0,
          1
         ],
         "title": {
          "text": "0"
         }
        },
        "yaxis": {
         "anchor": "x",
         "domain": [
          0,
          1
         ],
         "title": {
          "text": "1"
         }
        }
       }
      }
     },
     "metadata": {},
     "output_type": "display_data"
    }
   ],
   "source": [
    "px.scatter(df_embeddings, x=0, y=1, text='index', width=800, height=800, color='index', \n",
    "            title='Word Embeddings', size= px.Constant(10),)"
   ]
  },
  {
   "cell_type": "markdown",
   "id": "0be4b37b",
   "metadata": {},
   "source": [
    "# 06. Aplicación\n",
    "\n",
    "Otras aplicación que se le puede dar a estos embeddings, es la de hacer un clustering de palabras, para ver que palabras son similares entre sí."
   ]
  },
  {
   "cell_type": "code",
   "execution_count": 15,
   "id": "e116aadf",
   "metadata": {},
   "outputs": [
    {
     "data": {
      "text/html": [
       "<div>\n",
       "<style scoped>\n",
       "    .dataframe tbody tr th:only-of-type {\n",
       "        vertical-align: middle;\n",
       "    }\n",
       "\n",
       "    .dataframe tbody tr th {\n",
       "        vertical-align: top;\n",
       "    }\n",
       "\n",
       "    .dataframe thead th {\n",
       "        text-align: right;\n",
       "    }\n",
       "</style>\n",
       "<table border=\"1\" class=\"dataframe\">\n",
       "  <thead>\n",
       "    <tr style=\"text-align: right;\">\n",
       "      <th></th>\n",
       "      <th>index</th>\n",
       "      <th>0</th>\n",
       "      <th>1</th>\n",
       "      <th>cluster</th>\n",
       "    </tr>\n",
       "  </thead>\n",
       "  <tbody>\n",
       "    <tr>\n",
       "      <th>0</th>\n",
       "      <td>accuracy</td>\n",
       "      <td>3.844739</td>\n",
       "      <td>-0.828558</td>\n",
       "      <td>0</td>\n",
       "    </tr>\n",
       "    <tr>\n",
       "      <th>1</th>\n",
       "      <td>actionable</td>\n",
       "      <td>-0.911966</td>\n",
       "      <td>-0.977006</td>\n",
       "      <td>1</td>\n",
       "    </tr>\n",
       "    <tr>\n",
       "      <th>2</th>\n",
       "      <td>advance</td>\n",
       "      <td>0.618811</td>\n",
       "      <td>-2.459892</td>\n",
       "      <td>2</td>\n",
       "    </tr>\n",
       "    <tr>\n",
       "      <th>3</th>\n",
       "      <td>against</td>\n",
       "      <td>-2.876210</td>\n",
       "      <td>3.611515</td>\n",
       "      <td>3</td>\n",
       "    </tr>\n",
       "    <tr>\n",
       "      <th>4</th>\n",
       "      <td>ai</td>\n",
       "      <td>-0.877574</td>\n",
       "      <td>0.115752</td>\n",
       "      <td>4</td>\n",
       "    </tr>\n",
       "    <tr>\n",
       "      <th>...</th>\n",
       "      <td>...</td>\n",
       "      <td>...</td>\n",
       "      <td>...</td>\n",
       "      <td>...</td>\n",
       "    </tr>\n",
       "    <tr>\n",
       "      <th>141</th>\n",
       "      <td>valuable</td>\n",
       "      <td>-0.355542</td>\n",
       "      <td>-3.764086</td>\n",
       "      <td>13</td>\n",
       "    </tr>\n",
       "    <tr>\n",
       "      <th>142</th>\n",
       "      <td>waiting</td>\n",
       "      <td>-3.606380</td>\n",
       "      <td>0.688864</td>\n",
       "      <td>18</td>\n",
       "    </tr>\n",
       "    <tr>\n",
       "      <th>143</th>\n",
       "      <td>way</td>\n",
       "      <td>0.561790</td>\n",
       "      <td>3.475079</td>\n",
       "      <td>11</td>\n",
       "    </tr>\n",
       "    <tr>\n",
       "      <th>144</th>\n",
       "      <td>with</td>\n",
       "      <td>0.108596</td>\n",
       "      <td>-1.044155</td>\n",
       "      <td>20</td>\n",
       "    </tr>\n",
       "    <tr>\n",
       "      <th>145</th>\n",
       "      <td>workflows</td>\n",
       "      <td>2.035135</td>\n",
       "      <td>3.438680</td>\n",
       "      <td>22</td>\n",
       "    </tr>\n",
       "  </tbody>\n",
       "</table>\n",
       "<p>146 rows × 4 columns</p>\n",
       "</div>"
      ],
      "text/plain": [
       "          index         0         1 cluster\n",
       "0      accuracy  3.844739 -0.828558       0\n",
       "1    actionable -0.911966 -0.977006       1\n",
       "2       advance  0.618811 -2.459892       2\n",
       "3       against -2.876210  3.611515       3\n",
       "4            ai -0.877574  0.115752       4\n",
       "..          ...       ...       ...     ...\n",
       "141    valuable -0.355542 -3.764086      13\n",
       "142     waiting -3.606380  0.688864      18\n",
       "143         way  0.561790  3.475079      11\n",
       "144        with  0.108596 -1.044155      20\n",
       "145   workflows  2.035135  3.438680      22\n",
       "\n",
       "[146 rows x 4 columns]"
      ]
     },
     "execution_count": 15,
     "metadata": {},
     "output_type": "execute_result"
    }
   ],
   "source": [
    "# Making clustering dbscan\n",
    "# import dbscan\n",
    "\n",
    "from sklearn.cluster import DBSCAN\n",
    "\n",
    "X = df_embeddings[[0, 1]].values\n",
    "clustering = DBSCAN(eps=0.5, min_samples=2).fit(X)\n",
    "df_embeddings['cluster'] = clustering.labels_\n",
    "df_embeddings['cluster']= df_embeddings['cluster'].astype(str)\n",
    "df_embeddings"
   ]
  },
  {
   "cell_type": "code",
   "execution_count": 16,
   "id": "12b3fc1f",
   "metadata": {},
   "outputs": [
    {
     "data": {
      "application/vnd.plotly.v1+json": {
       "config": {
        "plotlyServerURL": "https://plot.ly"
       },
       "data": [
        {
         "hovertemplate": "cluster=0<br>0=%{x}<br>1=%{y}<br>size=%{marker.size}<br>index=%{text}<extra></extra>",
         "legendgroup": "0",
         "marker": {
          "color": "#636efa",
          "size": [
           10,
           10,
           10,
           10,
           10,
           10
          ],
          "sizemode": "area",
          "sizeref": 0.025,
          "symbol": "circle"
         },
         "mode": "markers+text",
         "name": "0",
         "orientation": "v",
         "showlegend": true,
         "text": [
          "accuracy",
          "computations.",
          "enhance",
          "optimization",
          "speed",
          "techniques"
         ],
         "type": "scatter",
         "x": [
          3.8447389602661133,
          3.784764528274536,
          3.4681780338287354,
          3.5891716480255127,
          3.473139762878418,
          3.752615213394165
         ],
         "xaxis": "x",
         "y": [
          -0.8285580277442932,
          -0.8267874121665955,
          -0.7551677823066711,
          -0.7798925042152405,
          -0.7576184868812561,
          -0.8123151063919067
         ],
         "yaxis": "y"
        },
        {
         "hovertemplate": "cluster=1<br>0=%{x}<br>1=%{y}<br>size=%{marker.size}<br>index=%{text}<extra></extra>",
         "legendgroup": "1",
         "marker": {
          "color": "#EF553B",
          "size": [
           10,
           10,
           10,
           10,
           10,
           10
          ],
          "sizemode": "area",
          "sizeref": 0.025,
          "symbol": "circle"
         },
         "mode": "markers+text",
         "name": "1",
         "orientation": "v",
         "showlegend": true,
         "text": [
          "actionable",
          "into",
          "knowledge",
          "precision.",
          "raw",
          "transform"
         ],
         "type": "scatter",
         "x": [
          -0.9119657874107361,
          -0.9128022193908691,
          -0.9127570390701294,
          -0.9079442024230957,
          -0.9075012803077698,
          -0.9050490856170654
         ],
         "xaxis": "x",
         "y": [
          -0.9770063757896423,
          -0.976305365562439,
          -0.9808753728866577,
          -0.9763132929801941,
          -0.9753797054290771,
          -0.9690471887588501
         ],
         "yaxis": "y"
        },
        {
         "hovertemplate": "cluster=2<br>0=%{x}<br>1=%{y}<br>size=%{marker.size}<br>index=%{text}<extra></extra>",
         "legendgroup": "2",
         "marker": {
          "color": "#00cc96",
          "size": [
           10,
           10,
           10,
           10,
           10,
           10,
           10,
           10,
           10,
           10
          ],
          "sizemode": "area",
          "sizeref": 0.025,
          "symbol": "circle"
         },
         "mode": "markers+text",
         "name": "2",
         "orientation": "v",
         "showlegend": true,
         "text": [
          "advance",
          "applications.",
          "between",
          "bridge",
          "cutting-edge",
          "gap",
          "healthcare",
          "real-world",
          "research",
          "technologies."
         ],
         "type": "scatter",
         "x": [
          0.6188105344772339,
          0.8532990217208862,
          0.8565467000007629,
          0.8535176515579224,
          0.6189512014389038,
          0.8586404919624329,
          0.6174938678741455,
          0.8581188321113586,
          0.8555343747138977,
          0.6197127103805542
         ],
         "xaxis": "x",
         "y": [
          -2.4598915576934814,
          -2.1022536754608154,
          -2.142559766769409,
          -2.102663040161133,
          -2.3614282608032227,
          -2.1634902954101562,
          -2.534557580947876,
          -2.1581292152404785,
          -2.159086227416992,
          -2.459136962890625
         ],
         "yaxis": "y"
        },
        {
         "hovertemplate": "cluster=3<br>0=%{x}<br>1=%{y}<br>size=%{marker.size}<br>index=%{text}<extra></extra>",
         "legendgroup": "3",
         "marker": {
          "color": "#ab63fa",
          "size": [
           10,
           10,
           10,
           10,
           10,
           10
          ],
          "sizemode": "area",
          "sizeref": 0.025,
          "symbol": "circle"
         },
         "mode": "markers+text",
         "name": "3",
         "orientation": "v",
         "showlegend": true,
         "text": [
          "against",
          "cyber",
          "encryption",
          "shield",
          "strengthens",
          "threats."
         ],
         "type": "scatter",
         "x": [
          -2.8762104511260986,
          -2.8726367950439453,
          -2.9170658588409424,
          -2.7807602882385254,
          -2.9652271270751953,
          -2.944505214691162
         ],
         "xaxis": "x",
         "y": [
          3.6115152835845947,
          3.605459451675415,
          3.679016590118408,
          3.4375617504119873,
          3.692932367324829,
          3.695528745651245
         ],
         "yaxis": "y"
        },
        {
         "hovertemplate": "cluster=4<br>0=%{x}<br>1=%{y}<br>size=%{marker.size}<br>index=%{text}<extra></extra>",
         "legendgroup": "4",
         "marker": {
          "color": "#FFA15A",
          "size": [
           10,
           10,
           10,
           10,
           10,
           10,
           10,
           10
          ],
          "sizemode": "area",
          "sizeref": 0.025,
          "symbol": "circle"
         },
         "mode": "markers+text",
         "name": "4",
         "orientation": "v",
         "showlegend": true,
         "text": [
          "ai",
          "driving",
          "globally.",
          "in",
          "industries,",
          "innovation",
          "progress",
          "revolutionizes"
         ],
         "type": "scatter",
         "x": [
          -0.8775740265846252,
          -0.91508549451828,
          -0.9164260625839233,
          -0.7539235949516296,
          -0.9217162728309631,
          -0.914815366268158,
          -0.9222681522369385,
          -0.917574942111969
         ],
         "xaxis": "x",
         "y": [
          0.1157519668340683,
          0.8708668351173401,
          0.8703707456588745,
          0.5577829480171204,
          0.872103750705719,
          0.8719709515571594,
          0.8755288124084473,
          0.8695861101150513
         ],
         "yaxis": "y"
        },
        {
         "hovertemplate": "cluster=5<br>0=%{x}<br>1=%{y}<br>size=%{marker.size}<br>index=%{text}<extra></extra>",
         "legendgroup": "5",
         "marker": {
          "color": "#19d3f3",
          "size": [
           10,
           10,
           10,
           10,
           10
          ],
          "sizemode": "area",
          "sizeref": 0.025,
          "symbol": "circle"
         },
         "mode": "markers+text",
         "name": "5",
         "orientation": "v",
         "showlegend": true,
         "text": [
          "algorithms",
          "efficiency",
          "maximum",
          "optimize",
          "performance."
         ],
         "type": "scatter",
         "x": [
          0.4493086040019989,
          0.4547446668148041,
          0.4517287611961365,
          0.453054815530777,
          0.452263206243515
         ],
         "xaxis": "x",
         "y": [
          0.7195519208908081,
          0.7153995633125305,
          0.7160751223564148,
          0.7162811160087585,
          0.7169693112373352
         ],
         "yaxis": "y"
        },
        {
         "hovertemplate": "cluster=6<br>0=%{x}<br>1=%{y}<br>size=%{marker.size}<br>index=%{text}<extra></extra>",
         "legendgroup": "6",
         "marker": {
          "color": "#FF6692",
          "size": [
           10,
           10,
           10,
           10,
           10,
           10
          ],
          "sizemode": "area",
          "sizeref": 0.025,
          "symbol": "circle"
         },
         "mode": "markers+text",
         "name": "6",
         "orientation": "v",
         "showlegend": true,
         "text": [
          "amplifies",
          "artificial",
          "capabilities",
          "creativity.",
          "human",
          "intelligence"
         ],
         "type": "scatter",
         "x": [
          3.344940185546875,
          3.504326820373535,
          3.366781234741211,
          3.4723258018493652,
          3.353452444076538,
          3.3957407474517822
         ],
         "xaxis": "x",
         "y": [
          -2.9372739791870117,
          -3.0409467220306396,
          -2.9869191646575928,
          -3.050135850906372,
          -2.981549024581909,
          -3.0113725662231445
         ],
         "yaxis": "y"
        },
        {
         "hovertemplate": "cluster=7<br>0=%{x}<br>1=%{y}<br>size=%{marker.size}<br>index=%{text}<extra></extra>",
         "legendgroup": "7",
         "marker": {
          "color": "#B6E880",
          "size": [
           10,
           10,
           10,
           10,
           10
          ],
          "sizemode": "area",
          "sizeref": 0.025,
          "symbol": "circle"
         },
         "mode": "markers+text",
         "name": "7",
         "orientation": "v",
         "showlegend": true,
         "text": [
          "authenticity",
          "communications.",
          "confidentiality,",
          "ensure",
          "integrity,"
         ],
         "type": "scatter",
         "x": [
          -0.2730006277561188,
          -0.268898069858551,
          -0.2741345465183258,
          -0.27590709924697876,
          -0.2735576331615448
         ],
         "xaxis": "x",
         "y": [
          0.07793460786342621,
          0.07719343155622482,
          0.0815173014998436,
          0.07585921138525009,
          0.07844842970371246
         ],
         "yaxis": "y"
        },
        {
         "hovertemplate": "cluster=8<br>0=%{x}<br>1=%{y}<br>size=%{marker.size}<br>index=%{text}<extra></extra>",
         "legendgroup": "8",
         "marker": {
          "color": "#FF97FF",
          "size": [
           10,
           10,
           10,
           10,
           10
          ],
          "sizemode": "area",
          "sizeref": 0.025,
          "symbol": "circle"
         },
         "mode": "markers+text",
         "name": "8",
         "orientation": "v",
         "showlegend": true,
         "text": [
          "backbone",
          "digital",
          "form",
          "protocols",
          "transactions."
         ],
         "type": "scatter",
         "x": [
          2.631174325942993,
          2.6561684608459473,
          2.724294662475586,
          2.6788885593414307,
          2.6471362113952637
         ],
         "xaxis": "x",
         "y": [
          0.4148535132408142,
          0.41799792647361755,
          0.42759251594543457,
          0.42112669348716736,
          0.41916608810424805
         ],
         "yaxis": "y"
        },
        {
         "hovertemplate": "cluster=9<br>0=%{x}<br>1=%{y}<br>size=%{marker.size}<br>index=%{text}<extra></extra>",
         "legendgroup": "9",
         "marker": {
          "color": "#FECB52",
          "size": [
           10,
           10,
           10,
           10,
           10,
           10,
           10,
           10,
           10,
           10,
           10
          ],
          "sizemode": "area",
          "sizeref": 0.025,
          "symbol": "circle"
         },
         "mode": "markers+text",
         "name": "9",
         "orientation": "v",
         "showlegend": true,
         "text": [
          "balance",
          "challenges.",
          "effective",
          "find",
          "harness",
          "humanity's",
          "most",
          "pressing",
          "solve",
          "strategies.",
          "trade-offs"
         ],
         "type": "scatter",
         "x": [
          -2.04994797706604,
          -2.2373170852661133,
          -2.0944643020629883,
          -2.0521559715270996,
          -2.2002668380737305,
          -2.254122495651245,
          -2.2542219161987305,
          -2.2490952014923096,
          -2.2501373291015625,
          -2.0625531673431396,
          -2.0906620025634766
         ],
         "xaxis": "x",
         "y": [
          -2.732124090194702,
          -2.0537891387939453,
          -2.837508201599121,
          -2.7288835048675537,
          -2.0135650634765625,
          -2.0820200443267822,
          -2.4708690643310547,
          -2.0649361610412598,
          -2.070669412612915,
          -2.7405221462249756,
          -2.8063626289367676
         ],
         "yaxis": "y"
        },
        {
         "hovertemplate": "cluster=10<br>0=%{x}<br>1=%{y}<br>size=%{marker.size}<br>index=%{text}<extra></extra>",
         "legendgroup": "10",
         "marker": {
          "color": "#636efa",
          "size": [
           10,
           10,
           10,
           10
          ],
          "sizemode": "area",
          "sizeref": 0.025,
          "symbol": "circle"
         },
         "mode": "markers+text",
         "name": "10",
         "orientation": "v",
         "showlegend": true,
         "text": [
          "better",
          "discovery",
          "health",
          "hope"
         ],
         "type": "scatter",
         "x": [
          -0.3899218738079071,
          -0.40255269408226013,
          -0.38162991404533386,
          -0.38399145007133484
         ],
         "xaxis": "x",
         "y": [
          2.554445266723633,
          2.5909228324890137,
          2.5221424102783203,
          2.521413564682007
         ],
         "yaxis": "y"
        },
        {
         "hovertemplate": "cluster=11<br>0=%{x}<br>1=%{y}<br>size=%{marker.size}<br>index=%{text}<extra></extra>",
         "legendgroup": "11",
         "marker": {
          "color": "#EF553B",
          "size": [
           10,
           10,
           10,
           10,
           10,
           10
          ],
          "sizemode": "area",
          "sizeref": 0.025,
          "symbol": "circle"
         },
         "mode": "markers+text",
         "name": "11",
         "orientation": "v",
         "showlegend": true,
         "text": [
          "biomedical",
          "breakthroughs",
          "future.",
          "healthier",
          "pave",
          "way"
         ],
         "type": "scatter",
         "x": [
          0.5597951412200928,
          0.5656033158302307,
          0.5647532343864441,
          0.5678399801254272,
          0.5611791014671326,
          0.5617901086807251
         ],
         "xaxis": "x",
         "y": [
          3.64443039894104,
          3.445723056793213,
          3.4321420192718506,
          3.497243881225586,
          3.4373440742492676,
          3.475079298019409
         ],
         "yaxis": "y"
        },
        {
         "hovertemplate": "cluster=-1<br>0=%{x}<br>1=%{y}<br>size=%{marker.size}<br>index=%{text}<extra></extra>",
         "legendgroup": "-1",
         "marker": {
          "color": "#00cc96",
          "size": [
           10,
           10,
           10,
           10,
           10
          ],
          "sizemode": "area",
          "sizeref": 0.025,
          "symbol": "circle"
         },
         "mode": "markers+text",
         "name": "-1",
         "orientation": "v",
         "showlegend": true,
         "text": [
          "biomedicine",
          "brings",
          "for",
          "of",
          "outcomes."
         ],
         "type": "scatter",
         "x": [
          1.3826355934143066,
          -0.9820539355278015,
          0.2393873929977417,
          3.2921690940856934,
          0.532423734664917
         ],
         "xaxis": "x",
         "y": [
          -3.3119990825653076,
          1.501834750175476,
          1.6424568891525269,
          -0.07084880769252777,
          2.5261807441711426
         ],
         "yaxis": "y"
        },
        {
         "hovertemplate": "cluster=12<br>0=%{x}<br>1=%{y}<br>size=%{marker.size}<br>index=%{text}<extra></extra>",
         "legendgroup": "12",
         "marker": {
          "color": "#ab63fa",
          "size": [
           10,
           10,
           10,
           10
          ],
          "sizemode": "area",
          "sizeref": 0.025,
          "symbol": "circle"
         },
         "mode": "markers+text",
         "name": "12",
         "orientation": "v",
         "showlegend": true,
         "text": [
          "closer",
          "iteration",
          "optimal",
          "solutions."
         ],
         "type": "scatter",
         "x": [
          -2.852729320526123,
          -2.8573925495147705,
          -3.0027220249176025,
          -2.8592004776000977
         ],
         "xaxis": "x",
         "y": [
          1.08944833278656,
          1.0912542343139648,
          1.1226112842559814,
          1.087639570236206
         ],
         "yaxis": "y"
        },
        {
         "hovertemplate": "cluster=13<br>0=%{x}<br>1=%{y}<br>size=%{marker.size}<br>index=%{text}<extra></extra>",
         "legendgroup": "13",
         "marker": {
          "color": "#FFA15A",
          "size": [
           10,
           10,
           10,
           10,
           10,
           10,
           10
          ],
          "sizemode": "area",
          "sizeref": 0.025,
          "symbol": "circle"
         },
         "mode": "markers+text",
         "name": "13",
         "orientation": "v",
         "showlegend": true,
         "text": [
          "complex",
          "datasets",
          "ease.",
          "extract",
          "from",
          "insights",
          "valuable"
         ],
         "type": "scatter",
         "x": [
          -0.37840428948402405,
          -0.37461355328559875,
          -0.34434738755226135,
          -0.3699100911617279,
          -0.3377962112426758,
          -0.33621636033058167,
          -0.35554200410842896
         ],
         "xaxis": "x",
         "y": [
          -3.9015913009643555,
          -3.876516103744507,
          -3.710904836654663,
          -3.8572421073913574,
          -3.6758697032928467,
          -3.6502456665039062,
          -3.7640862464904785
         ],
         "yaxis": "y"
        },
        {
         "hovertemplate": "cluster=14<br>0=%{x}<br>1=%{y}<br>size=%{marker.size}<br>index=%{text}<extra></extra>",
         "legendgroup": "14",
         "marker": {
          "color": "#19d3f3",
          "size": [
           10,
           10,
           10,
           10,
           10,
           10
          ],
          "sizemode": "area",
          "sizeref": 0.025,
          "symbol": "circle"
         },
         "mode": "markers+text",
         "name": "14",
         "orientation": "v",
         "showlegend": true,
         "text": [
          "confidently.",
          "decisions",
          "empowers",
          "informed",
          "make",
          "science"
         ],
         "type": "scatter",
         "x": [
          -3.9700510501861572,
          -3.844707727432251,
          -3.8918800354003906,
          -3.7442917823791504,
          -4.011152267456055,
          -4.0473103523254395
         ],
         "xaxis": "x",
         "y": [
          -0.8100618720054626,
          -0.7857754230499268,
          -0.8041855692863464,
          -0.7683263421058655,
          -0.8198555707931519,
          -1.1069844961166382
         ],
         "yaxis": "y"
        },
        {
         "hovertemplate": "cluster=15<br>0=%{x}<br>1=%{y}<br>size=%{marker.size}<br>index=%{text}<extra></extra>",
         "legendgroup": "15",
         "marker": {
          "color": "#FF6692",
          "size": [
           10,
           10
          ],
          "sizemode": "area",
          "sizeref": 0.025,
          "symbol": "circle"
         },
         "mode": "markers+text",
         "name": "15",
         "orientation": "v",
         "showlegend": true,
         "text": [
          "cryptographic",
          "secure"
         ],
         "type": "scatter",
         "x": [
          1.4068031311035156,
          1.4121395349502563
         ],
         "xaxis": "x",
         "y": [
          -0.06411957740783691,
          -0.06304197758436203
         ],
         "yaxis": "y"
        },
        {
         "hovertemplate": "cluster=16<br>0=%{x}<br>1=%{y}<br>size=%{marker.size}<br>index=%{text}<extra></extra>",
         "legendgroup": "16",
         "marker": {
          "color": "#B6E880",
          "size": [
           10,
           10,
           10,
           10,
           10,
           10
          ],
          "sizemode": "area",
          "sizeref": 0.025,
          "symbol": "circle"
         },
         "mode": "markers+text",
         "name": "16",
         "orientation": "v",
         "showlegend": true,
         "text": [
          "cryptography",
          "data.",
          "privacy",
          "protects",
          "safeguards",
          "sensitive"
         ],
         "type": "scatter",
         "x": [
          3.546924114227295,
          3.328616142272949,
          3.444253444671631,
          3.322481632232666,
          3.530604600906372,
          3.5141282081604004
         ],
         "xaxis": "x",
         "y": [
          2.8610315322875977,
          2.6552248001098633,
          2.744107484817505,
          2.676776170730591,
          2.8156518936157227,
          2.7384767532348633
         ],
         "yaxis": "y"
        },
        {
         "hovertemplate": "cluster=17<br>0=%{x}<br>1=%{y}<br>size=%{marker.size}<br>index=%{text}<extra></extra>",
         "legendgroup": "17",
         "marker": {
          "color": "#FF97FF",
          "size": [
           10,
           10
          ],
          "sizemode": "area",
          "sizeref": 0.025,
          "symbol": "circle"
         },
         "mode": "markers+text",
         "name": "17",
         "orientation": "v",
         "showlegend": true,
         "text": [
          "data",
          "to"
         ],
         "type": "scatter",
         "x": [
          -2.4386110305786133,
          -2.373847007751465
         ],
         "xaxis": "x",
         "y": [
          -0.5581169128417969,
          -0.4619748890399933
         ],
         "yaxis": "y"
        },
        {
         "hovertemplate": "cluster=18<br>0=%{x}<br>1=%{y}<br>size=%{marker.size}<br>index=%{text}<extra></extra>",
         "legendgroup": "18",
         "marker": {
          "color": "#FECB52",
          "size": [
           10,
           10,
           10,
           10,
           10,
           10
          ],
          "sizemode": "area",
          "sizeref": 0.025,
          "symbol": "circle"
         },
         "mode": "markers+text",
         "name": "18",
         "orientation": "v",
         "showlegend": true,
         "text": [
          "discovered.",
          "me",
          "point",
          "story",
          "tells",
          "waiting"
         ],
         "type": "scatter",
         "x": [
          -3.399656295776367,
          -3.526776075363159,
          -3.4689245223999023,
          -3.607224941253662,
          -3.504673719406128,
          -3.606379747390747
         ],
         "xaxis": "x",
         "y": [
          0.6523001790046692,
          0.33317801356315613,
          0.6591078042984009,
          0.6854013800621033,
          0.670281708240509,
          0.6888635158538818
         ],
         "yaxis": "y"
        },
        {
         "hovertemplate": "cluster=19<br>0=%{x}<br>1=%{y}<br>size=%{marker.size}<br>index=%{text}<extra></extra>",
         "legendgroup": "19",
         "marker": {
          "color": "#636efa",
          "size": [
           10,
           10,
           10,
           10,
           10,
           10
          ],
          "sizemode": "area",
          "sizeref": 0.025,
          "symbol": "circle"
         },
         "mode": "markers+text",
         "name": "19",
         "orientation": "v",
         "showlegend": true,
         "text": [
          "every",
          "forward",
          "intelligence.",
          "leap",
          "model",
          "represents"
         ],
         "type": "scatter",
         "x": [
          -1.6674367189407349,
          -2.0921435356140137,
          -2.0940515995025635,
          -2.079296827316284,
          -2.1305112838745117,
          -2.0560786724090576
         ],
         "xaxis": "x",
         "y": [
          1.5123029947280884,
          1.4197657108306885,
          1.4158470630645752,
          1.4125924110412598,
          1.4317132234573364,
          1.4037044048309326
         ],
         "yaxis": "y"
        },
        {
         "hovertemplate": "cluster=20<br>0=%{x}<br>1=%{y}<br>size=%{marker.size}<br>index=%{text}<extra></extra>",
         "legendgroup": "20",
         "marker": {
          "color": "#EF553B",
          "size": [
           10,
           10,
           10,
           10,
           10,
           10
          ],
          "sizemode": "area",
          "sizeref": 0.025,
          "symbol": "circle"
         },
         "mode": "markers+text",
         "name": "20",
         "orientation": "v",
         "showlegend": true,
         "text": [
          "future",
          "groundbreaking",
          "i",
          "innovations.",
          "pioneer",
          "with"
         ],
         "type": "scatter",
         "x": [
          -0.40363574028015137,
          -0.3928287625312805,
          -0.027497179806232452,
          -0.3940069079399109,
          -0.3926553726196289,
          0.10859629511833191
         ],
         "xaxis": "x",
         "y": [
          -0.7882060408592224,
          -0.7695173621177673,
          -0.6051653027534485,
          -0.7757701873779297,
          -0.7769567370414734,
          -1.0441551208496094
         ],
         "yaxis": "y"
        },
        {
         "hovertemplate": "cluster=21<br>0=%{x}<br>1=%{y}<br>size=%{marker.size}<br>index=%{text}<extra></extra>",
         "legendgroup": "21",
         "marker": {
          "color": "#00cc96",
          "size": [
           10,
           10,
           10,
           10
          ],
          "sizemode": "area",
          "sizeref": 0.025,
          "symbol": "circle"
         },
         "mode": "markers+text",
         "name": "21",
         "orientation": "v",
         "showlegend": true,
         "text": [
          "hidden",
          "key",
          "potentials.",
          "unlocking"
         ],
         "type": "scatter",
         "x": [
          -3.5309810638427734,
          -3.3545336723327637,
          -3.404134750366211,
          -3.4765987396240234
         ],
         "xaxis": "x",
         "y": [
          -1.3813949823379517,
          -1.3037981986999512,
          -1.3171030282974243,
          -1.3477500677108765
         ],
         "yaxis": "y"
        },
        {
         "hovertemplate": "cluster=22<br>0=%{x}<br>1=%{y}<br>size=%{marker.size}<br>index=%{text}<extra></extra>",
         "legendgroup": "22",
         "marker": {
          "color": "#ab63fa",
          "size": [
           10,
           10,
           10,
           10,
           10
          ],
          "sizemode": "area",
          "sizeref": 0.025,
          "symbol": "circle"
         },
         "mode": "markers+text",
         "name": "22",
         "orientation": "v",
         "showlegend": true,
         "text": [
          "improve",
          "optimized",
          "processes",
          "streamline",
          "workflows"
         ],
         "type": "scatter",
         "x": [
          1.989988088607788,
          2.0274300575256348,
          2.0315098762512207,
          1.9732989072799683,
          2.035135269165039
         ],
         "xaxis": "x",
         "y": [
          3.3094654083251953,
          3.381287097930908,
          3.416522264480591,
          3.242666006088257,
          3.4386796951293945
         ],
         "yaxis": "y"
        },
        {
         "hovertemplate": "cluster=23<br>0=%{x}<br>1=%{y}<br>size=%{marker.size}<br>index=%{text}<extra></extra>",
         "legendgroup": "23",
         "marker": {
          "color": "#FFA15A",
          "size": [
           10,
           10,
           10
          ],
          "sizemode": "area",
          "sizeref": 0.025,
          "symbol": "circle"
         },
         "mode": "markers+text",
         "name": "23",
         "orientation": "v",
         "showlegend": true,
         "text": [
          "information",
          "techniques.",
          "unbreakable"
         ],
         "type": "scatter",
         "x": [
          0.8931724429130554,
          0.8857831954956055,
          0.8847641348838806
         ],
         "xaxis": "x",
         "y": [
          -0.4051660895347595,
          -0.4097880423069,
          -0.41493669152259827
         ],
         "yaxis": "y"
        },
        {
         "hovertemplate": "cluster=24<br>0=%{x}<br>1=%{y}<br>size=%{marker.size}<br>index=%{text}<extra></extra>",
         "legendgroup": "24",
         "marker": {
          "color": "#19d3f3",
          "size": [
           10,
           10,
           10,
           10,
           10,
           10
          ],
          "sizemode": "area",
          "sizeref": 0.025,
          "symbol": "circle"
         },
         "mode": "markers+text",
         "name": "24",
         "orientation": "v",
         "showlegend": true,
         "text": [
          "innovative",
          "lives",
          "therapies.",
          "through",
          "transforms",
          "treatments"
         ],
         "type": "scatter",
         "x": [
          2.4497830867767334,
          2.4941859245300293,
          2.478214740753174,
          2.510554552078247,
          2.471428394317627,
          2.421086072921753
         ],
         "xaxis": "x",
         "y": [
          -3.72609806060791,
          -4.063877105712891,
          -3.861992597579956,
          -3.984818458557129,
          -3.934751510620117,
          -3.7434706687927246
         ],
         "yaxis": "y"
        }
       ],
       "layout": {
        "height": 800,
        "legend": {
         "itemsizing": "constant",
         "title": {
          "text": "cluster"
         },
         "tracegroupgap": 0
        },
        "template": {
         "data": {
          "bar": [
           {
            "error_x": {
             "color": "#2a3f5f"
            },
            "error_y": {
             "color": "#2a3f5f"
            },
            "marker": {
             "line": {
              "color": "#E5ECF6",
              "width": 0.5
             },
             "pattern": {
              "fillmode": "overlay",
              "size": 10,
              "solidity": 0.2
             }
            },
            "type": "bar"
           }
          ],
          "barpolar": [
           {
            "marker": {
             "line": {
              "color": "#E5ECF6",
              "width": 0.5
             },
             "pattern": {
              "fillmode": "overlay",
              "size": 10,
              "solidity": 0.2
             }
            },
            "type": "barpolar"
           }
          ],
          "carpet": [
           {
            "aaxis": {
             "endlinecolor": "#2a3f5f",
             "gridcolor": "white",
             "linecolor": "white",
             "minorgridcolor": "white",
             "startlinecolor": "#2a3f5f"
            },
            "baxis": {
             "endlinecolor": "#2a3f5f",
             "gridcolor": "white",
             "linecolor": "white",
             "minorgridcolor": "white",
             "startlinecolor": "#2a3f5f"
            },
            "type": "carpet"
           }
          ],
          "choropleth": [
           {
            "colorbar": {
             "outlinewidth": 0,
             "ticks": ""
            },
            "type": "choropleth"
           }
          ],
          "contour": [
           {
            "colorbar": {
             "outlinewidth": 0,
             "ticks": ""
            },
            "colorscale": [
             [
              0,
              "#0d0887"
             ],
             [
              0.1111111111111111,
              "#46039f"
             ],
             [
              0.2222222222222222,
              "#7201a8"
             ],
             [
              0.3333333333333333,
              "#9c179e"
             ],
             [
              0.4444444444444444,
              "#bd3786"
             ],
             [
              0.5555555555555556,
              "#d8576b"
             ],
             [
              0.6666666666666666,
              "#ed7953"
             ],
             [
              0.7777777777777778,
              "#fb9f3a"
             ],
             [
              0.8888888888888888,
              "#fdca26"
             ],
             [
              1,
              "#f0f921"
             ]
            ],
            "type": "contour"
           }
          ],
          "contourcarpet": [
           {
            "colorbar": {
             "outlinewidth": 0,
             "ticks": ""
            },
            "type": "contourcarpet"
           }
          ],
          "heatmap": [
           {
            "colorbar": {
             "outlinewidth": 0,
             "ticks": ""
            },
            "colorscale": [
             [
              0,
              "#0d0887"
             ],
             [
              0.1111111111111111,
              "#46039f"
             ],
             [
              0.2222222222222222,
              "#7201a8"
             ],
             [
              0.3333333333333333,
              "#9c179e"
             ],
             [
              0.4444444444444444,
              "#bd3786"
             ],
             [
              0.5555555555555556,
              "#d8576b"
             ],
             [
              0.6666666666666666,
              "#ed7953"
             ],
             [
              0.7777777777777778,
              "#fb9f3a"
             ],
             [
              0.8888888888888888,
              "#fdca26"
             ],
             [
              1,
              "#f0f921"
             ]
            ],
            "type": "heatmap"
           }
          ],
          "heatmapgl": [
           {
            "colorbar": {
             "outlinewidth": 0,
             "ticks": ""
            },
            "colorscale": [
             [
              0,
              "#0d0887"
             ],
             [
              0.1111111111111111,
              "#46039f"
             ],
             [
              0.2222222222222222,
              "#7201a8"
             ],
             [
              0.3333333333333333,
              "#9c179e"
             ],
             [
              0.4444444444444444,
              "#bd3786"
             ],
             [
              0.5555555555555556,
              "#d8576b"
             ],
             [
              0.6666666666666666,
              "#ed7953"
             ],
             [
              0.7777777777777778,
              "#fb9f3a"
             ],
             [
              0.8888888888888888,
              "#fdca26"
             ],
             [
              1,
              "#f0f921"
             ]
            ],
            "type": "heatmapgl"
           }
          ],
          "histogram": [
           {
            "marker": {
             "pattern": {
              "fillmode": "overlay",
              "size": 10,
              "solidity": 0.2
             }
            },
            "type": "histogram"
           }
          ],
          "histogram2d": [
           {
            "colorbar": {
             "outlinewidth": 0,
             "ticks": ""
            },
            "colorscale": [
             [
              0,
              "#0d0887"
             ],
             [
              0.1111111111111111,
              "#46039f"
             ],
             [
              0.2222222222222222,
              "#7201a8"
             ],
             [
              0.3333333333333333,
              "#9c179e"
             ],
             [
              0.4444444444444444,
              "#bd3786"
             ],
             [
              0.5555555555555556,
              "#d8576b"
             ],
             [
              0.6666666666666666,
              "#ed7953"
             ],
             [
              0.7777777777777778,
              "#fb9f3a"
             ],
             [
              0.8888888888888888,
              "#fdca26"
             ],
             [
              1,
              "#f0f921"
             ]
            ],
            "type": "histogram2d"
           }
          ],
          "histogram2dcontour": [
           {
            "colorbar": {
             "outlinewidth": 0,
             "ticks": ""
            },
            "colorscale": [
             [
              0,
              "#0d0887"
             ],
             [
              0.1111111111111111,
              "#46039f"
             ],
             [
              0.2222222222222222,
              "#7201a8"
             ],
             [
              0.3333333333333333,
              "#9c179e"
             ],
             [
              0.4444444444444444,
              "#bd3786"
             ],
             [
              0.5555555555555556,
              "#d8576b"
             ],
             [
              0.6666666666666666,
              "#ed7953"
             ],
             [
              0.7777777777777778,
              "#fb9f3a"
             ],
             [
              0.8888888888888888,
              "#fdca26"
             ],
             [
              1,
              "#f0f921"
             ]
            ],
            "type": "histogram2dcontour"
           }
          ],
          "mesh3d": [
           {
            "colorbar": {
             "outlinewidth": 0,
             "ticks": ""
            },
            "type": "mesh3d"
           }
          ],
          "parcoords": [
           {
            "line": {
             "colorbar": {
              "outlinewidth": 0,
              "ticks": ""
             }
            },
            "type": "parcoords"
           }
          ],
          "pie": [
           {
            "automargin": true,
            "type": "pie"
           }
          ],
          "scatter": [
           {
            "fillpattern": {
             "fillmode": "overlay",
             "size": 10,
             "solidity": 0.2
            },
            "type": "scatter"
           }
          ],
          "scatter3d": [
           {
            "line": {
             "colorbar": {
              "outlinewidth": 0,
              "ticks": ""
             }
            },
            "marker": {
             "colorbar": {
              "outlinewidth": 0,
              "ticks": ""
             }
            },
            "type": "scatter3d"
           }
          ],
          "scattercarpet": [
           {
            "marker": {
             "colorbar": {
              "outlinewidth": 0,
              "ticks": ""
             }
            },
            "type": "scattercarpet"
           }
          ],
          "scattergeo": [
           {
            "marker": {
             "colorbar": {
              "outlinewidth": 0,
              "ticks": ""
             }
            },
            "type": "scattergeo"
           }
          ],
          "scattergl": [
           {
            "marker": {
             "colorbar": {
              "outlinewidth": 0,
              "ticks": ""
             }
            },
            "type": "scattergl"
           }
          ],
          "scattermapbox": [
           {
            "marker": {
             "colorbar": {
              "outlinewidth": 0,
              "ticks": ""
             }
            },
            "type": "scattermapbox"
           }
          ],
          "scatterpolar": [
           {
            "marker": {
             "colorbar": {
              "outlinewidth": 0,
              "ticks": ""
             }
            },
            "type": "scatterpolar"
           }
          ],
          "scatterpolargl": [
           {
            "marker": {
             "colorbar": {
              "outlinewidth": 0,
              "ticks": ""
             }
            },
            "type": "scatterpolargl"
           }
          ],
          "scatterternary": [
           {
            "marker": {
             "colorbar": {
              "outlinewidth": 0,
              "ticks": ""
             }
            },
            "type": "scatterternary"
           }
          ],
          "surface": [
           {
            "colorbar": {
             "outlinewidth": 0,
             "ticks": ""
            },
            "colorscale": [
             [
              0,
              "#0d0887"
             ],
             [
              0.1111111111111111,
              "#46039f"
             ],
             [
              0.2222222222222222,
              "#7201a8"
             ],
             [
              0.3333333333333333,
              "#9c179e"
             ],
             [
              0.4444444444444444,
              "#bd3786"
             ],
             [
              0.5555555555555556,
              "#d8576b"
             ],
             [
              0.6666666666666666,
              "#ed7953"
             ],
             [
              0.7777777777777778,
              "#fb9f3a"
             ],
             [
              0.8888888888888888,
              "#fdca26"
             ],
             [
              1,
              "#f0f921"
             ]
            ],
            "type": "surface"
           }
          ],
          "table": [
           {
            "cells": {
             "fill": {
              "color": "#EBF0F8"
             },
             "line": {
              "color": "white"
             }
            },
            "header": {
             "fill": {
              "color": "#C8D4E3"
             },
             "line": {
              "color": "white"
             }
            },
            "type": "table"
           }
          ]
         },
         "layout": {
          "annotationdefaults": {
           "arrowcolor": "#2a3f5f",
           "arrowhead": 0,
           "arrowwidth": 1
          },
          "autotypenumbers": "strict",
          "coloraxis": {
           "colorbar": {
            "outlinewidth": 0,
            "ticks": ""
           }
          },
          "colorscale": {
           "diverging": [
            [
             0,
             "#8e0152"
            ],
            [
             0.1,
             "#c51b7d"
            ],
            [
             0.2,
             "#de77ae"
            ],
            [
             0.3,
             "#f1b6da"
            ],
            [
             0.4,
             "#fde0ef"
            ],
            [
             0.5,
             "#f7f7f7"
            ],
            [
             0.6,
             "#e6f5d0"
            ],
            [
             0.7,
             "#b8e186"
            ],
            [
             0.8,
             "#7fbc41"
            ],
            [
             0.9,
             "#4d9221"
            ],
            [
             1,
             "#276419"
            ]
           ],
           "sequential": [
            [
             0,
             "#0d0887"
            ],
            [
             0.1111111111111111,
             "#46039f"
            ],
            [
             0.2222222222222222,
             "#7201a8"
            ],
            [
             0.3333333333333333,
             "#9c179e"
            ],
            [
             0.4444444444444444,
             "#bd3786"
            ],
            [
             0.5555555555555556,
             "#d8576b"
            ],
            [
             0.6666666666666666,
             "#ed7953"
            ],
            [
             0.7777777777777778,
             "#fb9f3a"
            ],
            [
             0.8888888888888888,
             "#fdca26"
            ],
            [
             1,
             "#f0f921"
            ]
           ],
           "sequentialminus": [
            [
             0,
             "#0d0887"
            ],
            [
             0.1111111111111111,
             "#46039f"
            ],
            [
             0.2222222222222222,
             "#7201a8"
            ],
            [
             0.3333333333333333,
             "#9c179e"
            ],
            [
             0.4444444444444444,
             "#bd3786"
            ],
            [
             0.5555555555555556,
             "#d8576b"
            ],
            [
             0.6666666666666666,
             "#ed7953"
            ],
            [
             0.7777777777777778,
             "#fb9f3a"
            ],
            [
             0.8888888888888888,
             "#fdca26"
            ],
            [
             1,
             "#f0f921"
            ]
           ]
          },
          "colorway": [
           "#636efa",
           "#EF553B",
           "#00cc96",
           "#ab63fa",
           "#FFA15A",
           "#19d3f3",
           "#FF6692",
           "#B6E880",
           "#FF97FF",
           "#FECB52"
          ],
          "font": {
           "color": "#2a3f5f"
          },
          "geo": {
           "bgcolor": "white",
           "lakecolor": "white",
           "landcolor": "#E5ECF6",
           "showlakes": true,
           "showland": true,
           "subunitcolor": "white"
          },
          "hoverlabel": {
           "align": "left"
          },
          "hovermode": "closest",
          "mapbox": {
           "style": "light"
          },
          "paper_bgcolor": "white",
          "plot_bgcolor": "#E5ECF6",
          "polar": {
           "angularaxis": {
            "gridcolor": "white",
            "linecolor": "white",
            "ticks": ""
           },
           "bgcolor": "#E5ECF6",
           "radialaxis": {
            "gridcolor": "white",
            "linecolor": "white",
            "ticks": ""
           }
          },
          "scene": {
           "xaxis": {
            "backgroundcolor": "#E5ECF6",
            "gridcolor": "white",
            "gridwidth": 2,
            "linecolor": "white",
            "showbackground": true,
            "ticks": "",
            "zerolinecolor": "white"
           },
           "yaxis": {
            "backgroundcolor": "#E5ECF6",
            "gridcolor": "white",
            "gridwidth": 2,
            "linecolor": "white",
            "showbackground": true,
            "ticks": "",
            "zerolinecolor": "white"
           },
           "zaxis": {
            "backgroundcolor": "#E5ECF6",
            "gridcolor": "white",
            "gridwidth": 2,
            "linecolor": "white",
            "showbackground": true,
            "ticks": "",
            "zerolinecolor": "white"
           }
          },
          "shapedefaults": {
           "line": {
            "color": "#2a3f5f"
           }
          },
          "ternary": {
           "aaxis": {
            "gridcolor": "white",
            "linecolor": "white",
            "ticks": ""
           },
           "baxis": {
            "gridcolor": "white",
            "linecolor": "white",
            "ticks": ""
           },
           "bgcolor": "#E5ECF6",
           "caxis": {
            "gridcolor": "white",
            "linecolor": "white",
            "ticks": ""
           }
          },
          "title": {
           "x": 0.05
          },
          "xaxis": {
           "automargin": true,
           "gridcolor": "white",
           "linecolor": "white",
           "ticks": "",
           "title": {
            "standoff": 15
           },
           "zerolinecolor": "white",
           "zerolinewidth": 2
          },
          "yaxis": {
           "automargin": true,
           "gridcolor": "white",
           "linecolor": "white",
           "ticks": "",
           "title": {
            "standoff": 15
           },
           "zerolinecolor": "white",
           "zerolinewidth": 2
          }
         }
        },
        "title": {
         "text": "Word Embeddings clusters"
        },
        "width": 800,
        "xaxis": {
         "anchor": "y",
         "domain": [
          0,
          1
         ],
         "title": {
          "text": "0"
         }
        },
        "yaxis": {
         "anchor": "x",
         "domain": [
          0,
          1
         ],
         "title": {
          "text": "1"
         }
        }
       }
      }
     },
     "metadata": {},
     "output_type": "display_data"
    }
   ],
   "source": [
    "px.scatter(df_embeddings, x=0, y=1, text='index', width=800, height=800, color='cluster', \n",
    "            title='Word Embeddings clusters', size= px.Constant(10))"
   ]
  }
 ],
 "metadata": {
  "kernelspec": {
   "display_name": "Python 3",
   "language": "python",
   "name": "python3"
  },
  "language_info": {
   "codemirror_mode": {
    "name": "ipython",
    "version": 3
   },
   "file_extension": ".py",
   "mimetype": "text/x-python",
   "name": "python",
   "nbconvert_exporter": "python",
   "pygments_lexer": "ipython3",
   "version": "3.9.13"
  },
  "vscode": {
   "interpreter": {
    "hash": "f06e3119828c145c4028f0fee76387e74b42caa79bccb80b4ba64fe213bb9e06"
   }
  }
 },
 "nbformat": 4,
 "nbformat_minor": 5
}
